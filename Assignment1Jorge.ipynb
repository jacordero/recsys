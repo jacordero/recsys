{
 "cells": [
  {
   "cell_type": "markdown",
   "metadata": {},
   "source": [
    "# Assignment 1\n"
   ]
  },
  {
   "cell_type": "code",
   "execution_count": 1,
   "metadata": {},
   "outputs": [
    {
     "name": "stderr",
     "output_type": "stream",
     "text": [
      "/home/jorge/.local/share/virtualenvs/RecommenderSystems-c5N1t04d/lib/python3.5/site-packages/h5py/__init__.py:36: FutureWarning: Conversion of the second argument of issubdtype from `float` to `np.floating` is deprecated. In future, it will be treated as `np.float64 == np.dtype(float).type`.\n",
      "  from ._conv import register_converters as _register_converters\n",
      "Using TensorFlow backend.\n"
     ]
    }
   ],
   "source": [
    "import numpy as np\n",
    "np.random.seed(13) #TODO Check if this is used for sgd\n",
    "import keras.backend as K\n",
    "from keras.models import Sequential\n",
    "from keras.layers import Dense, Embedding, Reshape, Lambda\n",
    "from keras.utils import np_utils\n",
    "from keras.utils.data_utils import get_file\n",
    "from keras.preprocessing.text import Tokenizer\n",
    "from keras.utils.vis_utils import model_to_dot\n",
    "from keras.preprocessing import sequence\n",
    "from gensim.models import KeyedVectors\n",
    "from sklearn.manifold import TSNE\n",
    "from sklearn.metrics.pairwise import cosine_similarity\n",
    "from sklearn.neighbors import NearestNeighbors as nn\n",
    "from matplotlib import pylab\n",
    "from __future__ import division\n",
    "import matplotlib.pyplot as plt"
   ]
  },
  {
   "cell_type": "code",
   "execution_count": 2,
   "metadata": {},
   "outputs": [],
   "source": [
    "# DO NOT Modify the lines in this cell\n",
    "path = 'alice.txt'\n",
    "corpus = open(path).readlines()[0:700]\n",
    "\n",
    "corpus = [sentence for sentence in corpus if sentence.count(\" \") >= 2]\n",
    "\n",
    "tokenizer = Tokenizer(filters='!\"#$%&()*+,-./:;<=>?@[\\\\]^_`{|}~\\t\\n'+\"'\")\n",
    "tokenizer.fit_on_texts(corpus)\n",
    "corpus = tokenizer.texts_to_sequences(corpus)\n",
    "nb_samples = sum(len(s) for s in corpus)\n",
    "V = len(tokenizer.word_index) + 1\n",
    "\n",
    "# Is this something they need to change?\n",
    "dim = 100\n",
    "window_size = 2 #use this window size for Skipgram, CBOW, and the model with the additional hidden layer\n",
    "window_size_corpus = 4 #use this window size for the co-occurrence matrix"
   ]
  },
  {
   "cell_type": "markdown",
   "metadata": {},
   "source": [
    "## Question 1\n",
    "\n",
    "### Co-occurrence Matrix\n",
    "Use the provided code to load the \"Alice in Wonderland\" text document. \n",
    "1. Implement the word-word co-occurrence matrix for “Alice in Wonderland”\n",
    "2. Normalize the words such that every value lies within a range of 0 and 1\n",
    "3. Compute the cosine distance between the given words:\n",
    "    - Alice \n",
    "    - Dinah\n",
    "    - Rabbit\n",
    "4. List the 5 closest words to 'Alice'. Discuss the results.\n",
    "5. Discuss what the main drawbacks are of a term-term co-occurence matrix solutions?\n"
   ]
  },
  {
   "cell_type": "code",
   "execution_count": 3,
   "metadata": {},
   "outputs": [],
   "source": [
    "# create inverted index to help recover the words from indexes\n",
    "inverted_index = {}\n",
    "for word, i in tokenizer.word_index.items():\n",
    "    inverted_index[i] = word\n",
    "    \n",
    "#print(inverted_index)"
   ]
  },
  {
   "cell_type": "markdown",
   "metadata": {},
   "source": [
    "### Word-word co-ocurrence matrix and normalization"
   ]
  },
  {
   "cell_type": "code",
   "execution_count": 90,
   "metadata": {},
   "outputs": [],
   "source": [
    "#create co-occurrence matrix\n",
    "#print(corpus[0])\n",
    "coMatrix = np.zeros((V, V))\n",
    "total = 0\n",
    "for sequence in corpus:\n",
    "    for idx, termId in enumerate(sequence):\n",
    "        sl = len(sequence)\n",
    "        ## select left window\n",
    "        leftw = sequence[max(idx - window_size_corpus, 0): idx]\n",
    "        ## select right window\n",
    "        rightw = sequence[idx + 1: min(idx + window_size_corpus + 1, sl)]\n",
    "        # update co-occurrence matrix\n",
    "        neighboors = leftw + rightw\n",
    "        for neighbor in neighboors:\n",
    "            coMatrix[termId, neighbor] += 1\n",
    "            total += 1\n",
    "        \n",
    "\n",
    "# matrix normalization over the total number of the frequencies in the matrix\n",
    "# as recommended in class\n",
    "(rows, columns) = coMatrix.shape\n",
    "for rowIdx in range(rows):\n",
    "    # ignore first row with 0 entries everywhere\n",
    "    if (rowIdx > 0):\n",
    "        row = coMatrix[rowIdx]\n",
    "        #total = row.sum()\n",
    "        # avoid division by zero in words that have no neighboors\n",
    "        if total > 0:\n",
    "            coMatrix[rowIdx] = np.divide(row, total)\n"
   ]
  },
  {
   "cell_type": "code",
   "execution_count": 89,
   "metadata": {},
   "outputs": [
    {
     "name": "stdout",
     "output_type": "stream",
     "text": [
      "[[0.00000000e+00 0.00000000e+00 0.00000000e+00 ... 0.00000000e+00\n",
      "  0.00000000e+00 0.00000000e+00]\n",
      " [0.00000000e+00 1.10132159e-03 1.69986593e-03 ... 2.39417736e-05\n",
      "  0.00000000e+00 0.00000000e+00]\n",
      " [0.00000000e+00 1.69986593e-03 4.30951925e-04 ... 2.39417736e-05\n",
      "  2.39417736e-05 2.39417736e-05]\n",
      " ...\n",
      " [0.00000000e+00 2.39417736e-05 2.39417736e-05 ... 0.00000000e+00\n",
      "  0.00000000e+00 0.00000000e+00]\n",
      " [0.00000000e+00 0.00000000e+00 2.39417736e-05 ... 0.00000000e+00\n",
      "  0.00000000e+00 0.00000000e+00]\n",
      " [0.00000000e+00 0.00000000e+00 2.39417736e-05 ... 0.00000000e+00\n",
      "  0.00000000e+00 0.00000000e+00]]\n"
     ]
    }
   ],
   "source": [
    "print(coMatrix)"
   ]
  },
  {
   "cell_type": "code",
   "execution_count": 5,
   "metadata": {},
   "outputs": [
    {
     "name": "stdout",
     "output_type": "stream",
     "text": [
      "[[0.         0.02646503 0.03402647 ... 0.         0.         0.        ]]\n",
      "[[0.         0.03448276 0.03448276 ... 0.         0.         0.        ]]\n",
      "[[0.         0.13559322 0.00847458 ... 0.         0.         0.        ]]\n",
      "Cosine similarity between Alice and Dinah: [[0.39360011]]\n",
      "Cosine similarity between Alice and Rabbit: [[0.47890931]]\n",
      "Cosine similarity between Dinah and Rabbit: [[0.29862324]]\n"
     ]
    }
   ],
   "source": [
    "#find cosine similarity to Alice, Dinah and Rabbit\n",
    "aliceIdx = tokenizer.word_index['Alice'.lower()]\n",
    "dinahIdx = tokenizer.word_index['Dinah'.lower()]\n",
    "rabbitIdx = tokenizer.word_index['Rabbit'.lower()]\n",
    "\n",
    "aliceVector = coMatrix[aliceIdx].reshape(1, -1)\n",
    "dinahVector = coMatrix[dinahIdx].reshape(1, -1)\n",
    "rabbitVector = coMatrix[rabbitIdx].reshape(1, -1)\n",
    "print(aliceVector)\n",
    "print(dinahVector)\n",
    "print(rabbitVector)\n",
    "\n",
    "cosAD = cosine_similarity(aliceVector, dinahVector)\n",
    "print(\"Cosine similarity between Alice and Dinah: {}\".format(cosAD))\n",
    "cosAR = cosine_similarity(aliceVector, rabbitVector)\n",
    "print(\"Cosine similarity between Alice and Rabbit: {}\".format(cosAR))\n",
    "cosDR = cosine_similarity(dinahVector, rabbitVector)\n",
    "print(\"Cosine similarity between Dinah and Rabbit: {}\".format(cosDR))\n"
   ]
  },
  {
   "cell_type": "markdown",
   "metadata": {},
   "source": [
    "### Five closest words to Alice"
   ]
  },
  {
   "cell_type": "code",
   "execution_count": 7,
   "metadata": {},
   "outputs": [
    {
     "name": "stdout",
     "output_type": "stream",
     "text": [
      "Closest words to Alice\n",
      "0: alice\n",
      "1: she\n",
      "2: it\n",
      "3: the\n",
      "4: a\n",
      "5: herself\n"
     ]
    }
   ],
   "source": [
    "#find the closest words to Alice\n",
    "nbrs = nn(n_neighbors=6, algorithm='brute', metric='cosine').fit(coMatrix)\n",
    "distances, indices = nbrs.kneighbors(aliceVector)\n",
    "\n",
    "print(\"Closest words to Alice\")\n",
    "for pos, index in enumerate(indices[0]):\n",
    "    print(\"{}: {}\".format(pos, inverted_index[index]))"
   ]
  },
  {
   "cell_type": "markdown",
   "metadata": {},
   "source": [
    "From the results above we observe the six closest words to 'Alice'.\n",
    "\n",
    "* The first word corresponds to 'Alice' itself. This word is returned by the NearestNeighbors classifier from sklearn by default. \n",
    "\n",
    "* The next five words are the closest words to 'Alice'."
   ]
  },
  {
   "cell_type": "code",
   "execution_count": 12,
   "metadata": {},
   "outputs": [],
   "source": [
    "#Save your all the vector representations of your word embeddings in this way\n",
    "#Change when necessary the sizes of the vocabulary/embedding dimension\n",
    "\n",
    "f = open('vectors_co_occurrence.txt',\"w\")\n",
    "f.write(\" \".join([str(V-1),str(V-1)]))\n",
    "f.write(\"\\n\")\n",
    "\n",
    "#vectors = your word co-occurrence matrix\n",
    "vectors = []\n",
    "for word, i in tokenizer.word_index.items():    \n",
    "    f.write(word)\n",
    "    f.write(\" \")\n",
    "    f.write(\" \".join(map(str, list(coMatrix[i,:]))))\n",
    "    f.write(\"\\n\")\n",
    "f.close()"
   ]
  },
  {
   "cell_type": "code",
   "execution_count": 27,
   "metadata": {},
   "outputs": [],
   "source": [
    "#reopen your file as follows\n",
    "\n",
    "#co_occurrence = KeyedVectors.load_word2vec_format('./vectors_co_occurrence.txt', binary=False)"
   ]
  },
  {
   "cell_type": "markdown",
   "metadata": {},
   "source": [
    "### Discussion of the drawbacks: "
   ]
  },
  {
   "cell_type": "markdown",
   "metadata": {},
   "source": [
    "The main drawback of the co-occurrence matrix it's its size. It has a size of |V| x |V|, where |V| corresponds to the number of different words in the computed vocabulary (after preprocessing operations like stopwords removal, stemming, etc are applied to the raw texts). For the Alice dataset use in this assigment, the size of |V| is 1182, and the obtained co-ocurrence matrix needs 6mb to be stored. The size of our vocabulary is very small in comparison with other vocabularies used in real world applications. Those vocabularies have tens of thousand, hundreds of thousand, or millions different words, which corresponds to a huge amount of memory needed to store such a big co-occurrence matrix.\n",
    "\n",
    "Also, this matrix is very sparse, most of its entries contain zeros because most of words in the vocabulary are not associated to the rest of the words. Hence, another representation could be used to avoid using memory to represent non existent associations between words.\n",
    "\n",
    "By construction, this matrix allows frequent words to be represented by more populated vectors. Therefore, when computing the 'n' most similar words for each vector, these words are more likely to appear in the results than the non frequent words. This becomes a problem when these type of words don't present meaningful information for the final user, like when these words can be considered as stopwords. Weighting techniques like PPMI and tf-idf can be applied to the co-occurrence matrix to solve this issue. "
   ]
  },
  {
   "cell_type": "markdown",
   "metadata": {},
   "source": [
    "## Question 2\n",
    "\n",
    "### Word embeddings\n",
    "Build embeddings with a keras implementation where the embedding vector is of length 50, 150 and 300. Use the Alice in Wonderland text book for training.\n",
    "1. Using the CBOW model\n",
    "2. Using Skipgram model\n",
    "3. Add extra hidden dense layer to CBow and Skipgram implementations. Choose an activation function for that layer and justify your answer.\n",
    "4. Analyze the four different word embeddings\n",
    "    - Implement your own function to perform the analogy task with. Do not use existing libraries for this task such as Gensim. Your function should be able to answer whether an anaology as in the example given in the pdf-file is true.\n",
    "    - Compare the performance on the analogy task between the word embeddings that you have trained in 2.1, 2.2 and 2.3.  \n",
    "    - Visualize your results and interpret your results\n",
    "5. Use the word co-occurence matrix from Question 1. Compare the performance on the analogy task with the performance of your trained word embeddings.  \n",
    "6. Discuss:\n",
    "    - What are the main advantages of CBOW and Skipgram?\n",
    "    - What is the advantage of negative sampling?\n",
    "    - What are the main drawbacks of CBOW and Skipgram?\n",
    "7. Load pre-trained embeddings on large corpuses (see the pdf file). You only have to consider the word embeddings with an embedding size of 300\n",
    "    - Compare performance on the analogy task with your own trained embeddings from \"Alice in Wonderland\". You can limit yourself to the vocabulary of Alice in Wonderland. Visualize the pre-trained word embeddings and compare these with the results of your own trained word embeddings. \n"
   ]
  },
  {
   "cell_type": "code",
   "execution_count": 3,
   "metadata": {
    "collapsed": true
   },
   "outputs": [],
   "source": [
    "#prepare data for cbow\n"
   ]
  },
  {
   "cell_type": "code",
   "execution_count": 242,
   "metadata": {
    "collapsed": true
   },
   "outputs": [],
   "source": [
    "#create CBOW model\n"
   ]
  },
  {
   "cell_type": "code",
   "execution_count": 243,
   "metadata": {
    "collapsed": true
   },
   "outputs": [],
   "source": [
    "#define loss function\n"
   ]
  },
  {
   "cell_type": "code",
   "execution_count": 1,
   "metadata": {},
   "outputs": [],
   "source": [
    "#train model\n"
   ]
  },
  {
   "cell_type": "code",
   "execution_count": null,
   "metadata": {},
   "outputs": [],
   "source": []
  },
  {
   "cell_type": "code",
   "execution_count": 13,
   "metadata": {},
   "outputs": [],
   "source": [
    "#prepare data for Skipgram\n",
    "def generate_data_skipgram(corpus, window_size, V):\n",
    "    maxlen = window_size*2\n",
    "    all_in = []\n",
    "    all_out = []\n",
    "    for words in corpus:\n",
    "        L = len(words)\n",
    "        for index, word in enumerate(words):\n",
    "            p = index - window_size\n",
    "            n = index + window_size + 1\n",
    "            \n",
    "            in_words = []\n",
    "            labels = []\n",
    "            for i in range(p, n):\n",
    "                if i != index and 0 <= i < L:\n",
    "                    # repeat the same word several times\n",
    "                    in_words.append([word])\n",
    "                    # add the context words\n",
    "                    labels.append(words[i])\n",
    "            if in_words != []:\n",
    "                #print(in_words)\n",
    "                all_in.append(np.array(in_words,dtype=np.int32))\n",
    "                all_out.append(np_utils.to_categorical(labels, V))\n",
    "                #print(all_in)\n",
    "                #print(all_in[0].shape)\n",
    "                #print(all_out)\n",
    "                #print(all_out[0].shape)\n",
    "                #break\n",
    "    return (all_in,all_out)"
   ]
  },
  {
   "cell_type": "code",
   "execution_count": 14,
   "metadata": {},
   "outputs": [],
   "source": [
    "#save the preprocessed data of Skipgram\n",
    "def save_skipgram_data(filename, x, y):\n",
    "    f = open(filename ,'w')\n",
    "    for input,outcome  in zip(x,y):\n",
    "        input = np.concatenate(input)\n",
    "        f.write(\" \".join(map(str, list(input))))\n",
    "        f.write(\",\")\n",
    "        outcome = np.concatenate(outcome)\n",
    "        f.write(\" \".join(map(str,list(outcome))))\n",
    "        f.write(\"\\n\")\n",
    "    f.close()"
   ]
  },
  {
   "cell_type": "code",
   "execution_count": 15,
   "metadata": {},
   "outputs": [],
   "source": [
    "#load the preprocessed Skipgram data\n",
    "def generate_data_skipgram_from_file(filename):\n",
    "    f = open(filename ,'r')\n",
    "    for row in f:\n",
    "        inputs,outputs = row.split(\",\")\n",
    "        inputs = np.fromstring(inputs, dtype=int, sep=' ')\n",
    "        inputs = np.asarray(np.split(inputs, len(inputs)))\n",
    "        outputs = np.fromstring(outputs, dtype=float, sep=' ')\n",
    "        outputs = np.asarray(np.split(outputs, len(inputs)))\n",
    "        yield (inputs,outputs)"
   ]
  },
  {
   "cell_type": "code",
   "execution_count": 16,
   "metadata": {},
   "outputs": [],
   "source": [
    "# Generate and save data for skipgram model\n",
    "DATA_SKIPGRAM_FILENAME = \"data_skipgram.txt\"\n",
    "x,y = generate_data_skipgram(corpus,window_size,V)\n",
    "save_skipgram_data(DATA_SKIPGRAM_FILENAME, x, y)\n"
   ]
  },
  {
   "cell_type": "code",
   "execution_count": 17,
   "metadata": {},
   "outputs": [],
   "source": [
    "#create Skipgram models\n",
    "skipgram_50neurons_model = Sequential()\n",
    "skipgram_50neurons_model.add(Embedding(input_dim=V, output_dim=dim, embeddings_initializer='glorot_uniform', input_length=1))\n",
    "skipgram_50neurons_model.add(Reshape((dim, )))\n",
    "skipgram_50neurons_model.add(Dense(input_dim=dim, units=V, kernel_initializer='uniform', activation='softmax'))\n",
    "\n",
    "skipgram_150neurons_model = Sequential()\n",
    "skipgram_150neurons_model.add(Embedding(input_dim=V, output_dim=dim, embeddings_initializer='glorot_uniform', input_length=1))\n",
    "skipgram_150neurons_model.add(Reshape((dim, )))\n",
    "skipgram_150neurons_model.add(Dense(input_dim=dim, units=V, kernel_initializer='uniform', activation='softmax'))\n",
    "\n",
    "skipgram_300neurons_model = Sequential()\n",
    "skipgram_300neurons_model.add(Embedding(input_dim=V, output_dim=dim, embeddings_initializer='glorot_uniform', input_length=1))\n",
    "skipgram_300neurons_model.add(Reshape((dim, )))\n",
    "skipgram_300neurons_model.add(Dense(input_dim=dim, units=V, kernel_initializer='uniform', activation='softmax'))"
   ]
  },
  {
   "cell_type": "code",
   "execution_count": 18,
   "metadata": {},
   "outputs": [],
   "source": [
    "#define loss function for Skipgrams\n",
    "skipgram_50neurons_model.compile(loss='categorical_crossentropy', optimizer='adam')\n",
    "skipgram_150neurons_model.compile(loss='categorical_crossentropy', optimizer='adam')\n",
    "skipgram_300neurons_model.compile(loss='categorical_crossentropy', optimizer='adam')"
   ]
  },
  {
   "cell_type": "code",
   "execution_count": 19,
   "metadata": {},
   "outputs": [
    {
     "name": "stdout",
     "output_type": "stream",
     "text": [
      "skipgram 50neurons losses: 0 -> 41073.18303287029\n",
      "skipgram 50neurons losses: 1 -> 36826.03435766697\n",
      "skipgram 50neurons losses: 2 -> 35294.85650920868\n",
      "skipgram 50neurons losses: 3 -> 33950.189958930016\n",
      "skipgram 50neurons losses: 4 -> 32746.543290376663\n",
      "skipgram 50neurons losses: 5 -> 31693.70681619644\n",
      "skipgram 50neurons losses: 6 -> 30794.44118589163\n",
      "skipgram 50neurons losses: 7 -> 30038.335971713066\n",
      "skipgram 50neurons losses: 8 -> 29411.609778940678\n",
      "skipgram 50neurons losses: 9 -> 28897.077531903982\n",
      "skipgram 150neurons losses: 0 -> 41059.224187254906\n",
      "skipgram 150neurons losses: 1 -> 36788.31235432625\n",
      "skipgram 150neurons losses: 2 -> 35254.35829436779\n",
      "skipgram 150neurons losses: 3 -> 33901.64343214035\n",
      "skipgram 150neurons losses: 4 -> 32700.596487402916\n",
      "skipgram 150neurons losses: 5 -> 31647.698303699493\n",
      "skipgram 150neurons losses: 6 -> 30743.04159939289\n",
      "skipgram 150neurons losses: 7 -> 29980.76098102331\n",
      "skipgram 150neurons losses: 8 -> 29348.937805831432\n",
      "skipgram 150neurons losses: 9 -> 28832.79782241583\n",
      "skipgram 300neurons losses: 0 -> 41096.806126236916\n",
      "skipgram 300neurons losses: 1 -> 36824.555433154106\n",
      "skipgram 300neurons losses: 2 -> 35277.30255806446\n",
      "skipgram 300neurons losses: 3 -> 33931.56404352188\n",
      "skipgram 300neurons losses: 4 -> 32739.985850930214\n",
      "skipgram 300neurons losses: 5 -> 31692.52711701393\n",
      "skipgram 300neurons losses: 6 -> 30791.369787812233\n",
      "skipgram 300neurons losses: 7 -> 30032.194749116898\n",
      "skipgram 300neurons losses: 8 -> 29401.090515106916\n",
      "skipgram 300neurons losses: 9 -> 28881.76770926267\n"
     ]
    }
   ],
   "source": [
    "#train Skipgram models\n",
    "EPOCHS = 10\n",
    "\n",
    "skipgram_50neurons_losses = []\n",
    "for ite in range(EPOCHS):\n",
    "    loss = 0.\n",
    "    for x, y in generate_data_skipgram_from_file(DATA_SKIPGRAM_FILENAME):\n",
    "        loss += skipgram_50neurons_model.train_on_batch(x, y)\n",
    "    skipgram_50neurons_losses.append((ite, loss))\n",
    "    print(\"skipgram 50neurons losses: {} -> {}\".format(ite, loss))\n",
    "\n",
    "\n",
    "skipgram_150neurons_losses = []\n",
    "for ite in range(EPOCHS):\n",
    "    loss = 0.\n",
    "    for x, y in generate_data_skipgram_from_file(DATA_SKIPGRAM_FILENAME):\n",
    "        loss += skipgram_150neurons_model.train_on_batch(x, y)\n",
    "    skipgram_150neurons_losses.append((ite, loss))\n",
    "    print(\"skipgram 150neurons losses: {} -> {}\".format(ite, loss))\n",
    "\n",
    "skipgram_300neurons_losses = []\n",
    "for ite in range(EPOCHS):\n",
    "    loss = 0.\n",
    "    for x, y in generate_data_skipgram_from_file(DATA_SKIPGRAM_FILENAME):\n",
    "        loss += skipgram_300neurons_model.train_on_batch(x, y)\n",
    "    skipgram_300neurons_losses.append((ite, loss))\n",
    "    print(\"skipgram 300neurons losses: {} -> {}\".format(ite, loss))\n"
   ]
  },
  {
   "cell_type": "code",
   "execution_count": 20,
   "metadata": {},
   "outputs": [],
   "source": [
    "# save computed vectors\n",
    "def save_computed_vectors(filename, vectors):\n",
    "    f = open(filename ,'w')\n",
    "    f.write(\" \".join([str(V-1),str(dim)]))\n",
    "    f.write(\"\\n\")\n",
    "\n",
    "    for word, i in tokenizer.word_index.items():\n",
    "        f.write(word)\n",
    "        f.write(\" \")\n",
    "        f.write(\" \".join(map(str, list(vectors[i,:]))))\n",
    "        f.write(\"\\n\")\n",
    "    f.close()"
   ]
  },
  {
   "cell_type": "code",
   "execution_count": 21,
   "metadata": {},
   "outputs": [],
   "source": [
    "#Save computed vectors\n",
    "VECTORS_SKIPGRAM_50NEURONS_FILENAME = 'vectors_skipgram_50neurons.txt'\n",
    "skipgram_50neurons_model_vectors = skipgram_50neurons_model.get_weights()[0]\n",
    "save_computed_vectors(VECTORS_SKIPGRAM_50NEURONS_FILENAME, skipgram_50neurons_model_vectors)\n",
    "\n",
    "VECTORS_SKIPGRAM_150NEURONS_FILENAME = 'vectors_skipgram_150neurons.txt'\n",
    "skipgram_150neurons_model_vectors = skipgram_150neurons_model.get_weights()[0]\n",
    "save_computed_vectors(VECTORS_SKIPGRAM_150NEURONS_FILENAME, skipgram_150neurons_model_vectors)\n",
    "\n",
    "VECTORS_SKIPGRAM_300NEURONS_FILENAME = 'vectors_skipgram_300neurons.txt'\n",
    "skipgram_300neurons_model_vectors = skipgram_300neurons_model.get_weights()[0]\n",
    "save_computed_vectors(VECTORS_SKIPGRAM_300NEURONS_FILENAME, skipgram_300neurons_model_vectors)"
   ]
  },
  {
   "cell_type": "code",
   "execution_count": 22,
   "metadata": {},
   "outputs": [],
   "source": [
    "# load computed vectors\n",
    "def load_word_vectors(filename):\n",
    "    f = open(filename, 'r')\n",
    "    # read first line to get the dimensions\n",
    "    dim_rows = 0\n",
    "    dim_columns = 0\n",
    "    word_vectors = None\n",
    "    for line in f.readlines():\n",
    "        input_values = line.strip().split(\" \")\n",
    "        if len(input_values) == 2:\n",
    "            dim_rows = int(input_values[0])\n",
    "            dim_columns = int(input_values[1])\n",
    "            word_vectors = np.zeros((dim_rows+1, dim_columns))\n",
    "            #print(\"rows: {}, columns: {}\".format(dim_rows, dim_columns))\n",
    "        else:\n",
    "            word = input_values[0]\n",
    "            vector_values = np.fromstring(\" \".join(input_values[1:]), dtype=float, sep=' ')\n",
    "            word_vectors[tokenizer.word_index[word]] = vector_values\n",
    "            \n",
    "    f.close()\n",
    "    return word_vectors\n"
   ]
  },
  {
   "cell_type": "code",
   "execution_count": 23,
   "metadata": {},
   "outputs": [],
   "source": [
    "loaded_skipgram_50neurons_model_vectors = load_word_vectors(VECTORS_SKIPGRAM_50NEURONS_FILENAME)\n",
    "loaded_skipgram_150neurons_model_vectors = load_word_vectors(VECTORS_SKIPGRAM_150NEURONS_FILENAME)\n",
    "loaded_skipgram_300neurons_model_vectors = load_word_vectors(VECTORS_SKIPGRAM_300NEURONS_FILENAME)"
   ]
  },
  {
   "cell_type": "code",
   "execution_count": null,
   "metadata": {
    "collapsed": true
   },
   "outputs": [],
   "source": [
    "#create CBOW model with additional dense layer\n"
   ]
  },
  {
   "cell_type": "code",
   "execution_count": null,
   "metadata": {
    "collapsed": true
   },
   "outputs": [],
   "source": [
    "#define loss function for CBOW + dense\n"
   ]
  },
  {
   "cell_type": "code",
   "execution_count": null,
   "metadata": {
    "collapsed": true
   },
   "outputs": [],
   "source": [
    "#train model for CBOW + dense\n"
   ]
  },
  {
   "cell_type": "code",
   "execution_count": 24,
   "metadata": {},
   "outputs": [],
   "source": [
    "#create Skipgram models with additional dense layer\n",
    "skipgram_50neurons_modified_model = Sequential()\n",
    "skipgram_50neurons_modified_model.add(Embedding(input_dim=V, output_dim=dim, embeddings_initializer='glorot_uniform', input_length=1))\n",
    "skipgram_50neurons_modified_model.add(Reshape((dim, )))\n",
    "skipgram_50neurons_modified_model.add(Dense(input_dim=dim, units=dim, kernel_initializer='he_uniform', activation='relu'))\n",
    "skipgram_50neurons_modified_model.add(Dense(input_dim=dim, units=V, kernel_initializer='uniform', activation='softmax'))\n",
    "\n",
    "skipgram_150neurons_modified_model = Sequential()\n",
    "skipgram_150neurons_modified_model.add(Embedding(input_dim=V, output_dim=dim, embeddings_initializer='glorot_uniform', input_length=1))\n",
    "skipgram_150neurons_modified_model.add(Reshape((dim, )))\n",
    "skipgram_150neurons_modified_model.add(Dense(input_dim=dim, units=dim, kernel_initializer='he_uniform', activation='relu'))\n",
    "skipgram_150neurons_modified_model.add(Dense(input_dim=dim, units=V, kernel_initializer='uniform', activation='softmax'))\n",
    "\n",
    "\n",
    "skipgram_300neurons_modified_model = Sequential()\n",
    "skipgram_300neurons_modified_model.add(Embedding(input_dim=V, output_dim=dim, embeddings_initializer='glorot_uniform', input_length=1))\n",
    "skipgram_300neurons_modified_model.add(Reshape((dim, )))\n",
    "skipgram_300neurons_modified_model.add(Dense(input_dim=dim, units=dim, kernel_initializer='he_uniform', activation='relu'))\n",
    "skipgram_300neurons_modified_model.add(Dense(input_dim=dim, units=V, kernel_initializer='uniform', activation='softmax'))"
   ]
  },
  {
   "cell_type": "code",
   "execution_count": 25,
   "metadata": {},
   "outputs": [],
   "source": [
    "#define loss function for Skipgram + dense\n",
    "skipgram_50neurons_modified_model.compile(loss='categorical_crossentropy', optimizer='adam')\n",
    "skipgram_150neurons_modified_model.compile(loss='categorical_crossentropy', optimizer='adam')\n",
    "skipgram_300neurons_modified_model.compile(loss='categorical_crossentropy', optimizer='adam')"
   ]
  },
  {
   "cell_type": "code",
   "execution_count": 26,
   "metadata": {},
   "outputs": [
    {
     "name": "stdout",
     "output_type": "stream",
     "text": [
      "skipgram 50neurons modified losses: 0 -> 40317.54647278786\n",
      "skipgram 50neurons modified losses: 1 -> 36746.74798989296\n",
      "skipgram 50neurons modified losses: 2 -> 35182.12660086155\n",
      "skipgram 50neurons modified losses: 3 -> 33688.58572089672\n",
      "skipgram 50neurons modified losses: 4 -> 32583.715933918953\n",
      "skipgram 50neurons modified losses: 5 -> 31683.261390149593\n",
      "skipgram 50neurons modified losses: 6 -> 31011.452765107155\n",
      "skipgram 50neurons modified losses: 7 -> 30557.971965312958\n",
      "skipgram 50neurons modified losses: 8 -> 30165.50262606144\n",
      "skipgram 50neurons modified losses: 9 -> 29802.00397466123\n",
      "skipgram 150neurons modified losses: 0 -> 40335.78914117813\n",
      "skipgram 150neurons modified losses: 1 -> 36769.79259300232\n",
      "skipgram 150neurons modified losses: 2 -> 35205.47082412243\n",
      "skipgram 150neurons modified losses: 3 -> 33837.447959423065\n",
      "skipgram 150neurons modified losses: 4 -> 32771.934980392456\n",
      "skipgram 150neurons modified losses: 5 -> 31891.153545081615\n",
      "skipgram 150neurons modified losses: 6 -> 31302.75435513258\n",
      "skipgram 150neurons modified losses: 7 -> 30675.305336117744\n",
      "skipgram 150neurons modified losses: 8 -> 30142.612977802753\n",
      "skipgram 150neurons modified losses: 9 -> 29709.637282133102\n",
      "skipgram 300neurons modified losses: 0 -> 40324.52620446682\n",
      "skipgram 300neurons modified losses: 1 -> 36755.12924671173\n",
      "skipgram 300neurons modified losses: 2 -> 35143.65715837479\n",
      "skipgram 300neurons modified losses: 3 -> 33699.335223436356\n",
      "skipgram 300neurons modified losses: 4 -> 32604.714549422264\n",
      "skipgram 300neurons modified losses: 5 -> 31852.976566791534\n",
      "skipgram 300neurons modified losses: 6 -> 31196.65301811695\n",
      "skipgram 300neurons modified losses: 7 -> 30890.349315345287\n",
      "skipgram 300neurons modified losses: 8 -> 30226.524840831757\n",
      "skipgram 300neurons modified losses: 9 -> 29875.89706748724\n"
     ]
    }
   ],
   "source": [
    "#train model for Skipgram + dense\n",
    "EPOCHS = 10\n",
    "\n",
    "skipgram_50neurons_modified_model_losses = []\n",
    "for ite in range(EPOCHS):\n",
    "    loss = 0.\n",
    "    for x, y in generate_data_skipgram_from_file(DATA_SKIPGRAM_FILENAME):\n",
    "        loss += skipgram_50neurons_modified_model.train_on_batch(x, y)\n",
    "    skipgram_50neurons_modified_model_losses.append((ite, loss))\n",
    "    print(\"skipgram 50neurons modified losses: {} -> {}\".format(ite, loss))\n",
    "\n",
    "\n",
    "skipgram_150neurons_modified_model_losses = []\n",
    "for ite in range(EPOCHS):\n",
    "    loss = 0.\n",
    "    for x, y in generate_data_skipgram_from_file(DATA_SKIPGRAM_FILENAME):\n",
    "        loss += skipgram_150neurons_modified_model.train_on_batch(x, y)\n",
    "    skipgram_150neurons_modified_model_losses.append((ite, loss))\n",
    "    print(\"skipgram 150neurons modified losses: {} -> {}\".format(ite, loss))\n",
    "\n",
    "skipgram_300neurons_modified_model_losses = []\n",
    "for ite in range(EPOCHS):\n",
    "    loss = 0.\n",
    "    for x, y in generate_data_skipgram_from_file(DATA_SKIPGRAM_FILENAME):\n",
    "        loss += skipgram_300neurons_modified_model.train_on_batch(x, y)\n",
    "    skipgram_300neurons_modified_model_losses.append((ite, loss))\n",
    "    print(\"skipgram 300neurons modified losses: {} -> {}\".format(ite, loss))\n"
   ]
  },
  {
   "cell_type": "code",
   "execution_count": 29,
   "metadata": {},
   "outputs": [],
   "source": [
    "#Save computed vectors\n",
    "VECTORS_SKIPGRAM_50NEURONS_MODIFIED_FILENAME = 'vectors_skipgram_50neurons_modified.txt'\n",
    "skipgram_50neurons_modified_model_vectors = skipgram_50neurons_modified_model.get_weights()[0]\n",
    "save_computed_vectors(VECTORS_SKIPGRAM_50NEURONS_MODIFIED_FILENAME, skipgram_50neurons_modified_model_vectors)\n",
    "\n",
    "VECTORS_SKIPGRAM_150NEURONS_MODIFIED_FILENAME = 'vectors_skipgram_150neurons_modified.txt'\n",
    "skipgram_150neurons_modified_model_vectors = skipgram_150neurons_modified_model.get_weights()[0]\n",
    "save_computed_vectors(VECTORS_SKIPGRAM_150NEURONS_MODIFIED_FILENAME, skipgram_150neurons_modified_model_vectors)\n",
    "\n",
    "VECTORS_SKIPGRAM_300NEURONS_MODIFIED_FILENAME = 'vectors_skipgram_300neurons_modified.txt'\n",
    "skipgram_300neurons_modified_model_vectors = skipgram_300neurons_modified_model.get_weights()[0]\n",
    "save_computed_vectors(VECTORS_SKIPGRAM_300NEURONS_MODIFIED_FILENAME, skipgram_300neurons_modified_model_vectors)"
   ]
  },
  {
   "cell_type": "code",
   "execution_count": 30,
   "metadata": {},
   "outputs": [],
   "source": [
    "## train nearest neighbors model\n",
    "nn_skipgram_50neurons = nn(n_neighbors=21, algorithm='brute', metric='cosine').fit(skipgram_50neurons_model_vectors)\n",
    "nn_skipgram_50neurons_modified = nn(n_neighbors=21, algorithm='brute', metric='cosine').fit(skipgram_50neurons_modified_model_vectors)\n",
    "\n",
    "nn_skipgram_150neurons = nn(n_neighbors=21, algorithm='brute', metric='cosine').fit(skipgram_150neurons_model_vectors)\n",
    "nn_skipgram_150neurons_modified = nn(n_neighbors=21, algorithm='brute', metric='cosine').fit(skipgram_150neurons_modified_model_vectors)\n",
    "\n",
    "nn_skipgram_300neurons = nn(n_neighbors=21, algorithm='brute', metric='cosine').fit(skipgram_300neurons_model_vectors)\n",
    "nn_skipgram_300neurons_modified = nn(n_neighbors=21, algorithm='brute', metric='cosine').fit(skipgram_300neurons_modified_model_vectors)\n"
   ]
  },
  {
   "cell_type": "code",
   "execution_count": 31,
   "metadata": {},
   "outputs": [],
   "source": [
    "ds, indices_skipgram_50neurons = nn_skipgram_50neurons.kneighbors(skipgram_50neurons_model_vectors)\n",
    "ds, indices_skipgram_50neurons_modified = nn_skipgram_50neurons_modified.kneighbors(skipgram_50neurons_modified_model_vectors)\n",
    "\n",
    "ds, indices_skipgram_150neurons = nn_skipgram_150neurons.kneighbors(skipgram_150neurons_model_vectors)\n",
    "ds, indices_skipgram_150neurons_modified = nn_skipgram_150neurons_modified.kneighbors(skipgram_150neurons_modified_model_vectors)\n",
    "\n",
    "ds, indices_skipgram_300neurons = nn_skipgram_300neurons.kneighbors(skipgram_300neurons_model_vectors)\n",
    "ds, indices_skipgram_300neurons_modified = nn_skipgram_300neurons_modified.kneighbors(skipgram_300neurons_modified_model_vectors)"
   ]
  },
  {
   "cell_type": "code",
   "execution_count": 32,
   "metadata": {},
   "outputs": [],
   "source": [
    "def save_neighbors(filename, neighbors):\n",
    "    f = open(filename, 'w')\n",
    "    \n",
    "    for idrow, matrix_row in enumerate(neighbors):\n",
    "        words = []\n",
    "        if idrow > 0:\n",
    "            for idc, column in enumerate(matrix_row):\n",
    "                if column > 0 :\n",
    "                    words.append(inverted_index[column])\n",
    "            f.write(\", \".join(words))\n",
    "            f.write(\"\\n\")\n",
    "    f.close()\n",
    "            "
   ]
  },
  {
   "cell_type": "code",
   "execution_count": 33,
   "metadata": {},
   "outputs": [],
   "source": [
    "SKIPGRAM_50NEURONS_NN_FILENAME = \"skipgram_50neurons_nn.txt\"\n",
    "SKIPGRAM_50NEURONS_MODIFIED_NN_FILENAME = \"skipgram_50neurons_modified_nn.txt\"\n",
    "SKIPGRAM_150NEURONS_NN_FILENAME = \"skipgram_50neurons_nn.txt\"\n",
    "SKIPGRAM_150NEURONS_MODIFIED_NN_FILENAME = \"skipgram_150neurons_modified_nn.txt\"\n",
    "SKIPGRAM_300NEURONS_NN_FILENAME = \"skipgram_300neurons_nn.txt\"\n",
    "SKIPGRAM_300NEURONS_MODIFIED_NN_FILENAME = \"skipgram_300neurons_modified_nn.txt\"\n",
    "\n",
    "save_neighbors(SKIPGRAM_50NEURONS_NN_FILENAME, indices_skipgram_50neurons)\n",
    "save_neighbors(SKIPGRAM_50NEURONS_MODIFIED_NN_FILENAME, indices_skipgram_50neurons_modified)\n",
    "\n",
    "save_neighbors(SKIPGRAM_150NEURONS_NN_FILENAME, indices_skipgram_150neurons)\n",
    "save_neighbors(SKIPGRAM_150NEURONS_MODIFIED_NN_FILENAME, indices_skipgram_150neurons_modified)\n",
    "\n",
    "save_neighbors(SKIPGRAM_300NEURONS_NN_FILENAME, indices_skipgram_300neurons)\n",
    "save_neighbors(SKIPGRAM_300NEURONS_MODIFIED_NN_FILENAME, indices_skipgram_300neurons_modified)"
   ]
  },
  {
   "cell_type": "markdown",
   "metadata": {},
   "source": [
    "### Analogy function\n",
    "\n",
    "Due to the small dataset (Alice.txt) used for this assignment, we decided to implement a modified version of the analogy function explained in [insert reference here]. First, our function computes an aggregated vector from the first three words in a given analogy. Then, we find the top 20 nearest neighbors for this vector using the corresponding word embeddings (skipgram or CBOW models) and nearest neighbors models. Finally, if the target word (fourth word) is contained in the top 20 nearestest neighbors, we return a True value as an indication of a valid analogy. "
   ]
  },
  {
   "cell_type": "code",
   "execution_count": 53,
   "metadata": {},
   "outputs": [],
   "source": [
    "#Implement your own analogy function\n",
    "# implementation of the function argmax(w.(w3 + w2 - w1)), with w - w3 =' w2 - w1\n",
    "#from sklearn.metrics.pairwise import cosine_similarity\n",
    "#from sklearn.neighbors import NearestNeighbors as nn\n",
    "#nbrs = NearestNeighbors(n_neighbors=2, algorithm='ball_tree').fit(X)\n",
    "\n",
    "# computes: word1 is a word2 as word3 is to target\n",
    "# returns true if target is found in the closest 10 neighbors\n",
    "def is_valid_analogy(word1, word2, word3, target, word_vectors, nnmodel):\n",
    "    if word1 not in tokenizer.word_index:\n",
    "        print(\"Word {} not in tokenizer.word_index\".format(word1))\n",
    "        return False\n",
    "    if word2 not in tokenizer.word_index:\n",
    "        print(\"Word {} not in tokenizer.word_index\".format(word2))\n",
    "        return False\n",
    "    if word3 not in tokenizer.word_index:\n",
    "        print(\"Word {} not in tokenizer.word_index\".format(word3))\n",
    "        return False\n",
    "    if target not in tokenizer.word_index:\n",
    "        print(\"Word {} not in tokenizer.word_index\".format(target))\n",
    "        return False\n",
    "    \n",
    "    vector_w1 = word_vectors[tokenizer.word_index[word1]]\n",
    "    vector_w2 = word_vectors[tokenizer.word_index[word2]]\n",
    "    vector_w3 = word_vectors[tokenizer.word_index[word3]]\n",
    "    composed_vector = vector_w1 - vector_w2 + vector_w3\n",
    "    distances, indices = nnmodel.kneighbors(composed_vector.reshape(1, -1))\n",
    "    return tokenizer.word_index[target] in indices\n",
    "\n",
    "def analogy_precision(analogies, word_vectors, nnmodel):\n",
    "    correct = 0\n",
    "    total = 0\n",
    "    for analogy in analogies:\n",
    "        #print(analogy)\n",
    "        if is_valid_analogy(analogy[0], analogy[1], analogy[2], analogy[3], word_vectors, nnmodel):\n",
    "            correct += 1\n",
    "        total += 1\n",
    "    return correct/(total*1.0)\n",
    "\n",
    "\n"
   ]
  },
  {
   "cell_type": "markdown",
   "metadata": {},
   "source": [
    "## Analyze the four different word embeddings"
   ]
  },
  {
   "cell_type": "markdown",
   "metadata": {},
   "source": [
    "To analyze the word embeddings we use analogies. The previously defined analogy function is used to computed the precision of word embeddings on the analogy data. The results are shown below.\n"
   ]
  },
  {
   "cell_type": "code",
   "execution_count": 72,
   "metadata": {},
   "outputs": [],
   "source": [
    "analogy_data = [\"sudden suddenly usual usually\",\n",
    "\"bad worse good better\",\n",
    "\"go going look looking\",\n",
    "\"he she his her\",\n",
    "\"brother sister his her\",\n",
    "\"listen listening look looking\",\n",
    "\"saying said thinking thought\",\n",
    "\"bird birds cat cats\",\n",
    "\"good better old older\",\n",
    "\"good better quick quicker\",\n",
    "\"large largest good best\",\n",
    "\"falling fell knowing knew\",\n",
    "\"walk walking think thinking\",\n",
    "\"child children cat cats\",\n",
    "\"dog dogs eye eyes\",\n",
    "\"hand hands rat rats\",\n",
    "\"eat eats find finds\",\n",
    "\"find finds say says\",\n",
    "\"old older good better\",\n",
    "\"large larger quick quicker\",\n",
    "\"go going listen listening\",\n",
    "\"run running walk walking\",\n",
    "\"run running think thinking\",\n",
    "\"say saying sit sitting\",\n",
    "\"alice she rabbit he\",\n",
    "\"alice her rabbit him\",\n",
    "\"alice girl rabbit sir\",\n",
    "\"dinah cat alice girl\",\n",
    "\"his her he she\",\n",
    "\"long longer quick quicker\",\n",
    "\"long longer small smaller\",\n",
    "\"long longer bad worse\",\n",
    "\"go going look looking\",\n",
    "\"listen listening look looking\",\n",
    "\"swim swimming sit sitting\",\n",
    "\"run running listen listening\",\n",
    "\"think thinking read reading\",\n",
    "\"up down close far\",\n",
    "\"rome paris neck legs\",\n",
    "\"tears smiling smaller larger\",\n",
    "\"rome paris apple cherry\",\n",
    "\"child children dog dogs\",\n",
    "\"young energetic old tired\"]"
   ]
  },
  {
   "cell_type": "code",
   "execution_count": 77,
   "metadata": {},
   "outputs": [],
   "source": [
    "#prepare analogies\n",
    "\n",
    "analogies = []\n",
    "for row in analogy_data:\n",
    "        #print(row)\n",
    "        analogy = row.split(\" \")\n",
    "        if len(analogy) == 4:\n",
    "            #print(analogy)\n",
    "            analogies.append(analogy)"
   ]
  },
  {
   "cell_type": "code",
   "execution_count": 78,
   "metadata": {},
   "outputs": [],
   "source": [
    "# Testing skipgram models with analogies\n",
    "analogies_results = {}\n",
    "analogies_results[\"skip_50n\"] = analogy_precision(analogies, skipgram_50neurons_model_vectors,\n",
    "                                                 nn_skipgram_50neurons)\n",
    "\n",
    "analogies_results[\"skip_150n\"] = analogy_precision(analogies, skipgram_150neurons_model_vectors,\n",
    "                                                 nn_skipgram_150neurons)\n",
    "analogies_results[\"skip_300n\"] = analogy_precision(analogies, skipgram_300neurons_model_vectors,\n",
    "                                                 nn_skipgram_300neurons)\n",
    "analogies_results[\"skip_50n_mod\"] = analogy_precision(analogies, skipgram_50neurons_modified_model_vectors,\n",
    "                                                 nn_skipgram_50neurons_modified)\n",
    "analogies_results[\"skip_150n_mod\"] = analogy_precision(analogies, skipgram_150neurons_modified_model_vectors,\n",
    "                                                 nn_skipgram_150neurons_modified)\n",
    "analogies_results[\"skip_300n_mod\"] = analogy_precision(analogies, skipgram_300neurons_modified_model_vectors,\n",
    "                                                 nn_skipgram_300neurons_modified)\n",
    "\n"
   ]
  },
  {
   "cell_type": "markdown",
   "metadata": {},
   "source": [
    "### Results of skipgram models on analogies\n"
   ]
  },
  {
   "cell_type": "code",
   "execution_count": 79,
   "metadata": {},
   "outputs": [
    {
     "name": "stdout",
     "output_type": "stream",
     "text": [
      "Precision for word vectors of 50x1 using skipgram model: 0.093023\n",
      "Precision for word vectors of 150x1 using skipgram model: 0.069767\n",
      "Precision for word vectors of 300x1 using skipgram model: 0.093023\n",
      "Precision for word vectors of 50x1 using modified skipgram model: 0.000000\n",
      "Precision for word vectors of 150x1 using modified skipgram model: 0.023256\n",
      "Precision for word vectors of 300x1 using modified skipgram model: 0.000000\n"
     ]
    }
   ],
   "source": [
    "print(\"Precision for word vectors of 50x1 using skipgram model: {:3f}\".format(analogies_results[\"skip_50n\"]))\n",
    "print(\"Precision for word vectors of 150x1 using skipgram model: {:3f}\".format(analogies_results[\"skip_150n\"]))\n",
    "print(\"Precision for word vectors of 300x1 using skipgram model: {:3f}\".format(analogies_results[\"skip_300n\"]))\n",
    "\n",
    "print(\"Precision for word vectors of 50x1 using modified skipgram model: {:3f}\".format(analogies_results[\"skip_50n_mod\"]))\n",
    "print(\"Precision for word vectors of 150x1 using modified skipgram model: {:3f}\".format(analogies_results[\"skip_150n_mod\"]))\n",
    "print(\"Precision for word vectors of 300x1 using modified skipgram model: {:3f}\".format(analogies_results[\"skip_300n_mod\"]))\n"
   ]
  },
  {
   "cell_type": "markdown",
   "metadata": {},
   "source": [
    "### Comparison performance:\n"
   ]
  },
  {
   "cell_type": "markdown",
   "metadata": {},
   "source": [
    "### Visualization and interpretation of results"
   ]
  },
  {
   "cell_type": "markdown",
   "metadata": {},
   "source": [
    "#### Visualization of Skipgram models\n",
    "\n",
    "The next two figures show the TSNE representation of some of the words used in the analogy task for two skipgram models:\n",
    "    * skipgram model with 300 neurons in the representation layer\n",
    "    * modified skipgram model with 300 neurons in the representation layer\n",
    "    \n",
    " These two models correspond to the best and worst skipgram models according to the analogy task."
   ]
  },
  {
   "cell_type": "code",
   "execution_count": 83,
   "metadata": {},
   "outputs": [],
   "source": [
    "analogy_words_to_visualize = ['bad', 'worse', 'good', 'better',\n",
    "                            'listen', 'listening', 'look', 'looking',\n",
    "                            'bird', 'birds', 'cat', 'cats',\n",
    "                            'good', 'better', 'old', 'older',\n",
    "                            'dog', 'dogs', 'eye', 'eyes',\n",
    "                            'hand', 'hands', 'rat', 'rats',\n",
    "                            'run', 'running', 'walk', 'walking',\n",
    "                            'young', 'energetic', 'old', 'tired']\n"
   ]
  },
  {
   "cell_type": "code",
   "execution_count": 84,
   "metadata": {},
   "outputs": [
    {
     "name": "stdout",
     "output_type": "stream",
     "text": [
      "skipgram 300 neurons vectors projection computed\n",
      "skipgram 300 neurons modified model vectors projection computed\n"
     ]
    }
   ],
   "source": [
    "# skipgram model with 300 neurons\n",
    "tsne = TSNE(n_components=2, init='pca', random_state=0)\n",
    "skipgram_300neurons_model_vectors_projection = tsne.fit_transform(skipgram_300neurons_model_vectors).T\n",
    "print(\"skipgram 300 neurons vectors projection computed\")\n",
    "\n",
    "# skipgram model with 300 neurons\n",
    "tsne = TSNE(n_components=2, init='pca', random_state=0)\n",
    "skipgram_300neurons_modified_model_vectors_projection = tsne.fit_transform(skipgram_300neurons_modified_model_vectors).T\n",
    "print(\"skipgram 300 neurons modified model vectors projection computed\")\n"
   ]
  },
  {
   "cell_type": "code",
   "execution_count": 86,
   "metadata": {},
   "outputs": [
    {
     "data": {
      "image/png": "[encoded data removed]",
      "text/plain": [
       "<matplotlib.figure.Figure at 0x7f99883a7d68>"
      ]
     },
     "metadata": {},
     "output_type": "display_data"
    }
   ],
   "source": [
    "fig = plt.figure(figsize=(15, 8))\n",
    "plt.scatter(skipgram_300neurons_model_vectors_projection[0],\n",
    "            skipgram_300neurons_model_vectors_projection[1],\n",
    "            c='b', cmap=plt.cm.Spectral)\n",
    "\n",
    "for word in analogy_words_to_visualize:\n",
    "    idx = tokenizer.word_index[word]\n",
    "    x_pos= skipgram_300neurons_model_vectors_projection[0][idx]\n",
    "    y_pos= skipgram_300neurons_model_vectors_projection[1][idx]\n",
    "    plt.annotate(word, (x_pos, y_pos), fontsize=11, fontweight='bold')\n",
    "\n",
    "plt.title(\"TSNE for word vectors of skipgram model using 300 neurons\")\n",
    "plt.show()"
   ]
  },
  {
   "cell_type": "code",
   "execution_count": 87,
   "metadata": {},
   "outputs": [
    {
     "data": {
      "image/png": "[encoded data removed]",
      "text/plain": [
       "<matplotlib.figure.Figure at 0x7f998835aa20>"
      ]
     },
     "metadata": {},
     "output_type": "display_data"
    }
   ],
   "source": [
    "fig = plt.figure(figsize=(15, 8))\n",
    "plt.scatter(skipgram_300neurons_modified_model_vectors_projection[0],\n",
    "            skipgram_300neurons_modified_model_vectors_projection[1],\n",
    "            c='b', cmap=plt.cm.Spectral)\n",
    "\n",
    "for word in analogy_words_to_visualize:\n",
    "    idx = tokenizer.word_index[word]\n",
    "    x_pos= skipgram_300neurons_modified_model_vectors_projection[0][idx]\n",
    "    y_pos= skipgram_300neurons_modified_model_vectors_projection[1][idx]\n",
    "    plt.annotate(word, (x_pos, y_pos), fontsize=11, fontweight='bold')\n",
    "\n",
    "plt.title(\"TSNE for word vectors of skipgram modified model using 300 neurons\")\n",
    "plt.show()"
   ]
  },
  {
   "cell_type": "markdown",
   "metadata": {},
   "source": [
    "### Interpretation results of the visualization"
   ]
  },
  {
   "cell_type": "markdown",
   "metadata": {},
   "source": [
    "#### Visualizations for Skipgram models"
   ]
  },
  {
   "cell_type": "markdown",
   "metadata": {},
   "source": [
    "#### Visualizations for CBOW models"
   ]
  },
  {
   "cell_type": "markdown",
   "metadata": {},
   "source": [
    "## 2.5 Using the word-word co-occurrence matrix from question 1. Compare the results of the trained word embeddings with the word-word co-occurrence matrix"
   ]
  },
  {
   "cell_type": "markdown",
   "metadata": {},
   "source": [
    "## 2.6 Discussion of the advantages of CBOW and Skipgram, the advantages of negative sampling and drawbacks of CBOW and Skipgram"
   ]
  },
  {
   "cell_type": "code",
   "execution_count": null,
   "metadata": {
    "collapsed": true
   },
   "outputs": [],
   "source": [
    "#load pretrained word embeddings of word2vec\n",
    "\n",
    "path_word2vec = \"your path /GoogleNews-vectors-negative300.bin\"\n",
    "\n",
    "word2vec = KeyedVectors.load_word2vec_format(path, binary=True)"
   ]
  },
  {
   "cell_type": "code",
   "execution_count": null,
   "metadata": {
    "collapsed": true
   },
   "outputs": [],
   "source": [
    "#load pretraind word embeddings of Glove\n",
    "\n",
    "path = \"your path /glove.6B/glove.6B.300d_converted.txt\"\n",
    "\n",
    "#convert GloVe into word2vec format\n",
    "gensim.scripts.glove2word2vec.get_glove_info(path)\n",
    "gensim.scripts.glove2word2vec.glove2word2vec(path, \"glove_converted.txt\")\n",
    "\n",
    "glove = KeyedVectors.load_word2vec_format(path, binary=False)"
   ]
  },
  {
   "cell_type": "code",
   "execution_count": null,
   "metadata": {
    "collapsed": true
   },
   "outputs": [],
   "source": [
    "#Visualize the pre-trained word embeddings"
   ]
  },
  {
   "cell_type": "markdown",
   "metadata": {},
   "source": [
    "Comparison performance with your own trained word embeddings"
   ]
  },
  {
   "cell_type": "code",
   "execution_count": null,
   "metadata": {
    "collapsed": true
   },
   "outputs": [],
   "source": []
  }
 ],
 "metadata": {
  "kernelspec": {
   "display_name": "Python 3",
   "language": "python",
   "name": "python3"
  },
  "language_info": {
   "codemirror_mode": {
    "name": "ipython",
    "version": 3
   },
   "file_extension": ".py",
   "mimetype": "text/x-python",
   "name": "python",
   "nbconvert_exporter": "python",
   "pygments_lexer": "ipython3",
   "version": "3.5.2"
  }
 },
 "nbformat": 4,
 "nbformat_minor": 2
}
