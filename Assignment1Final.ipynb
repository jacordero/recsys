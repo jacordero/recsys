{
 "cells": [
  {
   "cell_type": "markdown",
   "metadata": {},
   "source": [
    "# Assignment 1\n"
   ]
  },
  {
   "cell_type": "code",
   "execution_count": 1,
   "metadata": {
    "scrolled": true
   },
   "outputs": [
    {
     "name": "stderr",
     "output_type": "stream",
     "text": [
      "/home/jorge/.local/share/virtualenvs/RecommenderSystems-c5N1t04d/lib/python3.5/site-packages/h5py/__init__.py:36: FutureWarning: Conversion of the second argument of issubdtype from `float` to `np.floating` is deprecated. In future, it will be treated as `np.float64 == np.dtype(float).type`.\n",
      "  from ._conv import register_converters as _register_converters\n",
      "Using TensorFlow backend.\n"
     ]
    }
   ],
   "source": [
    "import numpy as np\n",
    "np.random.seed(13) #TODO Check if this is used for sgd\n",
    "import keras.backend as K\n",
    "from keras.models import Sequential\n",
    "from keras.layers import Dense, Embedding, Reshape, Lambda\n",
    "from keras.utils import np_utils\n",
    "from keras.utils.data_utils import get_file\n",
    "from keras.preprocessing.text import Tokenizer\n",
    "from keras.utils.vis_utils import model_to_dot\n",
    "from keras.preprocessing import sequence\n",
    "from gensim.models import KeyedVectors\n",
    "from sklearn.manifold import TSNE\n",
    "from sklearn.metrics.pairwise import cosine_similarity\n",
    "from sklearn.neighbors import NearestNeighbors as nn\n",
    "from matplotlib import pylab\n",
    "from __future__ import division\n",
    "import matplotlib.pyplot as plt"
   ]
  },
  {
   "cell_type": "code",
   "execution_count": 2,
   "metadata": {},
   "outputs": [],
   "source": [
    "# DO NOT Modify the lines in this cell\n",
    "path = 'alice.txt'\n",
    "corpus = open(path).readlines()[0:700]\n",
    "\n",
    "corpus = [sentence for sentence in corpus if sentence.count(\" \") >= 2]\n",
    "\n",
    "tokenizer = Tokenizer(filters='!\"#$%&()*+,-./:;<=>?@[\\\\]^_`{|}~\\t\\n'+\"'\")\n",
    "tokenizer.fit_on_texts(corpus)\n",
    "corpus = tokenizer.texts_to_sequences(corpus)\n",
    "nb_samples = sum(len(s) for s in corpus)\n",
    "V = len(tokenizer.word_index) + 1\n",
    "\n",
    "# Is this something they need to change?\n",
    "dim = 100\n",
    "dim_50 = 50\n",
    "dim_150 = 150\n",
    "dim_300 = 300\n",
    "window_size = 2 #use this window size for Skipgram, CBOW, and the model with the additional hidden layer\n",
    "window_size_corpus = 4 #use this window size for the co-occurrence matrix"
   ]
  },
  {
   "cell_type": "markdown",
   "metadata": {},
   "source": [
    "## Question 1\n",
    "\n",
    "### Co-occurrence Matrix\n",
    "Use the provided code to load the \"Alice in Wonderland\" text document. \n",
    "1. Implement the word-word co-occurrence matrix for “Alice in Wonderland”\n",
    "2. Normalize the words such that every value lies within a range of 0 and 1\n",
    "3. Compute the cosine distance between the given words:\n",
    "    - Alice \n",
    "    - Dinah\n",
    "    - Rabbit\n",
    "4. List the 5 closest words to 'Alice'. Discuss the results.\n",
    "5. Discuss what the main drawbacks are of a term-term co-occurence matrix solutions?\n"
   ]
  },
  {
   "cell_type": "code",
   "execution_count": 3,
   "metadata": {},
   "outputs": [],
   "source": [
    "# create inverted index to help recover the words from indexes\n",
    "inverted_index = {}\n",
    "for word, i in tokenizer.word_index.items():\n",
    "    inverted_index[i] = word\n",
    "    \n",
    "#print(inverted_index)"
   ]
  },
  {
   "cell_type": "markdown",
   "metadata": {},
   "source": [
    "### Word-word co-ocurrence matrix and normalization"
   ]
  },
  {
   "cell_type": "code",
   "execution_count": 4,
   "metadata": {},
   "outputs": [],
   "source": [
    "#create co-occurrence matrix\n",
    "#print(corpus[0])\n",
    "coMatrix = np.zeros((V, V))\n",
    "total = 0\n",
    "for sequence in corpus:\n",
    "    for idx, termId in enumerate(sequence):\n",
    "        sl = len(sequence)\n",
    "        ## select left window\n",
    "        leftw = sequence[max(idx - window_size_corpus, 0): idx]\n",
    "        ## select right window\n",
    "        rightw = sequence[idx + 1: min(idx + window_size_corpus + 1, sl)]\n",
    "        # update co-occurrence matrix\n",
    "        neighboors = leftw + rightw\n",
    "        for neighbor in neighboors: \n",
    "            coMatrix[termId, neighbor] += 1\n",
    "            total += 1\n",
    "        \n",
    "\n",
    "# matrix normalization over the total number of the frequencies in the matrix\n",
    "# as recommended in class\n",
    "(rows, columns) = coMatrix.shape\n",
    "for rowIdx in range(rows):\n",
    "    # ignore first row with 0 entries everywhere\n",
    "    if (rowIdx > 0):\n",
    "        row = coMatrix[rowIdx]\n",
    "        #total = row.sum()\n",
    "        # avoid division by zero in words that have no neighboors\n",
    "        if total > 0:\n",
    "            coMatrix[rowIdx] = np.divide(row, total)\n"
   ]
  },
  {
   "cell_type": "code",
   "execution_count": 5,
   "metadata": {},
   "outputs": [
    {
     "name": "stdout",
     "output_type": "stream",
     "text": [
      "[[0.00000000e+00 0.00000000e+00 0.00000000e+00 ... 0.00000000e+00\n",
      "  0.00000000e+00 0.00000000e+00]\n",
      " [0.00000000e+00 1.10132159e-03 1.69986593e-03 ... 2.39417736e-05\n",
      "  0.00000000e+00 0.00000000e+00]\n",
      " [0.00000000e+00 1.69986593e-03 4.30951925e-04 ... 2.39417736e-05\n",
      "  2.39417736e-05 2.39417736e-05]\n",
      " ...\n",
      " [0.00000000e+00 2.39417736e-05 2.39417736e-05 ... 0.00000000e+00\n",
      "  0.00000000e+00 0.00000000e+00]\n",
      " [0.00000000e+00 0.00000000e+00 2.39417736e-05 ... 0.00000000e+00\n",
      "  0.00000000e+00 0.00000000e+00]\n",
      " [0.00000000e+00 0.00000000e+00 2.39417736e-05 ... 0.00000000e+00\n",
      "  0.00000000e+00 0.00000000e+00]]\n"
     ]
    }
   ],
   "source": [
    "print(coMatrix)"
   ]
  },
  {
   "cell_type": "code",
   "execution_count": 6,
   "metadata": {},
   "outputs": [
    {
     "name": "stdout",
     "output_type": "stream",
     "text": [
      "[[0.         0.00033518 0.00043095 ... 0.         0.         0.        ]]\n",
      "[[0.00000000e+00 7.18253208e-05 7.18253208e-05 ... 0.00000000e+00\n",
      "  0.00000000e+00 0.00000000e+00]]\n",
      "[[0.00000000e+00 3.83068378e-04 2.39417736e-05 ... 0.00000000e+00\n",
      "  0.00000000e+00 0.00000000e+00]]\n",
      "Cosine similarity between Alice and Dinah: [[0.39360011]]\n",
      "Cosine similarity between Alice and Rabbit: [[0.47890931]]\n",
      "Cosine similarity between Dinah and Rabbit: [[0.29862324]]\n"
     ]
    }
   ],
   "source": [
    "#find cosine similarity to Alice, Dinah and Rabbit\n",
    "aliceIdx = tokenizer.word_index['Alice'.lower()]\n",
    "dinahIdx = tokenizer.word_index['Dinah'.lower()]\n",
    "rabbitIdx = tokenizer.word_index['Rabbit'.lower()]\n",
    "\n",
    "aliceVector = coMatrix[aliceIdx].reshape(1, -1)\n",
    "dinahVector = coMatrix[dinahIdx].reshape(1, -1)\n",
    "rabbitVector = coMatrix[rabbitIdx].reshape(1, -1)\n",
    "print(aliceVector)\n",
    "print(dinahVector)\n",
    "print(rabbitVector)\n",
    "\n",
    "cosAD = cosine_similarity(aliceVector, dinahVector)\n",
    "print(\"Cosine similarity between Alice and Dinah: {}\".format(cosAD))\n",
    "cosAR = cosine_similarity(aliceVector, rabbitVector)\n",
    "print(\"Cosine similarity between Alice and Rabbit: {}\".format(cosAR))\n",
    "cosDR = cosine_similarity(dinahVector, rabbitVector)\n",
    "print(\"Cosine similarity between Dinah and Rabbit: {}\".format(cosDR))\n"
   ]
  },
  {
   "cell_type": "markdown",
   "metadata": {},
   "source": [
    "### Five closest words to Alice"
   ]
  },
  {
   "cell_type": "code",
   "execution_count": 7,
   "metadata": {
    "scrolled": true
   },
   "outputs": [
    {
     "name": "stdout",
     "output_type": "stream",
     "text": [
      "Closest words to Alice\n",
      "0: alice\n",
      "1: she\n",
      "2: it\n",
      "3: the\n",
      "4: a\n",
      "5: herself\n"
     ]
    }
   ],
   "source": [
    "#find the closest words to Alice\n",
    "nbrs = nn(n_neighbors=6, algorithm='brute', metric='cosine').fit(coMatrix)\n",
    "distances, indices = nbrs.kneighbors(aliceVector)\n",
    "\n",
    "print(\"Closest words to Alice\")\n",
    "for pos, index in enumerate(indices[0]):\n",
    "    print(\"{}: {}\".format(pos, inverted_index[index]))"
   ]
  },
  {
   "cell_type": "markdown",
   "metadata": {},
   "source": [
    "From the results above we observe the six closest words to 'Alice'.\n",
    "\n",
    "* The first word corresponds to 'Alice' itself. This word is returned by the NearestNeighbors classifier from sklearn by default. \n",
    "\n",
    "* The next five words are the closest words to 'Alice'."
   ]
  },
  {
   "cell_type": "code",
   "execution_count": 8,
   "metadata": {},
   "outputs": [],
   "source": [
    "#Save your all the vector representations of your word embeddings in this way\n",
    "#Change when necessary the sizes of the vocabulary/embedding dimension\n",
    "\n",
    "f = open('vectors_co_occurrence.txt',\"w\")\n",
    "f.write(\" \".join([str(V-1),str(V-1)]))\n",
    "f.write(\"\\n\")\n",
    "\n",
    "#vectors = your word co-occurrence matrix\n",
    "vectors = []\n",
    "for word, i in tokenizer.word_index.items():    \n",
    "    f.write(word)\n",
    "    f.write(\" \")\n",
    "    f.write(\" \".join(map(str, list(coMatrix[i,:]))))\n",
    "    f.write(\"\\n\")\n",
    "f.close()"
   ]
  },
  {
   "cell_type": "code",
   "execution_count": 9,
   "metadata": {},
   "outputs": [],
   "source": [
    "#reopen your file as follows\n",
    "\n",
    "#co_occurrence = KeyedVectors.load_word2vec_format('./vectors_co_occurrence.txt', binary=False)"
   ]
  },
  {
   "cell_type": "markdown",
   "metadata": {},
   "source": [
    "### Discussion of the drawbacks: "
   ]
  },
  {
   "cell_type": "markdown",
   "metadata": {},
   "source": [
    "One drawback of the co-occurrence matrix it's its size. It has a size of |V| x |V|, where |V| corresponds to the number of different words in the computed vocabulary (after preprocessing operations like stopwords removal, stemming, etc. are applied to the input dataset). For the Alice dataset used on this assigment, the size of |V| is 1182, and the obtained co-ocurrence matrix needs 6mb to be stored. The size of our vocabulary is very small in comparison with other vocabularies used in real world applications. Those vocabularies have more than ten thousand words, hundred thousand words, or one million words. For such vocabularies, a huge amount of memory is needed to store the corresponding co-occurrence matrix.\n",
    "\n",
    "Also, this matrix is very sparse, most of its entries contain zeros because most of the words in the vocabulary are not associated to the rest of the words. Hence, another representation could be used to avoid wasting memory.\n",
    "\n",
    "By construction, this matrix allows frequent words to be represented by more populated vectors. Therefore, when computing the 'n' most similar words for each vector, these words are more likely to appear in the results than the non frequent words. This becomes a problem when these type of words don't present meaningful information for the final user, like when these words can be considered as stopwords. Weighting techniques like PPMI and tf-idf can be applied to the co-occurrence matrix to solve this issue. "
   ]
  },
  {
   "cell_type": "markdown",
   "metadata": {},
   "source": [
    "## Question 2\n",
    "\n",
    "### Word embeddings\n",
    "Build embeddings with a keras implementation where the embedding vector is of length 50, 150 and 300. Use the Alice in Wonderland text book for training.\n",
    "1. Using the CBOW model\n",
    "2. Using Skipgram model\n",
    "3. Add extra hidden dense layer to CBow and Skipgram implementations. Choose an activation function for that layer and justify your answer.\n",
    "4. Analyze the four different word embeddings\n",
    "    - Implement your own function to perform the analogy task with. Do not use existing libraries for this task such as Gensim. Your function should be able to answer whether an anaology as in the example given in the pdf-file is true.\n",
    "    - Compare the performance on the analogy task between the word embeddings that you have trained in 2.1, 2.2 and 2.3.  \n",
    "    - Visualize your results and interpret your results\n",
    "5. Use the word co-occurence matrix from Question 1. Compare the performance on the analogy task with the performance of your trained word embeddings.  \n",
    "6. Discuss:\n",
    "    - What are the main advantages of CBOW and Skipgram?\n",
    "    - What is the advantage of negative sampling?\n",
    "    - What are the main drawbacks of CBOW and Skipgram?\n",
    "7. Load pre-trained embeddings on large corpuses (see the pdf file). You only have to consider the word embeddings with an embedding size of 300\n",
    "    - Compare performance on the analogy task with your own trained embeddings from \"Alice in Wonderland\". You can limit yourself to the vocabulary of Alice in Wonderland. Visualize the pre-trained word embeddings and compare these with the results of your own trained word embeddings. \n"
   ]
  },
  {
   "cell_type": "markdown",
   "metadata": {},
   "source": [
    "### Train CBOW models"
   ]
  },
  {
   "cell_type": "code",
   "execution_count": 10,
   "metadata": {},
   "outputs": [],
   "source": [
    "# prepare data for cbow\n",
    "\n",
    "from typing import Tuple\n",
    "\n",
    "\n",
    "def generate_data_cbow(corupus: list, window_size: int=2) -> Tuple[np.ndarray, np.ndarray]:\n",
    "    \"\"\"\n",
    "    Create CBOW based on a corpus.\n",
    "    Loop through the sentences and create bag of words based on the windows size.\n",
    "    Args:\n",
    "        corpus: list with words, split up by sentences in a nested list\n",
    "        window_size: size of the bag (1 = one word after and one word before)\n",
    "    \"\"\"\n",
    "    \n",
    "    for sentence in corpus:\n",
    "        for x in range(0, len(sentence) - window_size*2):\n",
    "            y = []\n",
    "            append_data = sentence[x: x+(2*window_size)+1]\n",
    "            append_data.pop(window_size)\n",
    "            y.append(sentence[x+window_size])\n",
    "            x = np.array([append_data])\n",
    "            y = np_utils.to_categorical(y, V)\n",
    "            yield(x, y)\n"
   ]
  },
  {
   "cell_type": "code",
   "execution_count": 11,
   "metadata": {},
   "outputs": [],
   "source": [
    "#create CBOW models\n",
    "cbow_50neurons_model = Sequential()\n",
    "cbow_50neurons_model.add(Embedding(input_dim=V, output_dim=dim_50, input_length=window_size*2))\n",
    "cbow_50neurons_model.add(Lambda(lambda x: K.mean(x, axis=1), output_shape=(dim_50,)))\n",
    "cbow_50neurons_model.add(Dense(input_dim=dim_50, units=V, activation='softmax'))\n",
    "\n",
    "cbow_150neurons_model = Sequential()\n",
    "cbow_150neurons_model.add(Embedding(input_dim=V, output_dim=dim_150, input_length=window_size*2))\n",
    "cbow_150neurons_model.add(Lambda(lambda x: K.mean(x, axis=1), output_shape=(dim_150,)))\n",
    "cbow_150neurons_model.add(Dense(input_dim=dim_150, units=V, activation='softmax'))\n",
    "\n",
    "cbow_300neurons_model = Sequential()\n",
    "cbow_300neurons_model.add(Embedding(input_dim=V, output_dim=dim_300, input_length=window_size*2))\n",
    "cbow_300neurons_model.add(Lambda(lambda x: K.mean(x, axis=1), output_shape=(dim_300,)))\n",
    "cbow_300neurons_model.add(Dense(input_dim=dim_300, units=V, activation='softmax'))"
   ]
  },
  {
   "cell_type": "code",
   "execution_count": 12,
   "metadata": {},
   "outputs": [],
   "source": [
    "#define loss function\n",
    "cbow_50neurons_model.compile(loss='categorical_crossentropy', optimizer='adadelta')\n",
    "cbow_150neurons_model.compile(loss='categorical_crossentropy', optimizer='adadelta')\n",
    "cbow_300neurons_model.compile(loss='categorical_crossentropy', optimizer='adadelta')"
   ]
  },
  {
   "cell_type": "code",
   "execution_count": 13,
   "metadata": {},
   "outputs": [
    {
     "name": "stdout",
     "output_type": "stream",
     "text": [
      "cbow 50 neurons window_size(2) losses: 0 -> 28870.572865486145\n",
      "cbow 50 neurons window_size(2) losses: 1 -> 26432.648179531097\n",
      "cbow 50 neurons window_size(2) losses: 2 -> 26131.937099814415\n",
      "cbow 50 neurons window_size(2) losses: 3 -> 25940.562952578068\n",
      "cbow 50 neurons window_size(2) losses: 4 -> 25804.66644334793\n",
      "cbow 50 neurons window_size(2) losses: 5 -> 25704.465327858925\n",
      "cbow 50 neurons window_size(2) losses: 6 -> 25626.865606486797\n",
      "cbow 50 neurons window_size(2) losses: 7 -> 25558.005579441786\n",
      "cbow 50 neurons window_size(2) losses: 8 -> 25493.520035922527\n",
      "cbow 50 neurons window_size(2) losses: 9 -> 25431.99908696115\n",
      "cbow 50 neurons window_size(2) losses: 10 -> 25372.33431956172\n",
      "cbow 50 neurons window_size(2) losses: 11 -> 25314.477383330464\n",
      "cbow 50 neurons window_size(2) losses: 12 -> 25258.281663514674\n",
      "cbow 50 neurons window_size(2) losses: 13 -> 25203.631252061576\n",
      "cbow 50 neurons window_size(2) losses: 14 -> 25151.333548460156\n",
      "cbow 50 neurons window_size(2) losses: 15 -> 25101.545105210505\n",
      "cbow 50 neurons window_size(2) losses: 16 -> 25053.268413224723\n",
      "cbow 50 neurons window_size(2) losses: 17 -> 25007.43985369592\n",
      "cbow 50 neurons window_size(2) losses: 18 -> 24963.24035425193\n",
      "cbow 50 neurons window_size(2) losses: 19 -> 24920.006736358744\n",
      "cbow 50 neurons window_size(2) losses: 20 -> 24877.685068929335\n",
      "cbow 50 neurons window_size(2) losses: 21 -> 24836.769967396045\n",
      "cbow 50 neurons window_size(2) losses: 22 -> 24796.31540671503\n",
      "cbow 50 neurons window_size(2) losses: 23 -> 24756.631306255556\n",
      "cbow 50 neurons window_size(2) losses: 24 -> 24718.359014413232\n",
      "cbow 50 neurons window_size(2) losses: 25 -> 24680.68802159508\n",
      "cbow 50 neurons window_size(2) losses: 26 -> 24643.150953194126\n",
      "cbow 50 neurons window_size(2) losses: 27 -> 24606.603005145254\n",
      "cbow 50 neurons window_size(2) losses: 28 -> 24571.353197301054\n",
      "cbow 50 neurons window_size(2) losses: 29 -> 24536.978959901884\n",
      "cbow 150 neurons window_size(2) losses: 0 -> 28828.190353155136\n",
      "cbow 150 neurons window_size(2) losses: 1 -> 26287.057822704315\n",
      "cbow 150 neurons window_size(2) losses: 2 -> 25775.745256066322\n",
      "cbow 150 neurons window_size(2) losses: 3 -> 25468.736265599728\n",
      "cbow 150 neurons window_size(2) losses: 4 -> 25246.845416724682\n",
      "cbow 150 neurons window_size(2) losses: 5 -> 25072.72681452334\n",
      "cbow 150 neurons window_size(2) losses: 6 -> 24918.17227692902\n",
      "cbow 150 neurons window_size(2) losses: 7 -> 24775.507957734168\n",
      "cbow 150 neurons window_size(2) losses: 8 -> 24642.48772427067\n",
      "cbow 150 neurons window_size(2) losses: 9 -> 24518.25799892284\n",
      "cbow 150 neurons window_size(2) losses: 10 -> 24402.13073816523\n",
      "cbow 150 neurons window_size(2) losses: 11 -> 24294.083755562548\n",
      "cbow 150 neurons window_size(2) losses: 12 -> 24192.76219272008\n",
      "cbow 150 neurons window_size(2) losses: 13 -> 24097.271780796116\n",
      "cbow 150 neurons window_size(2) losses: 14 -> 24006.114015419735\n",
      "cbow 150 neurons window_size(2) losses: 15 -> 23917.227146002813\n",
      "cbow 150 neurons window_size(2) losses: 16 -> 23830.847239519586\n",
      "cbow 150 neurons window_size(2) losses: 17 -> 23746.982882565935\n",
      "cbow 150 neurons window_size(2) losses: 18 -> 23665.376929518592\n",
      "cbow 150 neurons window_size(2) losses: 19 -> 23585.5275476675\n",
      "cbow 150 neurons window_size(2) losses: 20 -> 23506.902386614325\n",
      "cbow 150 neurons window_size(2) losses: 21 -> 23428.438440296042\n",
      "cbow 150 neurons window_size(2) losses: 22 -> 23350.134108223254\n",
      "cbow 150 neurons window_size(2) losses: 23 -> 23272.050321704184\n",
      "cbow 150 neurons window_size(2) losses: 24 -> 23194.633408184425\n",
      "cbow 150 neurons window_size(2) losses: 25 -> 23117.672222496185\n",
      "cbow 150 neurons window_size(2) losses: 26 -> 23040.983579406922\n",
      "cbow 150 neurons window_size(2) losses: 27 -> 22964.399099438364\n",
      "cbow 150 neurons window_size(2) losses: 28 -> 22888.104527294694\n",
      "cbow 150 neurons window_size(2) losses: 29 -> 22812.11861706675\n",
      "cbow 300 neurons window_size(2) losses: 0 -> 28781.05141401291\n",
      "cbow 300 neurons window_size(2) losses: 1 -> 26141.02677834034\n",
      "cbow 300 neurons window_size(2) losses: 2 -> 25486.35199099779\n",
      "cbow 300 neurons window_size(2) losses: 3 -> 25116.956856548786\n",
      "cbow 300 neurons window_size(2) losses: 4 -> 24847.94568838179\n",
      "cbow 300 neurons window_size(2) losses: 5 -> 24621.826312318444\n",
      "cbow 300 neurons window_size(2) losses: 6 -> 24419.643503904343\n",
      "cbow 300 neurons window_size(2) losses: 7 -> 24234.755465803668\n",
      "cbow 300 neurons window_size(2) losses: 8 -> 24063.382059002295\n",
      "cbow 300 neurons window_size(2) losses: 9 -> 23903.98653290281\n",
      "cbow 300 neurons window_size(2) losses: 10 -> 23756.186690440867\n",
      "cbow 300 neurons window_size(2) losses: 11 -> 23619.890713145258\n",
      "cbow 300 neurons window_size(2) losses: 12 -> 23493.141123400535\n",
      "cbow 300 neurons window_size(2) losses: 13 -> 23373.554215834825\n",
      "cbow 300 neurons window_size(2) losses: 14 -> 23259.986201679625\n",
      "cbow 300 neurons window_size(2) losses: 15 -> 23150.532135449525\n",
      "cbow 300 neurons window_size(2) losses: 16 -> 23043.64091727446\n",
      "cbow 300 neurons window_size(2) losses: 17 -> 22938.90310704807\n",
      "cbow 300 neurons window_size(2) losses: 18 -> 22835.76381535639\n",
      "cbow 300 neurons window_size(2) losses: 19 -> 22733.766045534983\n",
      "cbow 300 neurons window_size(2) losses: 20 -> 22631.55440633383\n",
      "cbow 300 neurons window_size(2) losses: 21 -> 22529.846381106297\n",
      "cbow 300 neurons window_size(2) losses: 22 -> 22428.240048079926\n",
      "cbow 300 neurons window_size(2) losses: 23 -> 22327.053601509193\n",
      "cbow 300 neurons window_size(2) losses: 24 -> 22226.324974677176\n",
      "cbow 300 neurons window_size(2) losses: 25 -> 22125.935756411316\n",
      "cbow 300 neurons window_size(2) losses: 26 -> 22026.342178051855\n",
      "cbow 300 neurons window_size(2) losses: 27 -> 21927.797275798017\n",
      "cbow 300 neurons window_size(2) losses: 28 -> 21830.3823503248\n",
      "cbow 300 neurons window_size(2) losses: 29 -> 21734.237039872998\n"
     ]
    }
   ],
   "source": [
    "#train model\n",
    "EPOCHS = 30\n",
    "#EPOCHS = 1\n",
    "\n",
    "for idx in range(EPOCHS):\n",
    "    loss = 0.\n",
    "    for x, y in generate_data_cbow(corpus, window_size):\n",
    "        loss += cbow_50neurons_model.train_on_batch(x, y)\n",
    "    print(\"cbow 50 neurons window_size(2) losses: {} -> {}\".format(idx, loss))\n",
    "\n",
    "for idx in range(EPOCHS):\n",
    "    loss = 0.\n",
    "    for x, y in generate_data_cbow(corpus, window_size):\n",
    "        loss += cbow_150neurons_model.train_on_batch(x, y)\n",
    "    print(\"cbow 150 neurons window_size(2) losses: {} -> {}\".format(idx, loss))\n",
    "\n",
    "for idx in range(EPOCHS):\n",
    "    loss = 0.\n",
    "    for x, y in generate_data_cbow(corpus, window_size):\n",
    "        loss += cbow_300neurons_model.train_on_batch(x, y)\n",
    "    print(\"cbow 300 neurons window_size(2) losses: {} -> {}\".format(idx, loss))"
   ]
  },
  {
   "cell_type": "code",
   "execution_count": 14,
   "metadata": {},
   "outputs": [],
   "source": [
    "cbow_50neurons_embeddings = cbow_50neurons_model.get_weights()[0]\n",
    "cbow_150neurons_embeddings = cbow_150neurons_model.get_weights()[0]\n",
    "cbow_300neurons_embeddings = cbow_300neurons_model.get_weights()[0]\n"
   ]
  },
  {
   "cell_type": "markdown",
   "metadata": {},
   "source": [
    "### Train Skipgram models "
   ]
  },
  {
   "cell_type": "code",
   "execution_count": 15,
   "metadata": {},
   "outputs": [],
   "source": [
    "#prepare data for Skipgram\n",
    "def generate_data_skipgram(corpus, window_size, V):\n",
    "    maxlen = window_size*2\n",
    "    all_in = []\n",
    "    all_out = []\n",
    "    for words in corpus:\n",
    "        L = len(words)\n",
    "        for index, word in enumerate(words):\n",
    "            p = index - window_size\n",
    "            n = index + window_size + 1\n",
    "            \n",
    "            in_words = []\n",
    "            labels = []\n",
    "            for i in range(p, n):\n",
    "                if i != index and 0 <= i < L:\n",
    "                    # repeat the same word several times\n",
    "                    in_words.append([word])\n",
    "                    # add the context words\n",
    "                    labels.append(words[i])\n",
    "            if in_words != []:\n",
    "                #print(in_words)\n",
    "                all_in.append(np.array(in_words,dtype=np.int32))\n",
    "                all_out.append(np_utils.to_categorical(labels, V))\n",
    "                #print(all_in)\n",
    "                #print(all_in[0].shape)\n",
    "                #print(all_out)\n",
    "                #print(all_out[0].shape)\n",
    "                #break\n",
    "    return (all_in,all_out)"
   ]
  },
  {
   "cell_type": "code",
   "execution_count": 16,
   "metadata": {},
   "outputs": [],
   "source": [
    "#save the preprocessed data of Skipgram\n",
    "def save_skipgram_data(filename, x, y):\n",
    "    f = open(filename ,'w')\n",
    "    for input,outcome  in zip(x,y):\n",
    "        input = np.concatenate(input)\n",
    "        f.write(\" \".join(map(str, list(input))))\n",
    "        f.write(\",\")\n",
    "        outcome = np.concatenate(outcome)\n",
    "        f.write(\" \".join(map(str,list(outcome))))\n",
    "        f.write(\"\\n\")\n",
    "    f.close()"
   ]
  },
  {
   "cell_type": "code",
   "execution_count": 17,
   "metadata": {},
   "outputs": [],
   "source": [
    "#load the preprocessed Skipgram data\n",
    "def generate_data_skipgram_from_file(filename):\n",
    "    f = open(filename ,'r')\n",
    "    for row in f:\n",
    "        inputs,outputs = row.split(\",\")\n",
    "        inputs = np.fromstring(inputs, dtype=int, sep=' ')\n",
    "        inputs = np.asarray(np.split(inputs, len(inputs)))\n",
    "        outputs = np.fromstring(outputs, dtype=float, sep=' ')\n",
    "        outputs = np.asarray(np.split(outputs, len(inputs)))\n",
    "        yield (inputs,outputs)"
   ]
  },
  {
   "cell_type": "code",
   "execution_count": 18,
   "metadata": {},
   "outputs": [],
   "source": [
    "# Generate and save data for skipgram model\n",
    "DATA_SKIPGRAM_FILENAME = \"data_skipgram.txt\"\n",
    "x,y = generate_data_skipgram(corpus,window_size,V)\n",
    "save_skipgram_data(DATA_SKIPGRAM_FILENAME, x, y)\n"
   ]
  },
  {
   "cell_type": "code",
   "execution_count": 19,
   "metadata": {},
   "outputs": [],
   "source": [
    "#create Skipgram models\n",
    "skipgram_50neurons_model = Sequential()\n",
    "skipgram_50neurons_model.add(Embedding(input_dim=V, output_dim=dim_50, embeddings_initializer='glorot_uniform', input_length=1))\n",
    "skipgram_50neurons_model.add(Reshape((dim_50, )))\n",
    "skipgram_50neurons_model.add(Dense(input_dim=dim_50, units=V, kernel_initializer='uniform', activation='softmax'))\n",
    "\n",
    "skipgram_150neurons_model = Sequential()\n",
    "skipgram_150neurons_model.add(Embedding(input_dim=V, output_dim=dim_150, embeddings_initializer='glorot_uniform', input_length=1))\n",
    "skipgram_150neurons_model.add(Reshape((dim_150, )))\n",
    "skipgram_150neurons_model.add(Dense(input_dim=dim_150, units=V, kernel_initializer='uniform', activation='softmax'))\n",
    "\n",
    "skipgram_300neurons_model = Sequential()\n",
    "skipgram_300neurons_model.add(Embedding(input_dim=V, output_dim=dim_300, embeddings_initializer='glorot_uniform', input_length=1))\n",
    "skipgram_300neurons_model.add(Reshape((dim_300, )))\n",
    "skipgram_300neurons_model.add(Dense(input_dim=dim_300, units=V, kernel_initializer='uniform', activation='softmax'))"
   ]
  },
  {
   "cell_type": "markdown",
   "metadata": {},
   "source": [
    "### Selection of the loss function\n",
    "\n",
    "For the loss functions for skigrams the adam optimization method was used. This optimization method combines the benefits of RMSprop and SGD with momentum.\n",
    "This method is recommended by Andrew NG for neural networks architectures, and we understand (conceptually) the way it works.\n",
    "That's why we decided to use this optmizer for the Skipgram models."
   ]
  },
  {
   "cell_type": "code",
   "execution_count": 20,
   "metadata": {},
   "outputs": [],
   "source": [
    "#define loss function for Skipgrams\n",
    "skipgram_50neurons_model.compile(loss='categorical_crossentropy', optimizer='adam')\n",
    "skipgram_150neurons_model.compile(loss='categorical_crossentropy', optimizer='adam')\n",
    "skipgram_300neurons_model.compile(loss='categorical_crossentropy', optimizer='adam')"
   ]
  },
  {
   "cell_type": "code",
   "execution_count": 21,
   "metadata": {},
   "outputs": [
    {
     "name": "stdout",
     "output_type": "stream",
     "text": [
      "skipgram 50neurons losses: 0 -> 41215.82721936703\n",
      "skipgram 50neurons losses: 1 -> 37253.353523135185\n",
      "skipgram 50neurons losses: 2 -> 36125.69255232811\n",
      "skipgram 50neurons losses: 3 -> 35151.42163717747\n",
      "skipgram 50neurons losses: 4 -> 34261.05903315544\n",
      "skipgram 50neurons losses: 5 -> 33456.00602519512\n",
      "skipgram 50neurons losses: 6 -> 32729.522541046143\n",
      "skipgram 50neurons losses: 7 -> 32075.501522779465\n",
      "skipgram 50neurons losses: 8 -> 31489.96863669157\n",
      "skipgram 50neurons losses: 9 -> 30969.464564204216\n",
      "skipgram 150neurons losses: 0 -> 40983.57593071461\n",
      "skipgram 150neurons losses: 1 -> 36523.10159564018\n",
      "skipgram 150neurons losses: 2 -> 34716.83236908913\n",
      "skipgram 150neurons losses: 3 -> 33142.01504290104\n",
      "skipgram 150neurons losses: 4 -> 31779.95502769947\n",
      "skipgram 150neurons losses: 5 -> 30643.825600266457\n",
      "skipgram 150neurons losses: 6 -> 29728.965275347233\n",
      "skipgram 150neurons losses: 7 -> 29012.453014150262\n",
      "skipgram 150neurons losses: 8 -> 28469.749041371047\n",
      "skipgram 150neurons losses: 9 -> 28065.155101733282\n",
      "skipgram 300neurons losses: 0 -> 40867.754470944405\n",
      "skipgram 300neurons losses: 1 -> 35906.538834929466\n",
      "skipgram 300neurons losses: 2 -> 33538.33312034607\n",
      "skipgram 300neurons losses: 3 -> 31614.81788110733\n",
      "skipgram 300neurons losses: 4 -> 30155.52967298031\n",
      "skipgram 300neurons losses: 5 -> 29143.16590733826\n",
      "skipgram 300neurons losses: 6 -> 28499.268747080117\n",
      "skipgram 300neurons losses: 7 -> 28119.479406389408\n",
      "skipgram 300neurons losses: 8 -> 27918.939914668328\n",
      "skipgram 300neurons losses: 9 -> 27835.640965981\n"
     ]
    }
   ],
   "source": [
    "#train Skipgram models\n",
    "#EPOCHS = 1\n",
    "EPOCHS = 10\n",
    "\n",
    "\n",
    "skipgram_50neurons_losses = []\n",
    "for ite in range(EPOCHS):\n",
    "    loss = 0.\n",
    "    for x, y in generate_data_skipgram_from_file(DATA_SKIPGRAM_FILENAME):\n",
    "        loss += skipgram_50neurons_model.train_on_batch(x, y)\n",
    "    skipgram_50neurons_losses.append((ite, loss))\n",
    "    print(\"skipgram 50neurons losses: {} -> {}\".format(ite, loss))\n",
    "\n",
    "\n",
    "skipgram_150neurons_losses = []\n",
    "for ite in range(EPOCHS):\n",
    "    loss = 0.\n",
    "    for x, y in generate_data_skipgram_from_file(DATA_SKIPGRAM_FILENAME):\n",
    "        loss += skipgram_150neurons_model.train_on_batch(x, y)\n",
    "    skipgram_150neurons_losses.append((ite, loss))\n",
    "    print(\"skipgram 150neurons losses: {} -> {}\".format(ite, loss))\n",
    "\n",
    "skipgram_300neurons_losses = []\n",
    "for ite in range(EPOCHS):\n",
    "    loss = 0.\n",
    "    for x, y in generate_data_skipgram_from_file(DATA_SKIPGRAM_FILENAME):\n",
    "        loss += skipgram_300neurons_model.train_on_batch(x, y)\n",
    "    skipgram_300neurons_losses.append((ite, loss))\n",
    "    print(\"skipgram 300neurons losses: {} -> {}\".format(ite, loss))\n"
   ]
  },
  {
   "cell_type": "code",
   "execution_count": null,
   "metadata": {},
   "outputs": [],
   "source": []
  },
  {
   "cell_type": "code",
   "execution_count": 22,
   "metadata": {},
   "outputs": [],
   "source": [
    "# save computed vectors\n",
    "def save_computed_vectors(filename, vectors, dimension):\n",
    "    f = open(filename ,'w')\n",
    "    f.write(\" \".join([str(V-1),str(dimension)]))\n",
    "    f.write(\"\\n\")\n",
    "\n",
    "    for word, i in tokenizer.word_index.items():\n",
    "        f.write(word)\n",
    "        f.write(\" \")\n",
    "        f.write(\" \".join(map(str, list(vectors[i,:]))))\n",
    "        f.write(\"\\n\")\n",
    "    f.close()"
   ]
  },
  {
   "cell_type": "code",
   "execution_count": 23,
   "metadata": {},
   "outputs": [
    {
     "name": "stdout",
     "output_type": "stream",
     "text": [
      "(1183, 50)\n",
      "(1183, 150)\n",
      "(1183, 300)\n"
     ]
    }
   ],
   "source": [
    "#Save computed vectors\n",
    "VECTORS_SKIPGRAM_50NEURONS_FILENAME = 'vectors_skipgram_50neurons.txt'\n",
    "skipgram_50neurons_model_vectors = skipgram_50neurons_model.get_weights()[0]\n",
    "print(skipgram_50neurons_model_vectors.shape)\n",
    "save_computed_vectors(VECTORS_SKIPGRAM_50NEURONS_FILENAME, skipgram_50neurons_model_vectors, dim_50)\n",
    "\n",
    "VECTORS_SKIPGRAM_150NEURONS_FILENAME = 'vectors_skipgram_150neurons.txt'\n",
    "skipgram_150neurons_model_vectors = skipgram_150neurons_model.get_weights()[0]\n",
    "print(skipgram_150neurons_model_vectors.shape)\n",
    "save_computed_vectors(VECTORS_SKIPGRAM_150NEURONS_FILENAME, skipgram_150neurons_model_vectors, dim_150)\n",
    "\n",
    "VECTORS_SKIPGRAM_300NEURONS_FILENAME = 'vectors_skipgram_300neurons.txt'\n",
    "skipgram_300neurons_model_vectors = skipgram_300neurons_model.get_weights()[0]\n",
    "print(skipgram_300neurons_model_vectors.shape)\n",
    "save_computed_vectors(VECTORS_SKIPGRAM_300NEURONS_FILENAME, skipgram_300neurons_model_vectors, dim_300)"
   ]
  },
  {
   "cell_type": "code",
   "execution_count": 24,
   "metadata": {},
   "outputs": [],
   "source": [
    "# load computed vectors\n",
    "def load_word_vectors(filename):\n",
    "    f = open(filename, 'r')\n",
    "    # read first line to get the dimensions\n",
    "    dim_rows = 0\n",
    "    dim_columns = 0\n",
    "    word_vectors = None\n",
    "    for line in f.readlines():\n",
    "        input_values = line.strip().split(\" \")\n",
    "        if len(input_values) == 2:\n",
    "            dim_rows = int(input_values[0])\n",
    "            dim_columns = int(input_values[1])\n",
    "            word_vectors = np.zeros((dim_rows+1, dim_columns))\n",
    "            #print(\"rows: {}, columns: {}\".format(dim_rows, dim_columns))\n",
    "        else:\n",
    "            word = input_values[0]\n",
    "            vector_values = np.fromstring(\" \".join(input_values[1:]), dtype=float, sep=' ')\n",
    "            word_vectors[tokenizer.word_index[word]] = vector_values\n",
    "            \n",
    "    f.close()\n",
    "    return word_vectors\n"
   ]
  },
  {
   "cell_type": "code",
   "execution_count": 25,
   "metadata": {},
   "outputs": [],
   "source": [
    "loaded_skipgram_50neurons_model_vectors = load_word_vectors(VECTORS_SKIPGRAM_50NEURONS_FILENAME)\n",
    "loaded_skipgram_150neurons_model_vectors = load_word_vectors(VECTORS_SKIPGRAM_150NEURONS_FILENAME)\n",
    "loaded_skipgram_300neurons_model_vectors = load_word_vectors(VECTORS_SKIPGRAM_300NEURONS_FILENAME)"
   ]
  },
  {
   "cell_type": "markdown",
   "metadata": {},
   "source": [
    "### CBOW model with additional dense layer"
   ]
  },
  {
   "cell_type": "code",
   "execution_count": 26,
   "metadata": {},
   "outputs": [],
   "source": [
    "#create CBOW model with additional dense layer\n",
    "cbow_50neurons_dense = Sequential()\n",
    "cbow_50neurons_dense.add(Embedding(input_dim=V, output_dim=dim_50, input_length=window_size*2))\n",
    "cbow_50neurons_dense.add(Lambda(lambda x: K.mean(x, axis=1), output_shape=(dim_50,)))\n",
    "cbow_50neurons_dense.add(Dense(input_dim=V, units=dim_50, kernel_initializer='he_uniform', activation='relu'))\n",
    "cbow_50neurons_dense.add(Dense(input_dim=dim_50, units=V, kernel_initializer='uniform', activation='softmax'))\n",
    "\n",
    "cbow_150neurons_dense = Sequential()\n",
    "cbow_150neurons_dense.add(Embedding(input_dim=V, output_dim=dim_150, input_length=window_size*2))\n",
    "cbow_150neurons_dense.add(Lambda(lambda x: K.mean(x, axis=1), output_shape=(dim_150,)))\n",
    "cbow_150neurons_dense.add(Dense(input_dim=V, units=dim_150, kernel_initializer='he_uniform', activation='relu'))\n",
    "cbow_150neurons_dense.add(Dense(input_dim=dim_150, units=V, kernel_initializer='uniform', activation='softmax'))\n",
    "\n",
    "cbow_300neurons_dense = Sequential()\n",
    "cbow_300neurons_dense.add(Embedding(input_dim=V, output_dim=dim_300, input_length=window_size*2))\n",
    "cbow_300neurons_dense.add(Lambda(lambda x: K.mean(x, axis=1), output_shape=(dim_300,)))\n",
    "cbow_300neurons_dense.add(Dense(input_dim=V, units=dim_300, kernel_initializer='he_uniform', activation='relu'))\n",
    "cbow_300neurons_dense.add(Dense(input_dim=dim_300, units=V, kernel_initializer='uniform', activation='softmax'))\n"
   ]
  },
  {
   "cell_type": "code",
   "execution_count": 27,
   "metadata": {},
   "outputs": [],
   "source": [
    "#define loss function for CBOW + dense\n",
    "cbow_50neurons_dense.compile(loss='categorical_crossentropy', optimizer='adadelta')\n",
    "cbow_150neurons_dense.compile(loss='categorical_crossentropy', optimizer='adadelta')\n",
    "cbow_300neurons_dense.compile(loss='categorical_crossentropy', optimizer='adadelta')"
   ]
  },
  {
   "cell_type": "code",
   "execution_count": 28,
   "metadata": {},
   "outputs": [
    {
     "name": "stdout",
     "output_type": "stream",
     "text": [
      "cbow 50 neurons window_size(2) losses: 0 -> 27283.63841331005\n",
      "cbow 50 neurons window_size(2) losses: 1 -> 26197.680680453777\n",
      "cbow 50 neurons window_size(2) losses: 2 -> 26119.326221764088\n",
      "cbow 50 neurons window_size(2) losses: 3 -> 25907.830275714397\n",
      "cbow 50 neurons window_size(2) losses: 4 -> 25699.168518573046\n",
      "cbow 50 neurons window_size(2) losses: 5 -> 25539.417847186327\n",
      "cbow 50 neurons window_size(2) losses: 6 -> 25366.678168028593\n",
      "cbow 50 neurons window_size(2) losses: 7 -> 25160.361837863922\n",
      "cbow 50 neurons window_size(2) losses: 8 -> 24949.63837069273\n",
      "cbow 50 neurons window_size(2) losses: 9 -> 24727.75257501006\n",
      "cbow 50 neurons window_size(2) losses: 10 -> 24498.6994215101\n",
      "cbow 50 neurons window_size(2) losses: 11 -> 24274.078550860286\n",
      "cbow 50 neurons window_size(2) losses: 12 -> 24041.172778464854\n",
      "cbow 50 neurons window_size(2) losses: 13 -> 23803.993940208107\n",
      "cbow 50 neurons window_size(2) losses: 14 -> 23578.035457603633\n",
      "cbow 50 neurons window_size(2) losses: 15 -> 23358.802276045084\n",
      "cbow 50 neurons window_size(2) losses: 16 -> 23126.10314047709\n",
      "cbow 50 neurons window_size(2) losses: 17 -> 22891.97612293251\n",
      "cbow 50 neurons window_size(2) losses: 18 -> 22711.425819533877\n",
      "cbow 50 neurons window_size(2) losses: 19 -> 22613.55904846918\n",
      "cbow 50 neurons window_size(2) losses: 20 -> 22638.923999932245\n",
      "cbow 50 neurons window_size(2) losses: 21 -> 22628.997694343678\n",
      "cbow 50 neurons window_size(2) losses: 22 -> 22574.772911941167\n",
      "cbow 50 neurons window_size(2) losses: 23 -> 22596.53057144431\n",
      "cbow 50 neurons window_size(2) losses: 24 -> 22780.563884746167\n",
      "cbow 50 neurons window_size(2) losses: 25 -> 23697.76539010508\n",
      "cbow 50 neurons window_size(2) losses: 26 -> 25517.908172839787\n",
      "cbow 50 neurons window_size(2) losses: 27 -> 27147.58226932725\n",
      "cbow 50 neurons window_size(2) losses: 28 -> 28507.766654803767\n",
      "cbow 50 neurons window_size(2) losses: 29 -> 29174.168242234795\n",
      "cbow 150 neurons window_size(2) losses: 0 -> 27161.789056897163\n",
      "cbow 150 neurons window_size(2) losses: 1 -> 25966.72805431485\n",
      "cbow 150 neurons window_size(2) losses: 2 -> 25486.981158196926\n",
      "cbow 150 neurons window_size(2) losses: 3 -> 25073.41234534979\n",
      "cbow 150 neurons window_size(2) losses: 4 -> 24683.133589144796\n",
      "cbow 150 neurons window_size(2) losses: 5 -> 24297.381622172892\n",
      "cbow 150 neurons window_size(2) losses: 6 -> 23903.414879492484\n",
      "cbow 150 neurons window_size(2) losses: 7 -> 23503.825273289345\n",
      "cbow 150 neurons window_size(2) losses: 8 -> 23170.54766919557\n",
      "cbow 150 neurons window_size(2) losses: 9 -> 22901.834570821607\n",
      "cbow 150 neurons window_size(2) losses: 10 -> 22635.373569745105\n",
      "cbow 150 neurons window_size(2) losses: 11 -> 22228.153418919246\n",
      "cbow 150 neurons window_size(2) losses: 12 -> 22124.278519933287\n",
      "cbow 150 neurons window_size(2) losses: 13 -> 22246.330774518137\n",
      "cbow 150 neurons window_size(2) losses: 14 -> 22444.52142794762\n",
      "cbow 150 neurons window_size(2) losses: 15 -> 22909.22855147568\n",
      "cbow 150 neurons window_size(2) losses: 16 -> 23075.830726881337\n",
      "cbow 150 neurons window_size(2) losses: 17 -> 23090.622020770097\n",
      "cbow 150 neurons window_size(2) losses: 18 -> 22859.84107649536\n",
      "cbow 150 neurons window_size(2) losses: 19 -> 22567.362466631574\n",
      "cbow 150 neurons window_size(2) losses: 20 -> 22271.207227523773\n",
      "cbow 150 neurons window_size(2) losses: 21 -> 21986.136503778493\n",
      "cbow 150 neurons window_size(2) losses: 22 -> 21705.29795590439\n",
      "cbow 150 neurons window_size(2) losses: 23 -> 21371.180478995928\n",
      "cbow 150 neurons window_size(2) losses: 24 -> 21104.567923290364\n",
      "cbow 150 neurons window_size(2) losses: 25 -> 20911.644571508936\n",
      "cbow 150 neurons window_size(2) losses: 26 -> 20681.304011607674\n",
      "cbow 150 neurons window_size(2) losses: 27 -> 20377.85634287705\n",
      "cbow 150 neurons window_size(2) losses: 28 -> 20110.329086075253\n",
      "cbow 150 neurons window_size(2) losses: 29 -> 19863.093565247684\n",
      "cbow 300 neurons window_size(2) losses: 0 -> 27054.146030902863\n",
      "cbow 300 neurons window_size(2) losses: 1 -> 25627.383607029915\n",
      "cbow 300 neurons window_size(2) losses: 2 -> 24932.526814624667\n",
      "cbow 300 neurons window_size(2) losses: 3 -> 24359.609660306945\n",
      "cbow 300 neurons window_size(2) losses: 4 -> 23837.37629346177\n",
      "cbow 300 neurons window_size(2) losses: 5 -> 23295.688231033273\n",
      "cbow 300 neurons window_size(2) losses: 6 -> 22672.121287912363\n",
      "cbow 300 neurons window_size(2) losses: 7 -> 22005.22574531054\n",
      "cbow 300 neurons window_size(2) losses: 8 -> 21272.181367639336\n",
      "cbow 300 neurons window_size(2) losses: 9 -> 20531.160190802737\n",
      "cbow 300 neurons window_size(2) losses: 10 -> 19844.86573554424\n",
      "cbow 300 neurons window_size(2) losses: 11 -> 19296.271738794567\n",
      "cbow 300 neurons window_size(2) losses: 12 -> 18976.437256151083\n",
      "cbow 300 neurons window_size(2) losses: 13 -> 18454.074349803413\n",
      "cbow 300 neurons window_size(2) losses: 14 -> 19129.8350001614\n",
      "cbow 300 neurons window_size(2) losses: 15 -> 19647.220354881487\n",
      "cbow 300 neurons window_size(2) losses: 16 -> 19523.20175026945\n",
      "cbow 300 neurons window_size(2) losses: 17 -> 19241.515970070628\n",
      "cbow 300 neurons window_size(2) losses: 18 -> 18680.768813681723\n",
      "cbow 300 neurons window_size(2) losses: 19 -> 18090.148761424003\n",
      "cbow 300 neurons window_size(2) losses: 20 -> 17519.473079787218\n",
      "cbow 300 neurons window_size(2) losses: 21 -> 17102.022281606496\n",
      "cbow 300 neurons window_size(2) losses: 22 -> 16738.26983694602\n",
      "cbow 300 neurons window_size(2) losses: 23 -> 16378.705115765562\n",
      "cbow 300 neurons window_size(2) losses: 24 -> 15997.67484789525\n",
      "cbow 300 neurons window_size(2) losses: 25 -> 15606.487894263502\n",
      "cbow 300 neurons window_size(2) losses: 26 -> 15243.328236424297\n",
      "cbow 300 neurons window_size(2) losses: 27 -> 14835.04479054417\n",
      "cbow 300 neurons window_size(2) losses: 28 -> 14595.639712572916\n",
      "cbow 300 neurons window_size(2) losses: 29 -> 14367.634167755896\n"
     ]
    }
   ],
   "source": [
    "#train model for CBOW + dense\n",
    "EPOCHS = 30\n",
    "#EPOCHS = 1\n",
    "\n",
    "for idx in range(EPOCHS):\n",
    "    loss = 0.\n",
    "    for x, y in generate_data_cbow(corpus, window_size):\n",
    "        loss += cbow_50neurons_dense.train_on_batch(x, y)\n",
    "    print(\"cbow 50 neurons window_size(2) losses: {} -> {}\".format(idx, loss))\n",
    "\n",
    "for idx in range(EPOCHS):\n",
    "    loss = 0.\n",
    "    for x, y in generate_data_cbow(corpus, window_size):\n",
    "        loss += cbow_150neurons_dense.train_on_batch(x, y)\n",
    "    print(\"cbow 150 neurons window_size(2) losses: {} -> {}\".format(idx, loss))\n",
    "\n",
    "for idx in range(EPOCHS):\n",
    "    loss = 0.\n",
    "    for x, y in generate_data_cbow(corpus, window_size):\n",
    "        loss += cbow_300neurons_dense.train_on_batch(x, y)\n",
    "    print(\"cbow 300 neurons window_size(2) losses: {} -> {}\".format(idx, loss))"
   ]
  },
  {
   "cell_type": "code",
   "execution_count": 29,
   "metadata": {},
   "outputs": [],
   "source": [
    "cbow_50neurons_dense_embeddings = cbow_50neurons_dense.get_weights()[0]\n",
    "cbow_150neurons_dense_embeddings = cbow_150neurons_dense.get_weights()[0]\n",
    "cbow_300neurons_dense_embeddings = cbow_300neurons_dense.get_weights()[0]"
   ]
  },
  {
   "cell_type": "markdown",
   "metadata": {},
   "source": [
    "### train nn models for cbow embeddings\n",
    "\n"
   ]
  },
  {
   "cell_type": "code",
   "execution_count": 30,
   "metadata": {},
   "outputs": [],
   "source": [
    "\n",
    "## train nearest neighbors model\n",
    "nn_cbow_50neurons = nn(n_neighbors=21, algorithm='brute', metric='cosine').fit(cbow_50neurons_embeddings)\n",
    "nn_cbow_50neurons_dense = nn(n_neighbors=21, algorithm='brute', metric='cosine').fit(cbow_50neurons_dense_embeddings)\n",
    "\n",
    "nn_cbow_150neurons = nn(n_neighbors=21, algorithm='brute', metric='cosine').fit(cbow_150neurons_embeddings)\n",
    "nn_cbow_150neurons_dense = nn(n_neighbors=21, algorithm='brute', metric='cosine').fit(cbow_150neurons_dense_embeddings)\n",
    "\n",
    "nn_cbow_300neurons = nn(n_neighbors=21, algorithm='brute', metric='cosine').fit(cbow_300neurons_embeddings)\n",
    "nn_cbow_300neurons_dense = nn(n_neighbors=21, algorithm='brute', metric='cosine').fit(cbow_300neurons_dense_embeddings)\n",
    "\n"
   ]
  },
  {
   "cell_type": "markdown",
   "metadata": {},
   "source": [
    "### Explanation of architecture for modified skipgram model"
   ]
  },
  {
   "cell_type": "markdown",
   "metadata": {},
   "source": [
    "For the modified architecture we added an extra dense layer with the same size as the input layer. This was done to preserve the shape of the word embeddings: |V|  x 50, |V| x 150, and |V| x 300. This time the second hidden layer corresponds to the word embeddings. We used a 'ReLU' activation function to capture non linear relationships between a given word and its neighbors. We expected to obtain better performance using this neural network architecture. The weights corresponding to the word embeddings were initialized using 'he_uniform' as suggested by [Andrew Ng](https://www.coursera.org/learn/deep-neural-network) to avoid problems during the training of the network. As shown later in the results section, these word embeddings did not perform as expected."
   ]
  },
  {
   "cell_type": "code",
   "execution_count": 31,
   "metadata": {},
   "outputs": [],
   "source": [
    "#create Skipgram models with additional dense layer\n",
    "skipgram_50neurons_modified_model = Sequential()\n",
    "skipgram_50neurons_modified_model.add(Embedding(input_dim=V, output_dim=V, embeddings_initializer='glorot_uniform', input_length=1))\n",
    "skipgram_50neurons_modified_model.add(Reshape((V, )))\n",
    "skipgram_50neurons_modified_model.add(Dense(input_dim=V, units=dim_50, kernel_initializer='he_uniform', activation='relu'))\n",
    "skipgram_50neurons_modified_model.add(Dense(input_dim=dim_50, units=V, kernel_initializer='uniform', activation='softmax'))\n",
    "\n",
    "skipgram_150neurons_modified_model = Sequential()\n",
    "skipgram_150neurons_modified_model.add(Embedding(input_dim=V, output_dim=V, embeddings_initializer='glorot_uniform', input_length=1))\n",
    "skipgram_150neurons_modified_model.add(Reshape((V, )))\n",
    "skipgram_150neurons_modified_model.add(Dense(input_dim=V, units=dim_150, kernel_initializer='he_uniform', activation='relu'))\n",
    "skipgram_150neurons_modified_model.add(Dense(input_dim=dim_150, units=V, kernel_initializer='uniform', activation='softmax'))\n",
    "\n",
    "\n",
    "skipgram_300neurons_modified_model = Sequential()\n",
    "skipgram_300neurons_modified_model.add(Embedding(input_dim=V, output_dim=V, embeddings_initializer='glorot_uniform', input_length=1))\n",
    "skipgram_300neurons_modified_model.add(Reshape((V, )))\n",
    "skipgram_300neurons_modified_model.add(Dense(input_dim=V, units=dim_300, kernel_initializer='he_uniform', activation='relu'))\n",
    "skipgram_300neurons_modified_model.add(Dense(input_dim=dim_300, units=V, kernel_initializer='uniform', activation='softmax'))\n"
   ]
  },
  {
   "cell_type": "code",
   "execution_count": 32,
   "metadata": {},
   "outputs": [],
   "source": [
    "#define loss function for Skipgram + dense\n",
    "skipgram_50neurons_modified_model.compile(loss='categorical_crossentropy', optimizer='adam')\n",
    "skipgram_150neurons_modified_model.compile(loss='categorical_crossentropy', optimizer='adam')\n",
    "skipgram_300neurons_modified_model.compile(loss='categorical_crossentropy', optimizer='adam')"
   ]
  },
  {
   "cell_type": "code",
   "execution_count": 33,
   "metadata": {},
   "outputs": [
    {
     "name": "stdout",
     "output_type": "stream",
     "text": [
      "skipgram 50neurons modified losses: 0 -> 41000.65221762657\n",
      "skipgram 50neurons modified losses: 1 -> 37284.907779455185\n",
      "skipgram 50neurons modified losses: 2 -> 36183.61291527748\n",
      "skipgram 50neurons modified losses: 3 -> 35389.02855092287\n",
      "skipgram 150neurons modified losses: 0 -> 40687.625235795975\n",
      "skipgram 150neurons modified losses: 1 -> 36843.001960873604\n",
      "skipgram 150neurons modified losses: 2 -> 36011.84537422657\n",
      "skipgram 150neurons modified losses: 3 -> 35327.92415815592\n",
      "skipgram 300neurons modified losses: 0 -> 40668.28514933586\n",
      "skipgram 300neurons modified losses: 1 -> 36847.29202580452\n",
      "skipgram 300neurons modified losses: 2 -> 35372.218026161194\n",
      "skipgram 300neurons modified losses: 3 -> 34077.83352512121\n"
     ]
    }
   ],
   "source": [
    "#train model for Skipgram + dense\n",
    "#EPOCHS = 1\n",
    "EPOCHS = 4\n",
    "\n",
    "\n",
    "skipgram_50neurons_modified_model_losses = []\n",
    "for ite in range(EPOCHS):\n",
    "    loss = 0.\n",
    "    for x, y in generate_data_skipgram_from_file(DATA_SKIPGRAM_FILENAME):\n",
    "        loss += skipgram_50neurons_modified_model.train_on_batch(x, y)\n",
    "    skipgram_50neurons_modified_model_losses.append((ite, loss))\n",
    "    print(\"skipgram 50neurons modified losses: {} -> {}\".format(ite, loss))\n",
    "\n",
    "\n",
    "skipgram_150neurons_modified_model_losses = []\n",
    "for ite in range(EPOCHS):\n",
    "    loss = 0.\n",
    "    for x, y in generate_data_skipgram_from_file(DATA_SKIPGRAM_FILENAME):\n",
    "        loss += skipgram_150neurons_modified_model.train_on_batch(x, y)\n",
    "    skipgram_150neurons_modified_model_losses.append((ite, loss))\n",
    "    print(\"skipgram 150neurons modified losses: {} -> {}\".format(ite, loss))\n",
    "\n",
    "skipgram_300neurons_modified_model_losses = []\n",
    "for ite in range(EPOCHS):\n",
    "    loss = 0.\n",
    "    for x, y in generate_data_skipgram_from_file(DATA_SKIPGRAM_FILENAME):\n",
    "        loss += skipgram_300neurons_modified_model.train_on_batch(x, y)\n",
    "    skipgram_300neurons_modified_model_losses.append((ite, loss))\n",
    "    print(\"skipgram 300neurons modified losses: {} -> {}\".format(ite, loss))\n"
   ]
  },
  {
   "cell_type": "code",
   "execution_count": 34,
   "metadata": {},
   "outputs": [
    {
     "name": "stdout",
     "output_type": "stream",
     "text": [
      "(1183, 50)\n",
      "(1183, 150)\n",
      "(1183, 300)\n"
     ]
    }
   ],
   "source": [
    "print(skipgram_50neurons_modified_model.get_weights()[1].shape)\n",
    "print(skipgram_150neurons_modified_model.get_weights()[1].shape)\n",
    "print(skipgram_300neurons_modified_model.get_weights()[1].shape)\n"
   ]
  },
  {
   "cell_type": "code",
   "execution_count": 35,
   "metadata": {},
   "outputs": [
    {
     "name": "stdout",
     "output_type": "stream",
     "text": [
      "(1183, 50)\n",
      "(1183, 150)\n",
      "(1183, 300)\n"
     ]
    }
   ],
   "source": [
    "#Save computed vectors\n",
    "VECTORS_SKIPGRAM_50NEURONS_MODIFIED_FILENAME = 'vectors_skipgram_50neurons_modified.txt'\n",
    "skipgram_50neurons_modified_model_vectors = skipgram_50neurons_modified_model.get_weights()[1]\n",
    "print(skipgram_50neurons_modified_model_vectors.shape)\n",
    "save_computed_vectors(VECTORS_SKIPGRAM_50NEURONS_MODIFIED_FILENAME, skipgram_50neurons_modified_model_vectors, dim_50)\n",
    "\n",
    "VECTORS_SKIPGRAM_150NEURONS_MODIFIED_FILENAME = 'vectors_skipgram_150neurons_modified.txt'\n",
    "skipgram_150neurons_modified_model_vectors = skipgram_150neurons_modified_model.get_weights()[1]\n",
    "print(skipgram_150neurons_modified_model_vectors.shape)\n",
    "save_computed_vectors(VECTORS_SKIPGRAM_150NEURONS_MODIFIED_FILENAME, skipgram_150neurons_modified_model_vectors, dim_150)\n",
    "\n",
    "VECTORS_SKIPGRAM_300NEURONS_MODIFIED_FILENAME = 'vectors_skipgram_300neurons_modified.txt'\n",
    "skipgram_300neurons_modified_model_vectors = skipgram_300neurons_modified_model.get_weights()[1]\n",
    "print(skipgram_300neurons_modified_model_vectors.shape)\n",
    "save_computed_vectors(VECTORS_SKIPGRAM_300NEURONS_MODIFIED_FILENAME, skipgram_300neurons_modified_model_vectors, dim_300)"
   ]
  },
  {
   "cell_type": "code",
   "execution_count": 36,
   "metadata": {},
   "outputs": [],
   "source": [
    "## train nearest neighbors model\n",
    "nn_skipgram_50neurons = nn(n_neighbors=21, algorithm='brute', metric='cosine').fit(skipgram_50neurons_model_vectors)\n",
    "nn_skipgram_50neurons_modified = nn(n_neighbors=21, algorithm='brute', metric='cosine').fit(skipgram_50neurons_modified_model_vectors)\n",
    "\n",
    "nn_skipgram_150neurons = nn(n_neighbors=21, algorithm='brute', metric='cosine').fit(skipgram_150neurons_model_vectors)\n",
    "nn_skipgram_150neurons_modified = nn(n_neighbors=21, algorithm='brute', metric='cosine').fit(skipgram_150neurons_modified_model_vectors)\n",
    "\n",
    "nn_skipgram_300neurons = nn(n_neighbors=21, algorithm='brute', metric='cosine').fit(skipgram_300neurons_model_vectors)\n",
    "nn_skipgram_300neurons_modified = nn(n_neighbors=21, algorithm='brute', metric='cosine').fit(skipgram_300neurons_modified_model_vectors)\n"
   ]
  },
  {
   "cell_type": "code",
   "execution_count": 37,
   "metadata": {},
   "outputs": [],
   "source": [
    "ds, indices_skipgram_50neurons = nn_skipgram_50neurons.kneighbors(skipgram_50neurons_model_vectors)\n",
    "ds, indices_skipgram_50neurons_modified = nn_skipgram_50neurons_modified.kneighbors(skipgram_50neurons_modified_model_vectors)\n",
    "\n",
    "ds, indices_skipgram_150neurons = nn_skipgram_150neurons.kneighbors(skipgram_150neurons_model_vectors)\n",
    "ds, indices_skipgram_150neurons_modified = nn_skipgram_150neurons_modified.kneighbors(skipgram_150neurons_modified_model_vectors)\n",
    "\n",
    "ds, indices_skipgram_300neurons = nn_skipgram_300neurons.kneighbors(skipgram_300neurons_model_vectors)\n",
    "ds, indices_skipgram_300neurons_modified = nn_skipgram_300neurons_modified.kneighbors(skipgram_300neurons_modified_model_vectors)"
   ]
  },
  {
   "cell_type": "code",
   "execution_count": 38,
   "metadata": {},
   "outputs": [],
   "source": [
    "def save_neighbors(filename, neighbors):\n",
    "    f = open(filename, 'w')\n",
    "    \n",
    "    for idrow, matrix_row in enumerate(neighbors):\n",
    "        words = []\n",
    "        if idrow > 0:\n",
    "            for idc, column in enumerate(matrix_row):\n",
    "                if column > 0 :\n",
    "                    words.append(inverted_index[column])\n",
    "            f.write(\", \".join(words))\n",
    "            f.write(\"\\n\")\n",
    "    f.close()\n",
    "            "
   ]
  },
  {
   "cell_type": "code",
   "execution_count": 39,
   "metadata": {},
   "outputs": [],
   "source": [
    "#SKIPGRAM_50NEURONS_NN_FILENAME = \"skipgram_50neurons_nn.txt\"\n",
    "#SKIPGRAM_50NEURONS_MODIFIED_NN_FILENAME = \"skipgram_50neurons_modified_nn.txt\"\n",
    "#SKIPGRAM_150NEURONS_NN_FILENAME = \"skipgram_50neurons_nn.txt\"\n",
    "#SKIPGRAM_150NEURONS_MODIFIED_NN_FILENAME = \"skipgram_150neurons_modified_nn.txt\"\n",
    "#SKIPGRAM_300NEURONS_NN_FILENAME = \"skipgram_300neurons_nn.txt\"\n",
    "#SKIPGRAM_300NEURONS_MODIFIED_NN_FILENAME = \"skipgram_300neurons_modified_nn.txt\"\n",
    "\n",
    "#save_neighbors(SKIPGRAM_50NEURONS_NN_FILENAME, indices_skipgram_50neurons)\n",
    "#save_neighbors(SKIPGRAM_50NEURONS_MODIFIED_NN_FILENAME, indices_skipgram_50neurons_modified)\n",
    "\n",
    "#save_neighbors(SKIPGRAM_150NEURONS_NN_FILENAME, indices_skipgram_150neurons)\n",
    "#save_neighbors(SKIPGRAM_150NEURONS_MODIFIED_NN_FILENAME, indices_skipgram_150neurons_modified)\n",
    "\n",
    "#save_neighbors(SKIPGRAM_300NEURONS_NN_FILENAME, indices_skipgram_300neurons)\n",
    "#save_neighbors(SKIPGRAM_300NEURONS_MODIFIED_NN_FILENAME, indices_skipgram_300neurons_modified)"
   ]
  },
  {
   "cell_type": "markdown",
   "metadata": {},
   "source": [
    "### Analogy function\n",
    "\n",
    "Due to the small dataset (Alice.txt) used for this assignment, we decided to implement a modified version of the analogy function explained in [insert reference here]. First, our function computes an aggregated vector from the first three words in a given analogy. Then, we find the top 20 nearest neighbors for this vector using the corresponding word embeddings (skipgram or CBOW models) and nearest neighbors models. Finally, if the target word (fourth word) is contained in the top 20 nearestest neighbors, we return a True value as an indication of a valid analogy. "
   ]
  },
  {
   "cell_type": "code",
   "execution_count": 40,
   "metadata": {},
   "outputs": [],
   "source": [
    "#Implement your own analogy function\n",
    "# implementation of the function argmax(w.(w3 + w2 - w1)), with w - w3 =' w2 - w1\n",
    "#from sklearn.metrics.pairwise import cosine_similarity\n",
    "#from sklearn.neighbors import NearestNeighbors as nn\n",
    "#nbrs = NearestNeighbors(n_neighbors=2, algorithm='ball_tree').fit(X)\n",
    "\n",
    "# computes: word1 is a word2 as word3 is to target\n",
    "# returns true if target is found in the closest 10 neighbors\n",
    "def is_valid_analogy(word1, word2, word3, target, word_vectors, nnmodel):\n",
    "    if word1 not in tokenizer.word_index:\n",
    "        print(\"Word {} not in tokenizer.word_index\".format(word1))\n",
    "        return False\n",
    "    if word2 not in tokenizer.word_index:\n",
    "        print(\"Word {} not in tokenizer.word_index\".format(word2))\n",
    "        return False\n",
    "    if word3 not in tokenizer.word_index:\n",
    "        print(\"Word {} not in tokenizer.word_index\".format(word3))\n",
    "        return False\n",
    "    if target not in tokenizer.word_index:\n",
    "        print(\"Word {} not in tokenizer.word_index\".format(target))\n",
    "        return False\n",
    "    \n",
    "    vector_w1 = word_vectors[tokenizer.word_index[word1]]\n",
    "    vector_w2 = word_vectors[tokenizer.word_index[word2]]\n",
    "    vector_w3 = word_vectors[tokenizer.word_index[word3]]\n",
    "    composed_vector = vector_w1 - vector_w2 + vector_w3\n",
    "    distances, indices = nnmodel.kneighbors(composed_vector.reshape(1, -1))\n",
    "    return tokenizer.word_index[target] in indices\n",
    "\n",
    "def analogy_precision(analogies, word_vectors, nnmodel):\n",
    "    correct = 0\n",
    "    total = 0\n",
    "    for analogy in analogies:\n",
    "        #print(analogy)\n",
    "        if is_valid_analogy(analogy[0], analogy[1], analogy[2], analogy[3], word_vectors, nnmodel):\n",
    "            correct += 1\n",
    "        total += 1\n",
    "    return correct/(total*1.0)\n",
    "\n",
    "\n"
   ]
  },
  {
   "cell_type": "markdown",
   "metadata": {},
   "source": [
    "## Analyze the four different word embeddings"
   ]
  },
  {
   "cell_type": "markdown",
   "metadata": {},
   "source": [
    "To analyze the performance of the computed word embeddings we measure their ability to compute analogies. \n",
    "The previously defined analogy function is used to computed the precision of word embeddings on the analogy data. \n",
    "The results are shown below.\n"
   ]
  },
  {
   "cell_type": "code",
   "execution_count": 41,
   "metadata": {},
   "outputs": [],
   "source": [
    "analogy_data = [\"sudden suddenly usual usually\",\n",
    "\"bad worse good better\",\n",
    "\"go going look looking\",\n",
    "\"he she his her\",\n",
    "\"brother sister his her\",\n",
    "\"listen listening look looking\",\n",
    "\"saying said thinking thought\",\n",
    "\"bird birds cat cats\",\n",
    "\"good better old older\",\n",
    "\"good better quick quicker\",\n",
    "\"large largest good best\",\n",
    "\"falling fell knowing knew\",\n",
    "\"walk walking think thinking\",\n",
    "\"child children cat cats\",\n",
    "\"dog dogs eye eyes\",\n",
    "\"hand hands rat rats\",\n",
    "\"eat eats find finds\",\n",
    "\"find finds say says\",\n",
    "\"old older good better\",\n",
    "\"large larger quick quicker\",\n",
    "\"go going listen listening\",\n",
    "\"run running walk walking\",\n",
    "\"run running think thinking\",\n",
    "\"say saying sit sitting\",\n",
    "\"alice she rabbit he\",\n",
    "\"alice her rabbit him\",\n",
    "\"alice girl rabbit sir\",\n",
    "\"dinah cat alice girl\",\n",
    "\"his her he she\",\n",
    "\"long longer quick quicker\",\n",
    "\"long longer small smaller\",\n",
    "\"long longer bad worse\",\n",
    "\"go going look looking\",\n",
    "\"listen listening look looking\",\n",
    "\"swim swimming sit sitting\",\n",
    "\"run running listen listening\",\n",
    "\"think thinking read reading\",\n",
    "\"up down close far\",\n",
    "\"rome paris neck legs\",\n",
    "\"tears smiling smaller larger\",\n",
    "\"rome paris apple cherry\",\n",
    "\"child children dog dogs\",\n",
    "\"young energetic old tired\"]"
   ]
  },
  {
   "cell_type": "code",
   "execution_count": 42,
   "metadata": {},
   "outputs": [],
   "source": [
    "#prepare analogies\n",
    "analogies = []\n",
    "for row in analogy_data:\n",
    "        #print(row)\n",
    "        analogy = row.split(\" \")\n",
    "        if len(analogy) == 4:\n",
    "            #print(analogy)\n",
    "            analogies.append(analogy)"
   ]
  },
  {
   "cell_type": "markdown",
   "metadata": {},
   "source": [
    "### Testing CBOW models with analogies"
   ]
  },
  {
   "cell_type": "code",
   "execution_count": 43,
   "metadata": {},
   "outputs": [],
   "source": [
    "analogies_results = {}\n",
    "analogies_results[\"cbow_50n\"] = analogy_precision(analogies, cbow_50neurons_embeddings,\n",
    "                                                 nn_cbow_50neurons)\n",
    "analogies_results[\"cbow_150n\"] = analogy_precision(analogies, cbow_150neurons_embeddings,\n",
    "                                                 nn_cbow_150neurons)\n",
    "analogies_results[\"cbow_300n\"] = analogy_precision(analogies, cbow_300neurons_embeddings,\n",
    "                                                 nn_cbow_300neurons)\n",
    "\n",
    "analogies_results[\"cbow_50n_dense\"] = analogy_precision(analogies, cbow_50neurons_dense_embeddings,\n",
    "                                                 nn_cbow_50neurons_dense)\n",
    "analogies_results[\"cbow_150n_dense\"] = analogy_precision(analogies, cbow_150neurons_dense_embeddings,\n",
    "                                                 nn_cbow_150neurons_dense)\n",
    "analogies_results[\"cbow_300n_dense\"] = analogy_precision(analogies, cbow_300neurons_dense_embeddings,\n",
    "                                                 nn_cbow_300neurons_dense)"
   ]
  },
  {
   "cell_type": "markdown",
   "metadata": {},
   "source": [
    "### Results of cbow models on analogies\n"
   ]
  },
  {
   "cell_type": "code",
   "execution_count": 44,
   "metadata": {},
   "outputs": [
    {
     "name": "stdout",
     "output_type": "stream",
     "text": [
      "Precision for word vectors of 50x1 using cbow model: 0.023256\n",
      "Precision for word vectors of 150x1 using cbow model: 0.093023\n",
      "Precision for word vectors of 300x1 using cbow model: 0.023256\n",
      "Precision for word vectors of 50x1 using cbow + dense model: 0.023256\n",
      "Precision for word vectors of 150x1 using cbow + dense model: 0.069767\n",
      "Precision for word vectors of 300x1 using cbow + dense model: 0.069767\n"
     ]
    }
   ],
   "source": [
    "print(\"Precision for word vectors of 50x1 using cbow model: {:3f}\".format(analogies_results[\"cbow_50n\"]))\n",
    "print(\"Precision for word vectors of 150x1 using cbow model: {:3f}\".format(analogies_results[\"cbow_150n\"]))\n",
    "print(\"Precision for word vectors of 300x1 using cbow model: {:3f}\".format(analogies_results[\"cbow_300n\"]))\n",
    "\n",
    "print(\"Precision for word vectors of 50x1 using cbow + dense model: {:3f}\".format(analogies_results[\"cbow_50n_dense\"]))\n",
    "print(\"Precision for word vectors of 150x1 using cbow + dense model: {:3f}\".format(analogies_results[\"cbow_150n_dense\"]))\n",
    "print(\"Precision for word vectors of 300x1 using cbow + dense model: {:3f}\".format(analogies_results[\"cbow_300n_dense\"]))\n"
   ]
  },
  {
   "cell_type": "markdown",
   "metadata": {},
   "source": [
    "### Testing skipgram models with analogies"
   ]
  },
  {
   "cell_type": "code",
   "execution_count": 45,
   "metadata": {},
   "outputs": [],
   "source": [
    "# Testing skipgram models with analogies\n",
    "analogies_results[\"skip_50n\"] = analogy_precision(analogies, skipgram_50neurons_model_vectors,\n",
    "                                                 nn_skipgram_50neurons)\n",
    "\n",
    "analogies_results[\"skip_150n\"] = analogy_precision(analogies, skipgram_150neurons_model_vectors,\n",
    "                                                 nn_skipgram_150neurons)\n",
    "analogies_results[\"skip_300n\"] = analogy_precision(analogies, skipgram_300neurons_model_vectors,\n",
    "                                                 nn_skipgram_300neurons)\n",
    "analogies_results[\"skip_50n_mod\"] = analogy_precision(analogies, skipgram_50neurons_modified_model_vectors,\n",
    "                                                 nn_skipgram_50neurons_modified)\n",
    "analogies_results[\"skip_150n_mod\"] = analogy_precision(analogies, skipgram_150neurons_modified_model_vectors,\n",
    "                                                 nn_skipgram_150neurons_modified)\n",
    "analogies_results[\"skip_300n_mod\"] = analogy_precision(analogies, skipgram_300neurons_modified_model_vectors,\n",
    "                                                 nn_skipgram_300neurons_modified)\n",
    "\n"
   ]
  },
  {
   "cell_type": "markdown",
   "metadata": {},
   "source": [
    "### Results of skipgram models on analogies\n"
   ]
  },
  {
   "cell_type": "code",
   "execution_count": 46,
   "metadata": {},
   "outputs": [
    {
     "name": "stdout",
     "output_type": "stream",
     "text": [
      "Precision for word vectors of 50x1 using skipgram model: 0.023256\n",
      "Precision for word vectors of 150x1 using skipgram model: 0.093023\n",
      "Precision for word vectors of 300x1 using skipgram model: 0.093023\n",
      "Precision for word vectors of 50x1 using modified skipgram model: 0.023256\n",
      "Precision for word vectors of 150x1 using modified skipgram model: 0.000000\n",
      "Precision for word vectors of 300x1 using modified skipgram model: 0.000000\n"
     ]
    }
   ],
   "source": [
    "print(\"Precision for word vectors of 50x1 using skipgram model: {:3f}\".format(analogies_results[\"skip_50n\"]))\n",
    "print(\"Precision for word vectors of 150x1 using skipgram model: {:3f}\".format(analogies_results[\"skip_150n\"]))\n",
    "print(\"Precision for word vectors of 300x1 using skipgram model: {:3f}\".format(analogies_results[\"skip_300n\"]))\n",
    "\n",
    "print(\"Precision for word vectors of 50x1 using modified skipgram model: {:3f}\".format(analogies_results[\"skip_50n_mod\"]))\n",
    "print(\"Precision for word vectors of 150x1 using modified skipgram model: {:3f}\".format(analogies_results[\"skip_150n_mod\"]))\n",
    "print(\"Precision for word vectors of 300x1 using modified skipgram model: {:3f}\".format(analogies_results[\"skip_300n_mod\"]))\n"
   ]
  },
  {
   "cell_type": "markdown",
   "metadata": {},
   "source": [
    "### Comparison performance:\n"
   ]
  },
  {
   "cell_type": "markdown",
   "metadata": {},
   "source": [
    "### Visualization and interpretation of results"
   ]
  },
  {
   "cell_type": "code",
   "execution_count": 47,
   "metadata": {},
   "outputs": [],
   "source": [
    "analogy_words_to_visualize = ['bad', 'worse', 'good', 'better',\n",
    "                            'listen', 'listening', 'look', 'looking',\n",
    "                            'bird', 'birds', 'cat', 'cats',\n",
    "                            'good', 'better', 'old', 'older',\n",
    "                            'dog', 'dogs', 'eye', 'eyes',\n",
    "                            'hand', 'hands', 'rat', 'rats',\n",
    "                            'run', 'running', 'walk', 'walking',\n",
    "                            'young', 'energetic', 'old', 'tired']\n"
   ]
  },
  {
   "cell_type": "code",
   "execution_count": 59,
   "metadata": {},
   "outputs": [
    {
     "data": {
      "image/png": "[encoded data removed]",
      "text/plain": [
       "<matplotlib.figure.Figure at 0x7f5dab473e80>"
      ]
     },
     "metadata": {},
     "output_type": "display_data"
    }
   ],
   "source": [
    "# CBOW model with 150 neurons\n",
    "tsne = TSNE(n_components=2, init='pca', random_state=0)\n",
    "cbow_150neurons_model_vectors_projection = tsne.fit_transform(cbow_150neurons_embeddings).T\n",
    "fig = plt.figure(figsize=(15, 8))\n",
    "plt.scatter(cbow_150neurons_model_vectors_projection[0],\n",
    "            cbow_150neurons_model_vectors_projection[1],\n",
    "            c='b', cmap=plt.cm.Spectral)\n",
    "\n",
    "for word in analogy_words_to_visualize:\n",
    "    idx = tokenizer.word_index[word]\n",
    "    x_pos= cbow_150neurons_model_vectors_projection[0][idx]\n",
    "    y_pos= cbow_150neurons_model_vectors_projection[1][idx]\n",
    "    plt.annotate(word, (x_pos, y_pos), fontsize=11, fontweight='bold')\n",
    "\n",
    "plt.title(\"TSNE for word vectors of cbow model using 150 neurons\")\n",
    "plt.show()"
   ]
  },
  {
   "cell_type": "code",
   "execution_count": 60,
   "metadata": {},
   "outputs": [
    {
     "data": {
      "image/png": "[encoded data removed]",
      "text/plain": [
       "<matplotlib.figure.Figure at 0x7f5dab473710>"
      ]
     },
     "metadata": {},
     "output_type": "display_data"
    }
   ],
   "source": [
    "# CBOW model with 300 neurons\n",
    "tsne = TSNE(n_components=2, init='pca', random_state=0)\n",
    "cbow_50neurons_model_vectors_projection = tsne.fit_transform(cbow_50neurons_embeddings).T\n",
    "fig = plt.figure(figsize=(15, 8))\n",
    "plt.scatter(cbow_300neurons_model_vectors_projection[0],\n",
    "            cbow_300neurons_model_vectors_projection[1],\n",
    "            c='b', cmap=plt.cm.Spectral)\n",
    "\n",
    "for word in analogy_words_to_visualize:\n",
    "    idx = tokenizer.word_index[word]\n",
    "    x_pos= cbow_50neurons_model_vectors_projection[0][idx]\n",
    "    y_pos= cbow_50neurons_model_vectors_projection[1][idx]\n",
    "    plt.annotate(word, (x_pos, y_pos), fontsize=11, fontweight='bold')\n",
    "\n",
    "plt.title(\"TSNE for word vectors of cbow model using 50 neurons\")\n",
    "plt.show()"
   ]
  },
  {
   "cell_type": "markdown",
   "metadata": {},
   "source": [
    "#### Visualization of Skipgram models\n",
    "\n",
    "The next two figures show the TSNE representation of some of the words used in the analogy task for two skipgram models:\n",
    "* skipgram model with 300 neurons in the representation layer\n",
    "* modified skipgram model with 300 neurons in the representation layer\n",
    "    \n",
    "These two models correspond to the best and worst skipgram models according to the analogy task."
   ]
  },
  {
   "cell_type": "code",
   "execution_count": 50,
   "metadata": {},
   "outputs": [],
   "source": [
    "analogy_words_to_visualize = ['bad', 'worse', 'good', 'better',\n",
    "                            'listen', 'listening', 'look', 'looking',\n",
    "                            'bird', 'birds', 'cat', 'cats',\n",
    "                            'good', 'better', 'old', 'older',\n",
    "                            'dog', 'dogs', 'eye', 'eyes',\n",
    "                            'hand', 'hands', 'rat', 'rats',\n",
    "                            'run', 'running', 'walk', 'walking',\n",
    "                            'young', 'energetic', 'old', 'tired']\n"
   ]
  },
  {
   "cell_type": "code",
   "execution_count": 51,
   "metadata": {},
   "outputs": [
    {
     "name": "stdout",
     "output_type": "stream",
     "text": [
      "skipgram 150 neurons vectors projection computed\n",
      "skipgram 150 neurons modified model vectors projection computed\n"
     ]
    }
   ],
   "source": [
    "# skipgram model with 150 neurons\n",
    "tsne = TSNE(n_components=2, init='pca', random_state=0)\n",
    "skipgram_300neurons_model_vectors_projection = tsne.fit_transform(skipgram_300neurons_model_vectors).T\n",
    "print(\"skipgram 150 neurons vectors projection computed\")\n",
    "\n",
    "# skipgram model with 150 neurons\n",
    "tsne = TSNE(n_components=2, init='pca', random_state=0)\n",
    "skipgram_150neurons_modified_model_vectors_projection = tsne.fit_transform(skipgram_150neurons_modified_model_vectors).T\n",
    "print(\"skipgram 150 neurons modified model vectors projection computed\")\n"
   ]
  },
  {
   "cell_type": "code",
   "execution_count": 52,
   "metadata": {},
   "outputs": [
    {
     "data": {
      "image/png": "[encoded data removed]",
      "text/plain": [
       "<matplotlib.figure.Figure at 0x7f5d9dfbdfd0>"
      ]
     },
     "metadata": {},
     "output_type": "display_data"
    }
   ],
   "source": [
    "fig = plt.figure(figsize=(15, 8))\n",
    "plt.scatter(skipgram_300neurons_model_vectors_projection[0],\n",
    "            skipgram_300neurons_model_vectors_projection[1],\n",
    "            c='b', cmap=plt.cm.Spectral)\n",
    "\n",
    "for word in analogy_words_to_visualize:\n",
    "    idx = tokenizer.word_index[word]\n",
    "    x_pos= skipgram_300neurons_model_vectors_projection[0][idx]\n",
    "    y_pos= skipgram_300neurons_model_vectors_projection[1][idx]\n",
    "    plt.annotate(word, (x_pos, y_pos), fontsize=11, fontweight='bold')\n",
    "\n",
    "plt.title(\"TSNE for word vectors of skipgram model using 150 neurons\")\n",
    "plt.show()"
   ]
  },
  {
   "cell_type": "code",
   "execution_count": 53,
   "metadata": {},
   "outputs": [
    {
     "data": {
      "image/png": "[encoded data removed]",
      "text/plain": [
       "<matplotlib.figure.Figure at 0x7f5da815cb70>"
      ]
     },
     "metadata": {},
     "output_type": "display_data"
    }
   ],
   "source": [
    "fig = plt.figure(figsize=(15, 8))\n",
    "plt.scatter(skipgram_150neurons_modified_model_vectors_projection[0],\n",
    "            skipgram_150neurons_modified_model_vectors_projection[1],\n",
    "            c='b', cmap=plt.cm.Spectral)\n",
    "\n",
    "for word in analogy_words_to_visualize:\n",
    "    idx = tokenizer.word_index[word]\n",
    "    x_pos= skipgram_150neurons_modified_model_vectors_projection[0][idx]\n",
    "    y_pos= skipgram_150neurons_modified_model_vectors_projection[1][idx]\n",
    "    plt.annotate(word, (x_pos, y_pos), fontsize=11, fontweight='bold')\n",
    "\n",
    "plt.title(\"TSNE for word vectors of skipgram modified model using 150 neurons\")\n",
    "plt.show()"
   ]
  },
  {
   "cell_type": "markdown",
   "metadata": {},
   "source": [
    "### Interpretation results of the visualization"
   ]
  },
  {
   "cell_type": "markdown",
   "metadata": {},
   "source": [
    "#### Visualizations for Skipgram models\n",
    "\n",
    "From the visualizations we observe that some words with similar meanings are grouped together:\n",
    "\n",
    "* Listen and listening, bird and birds, and walking and running in the first visualization for skipgram\n",
    "* Eye and ayes in the second visualization for skipgram\n",
    "\n",
    "But we cannot observe clear clusters of words in both visualizations. This could be due to the small dataset used to create the word embeddings. With a larger dataset we could expect to obtain more information from the TSNE projections."
   ]
  },
  {
   "cell_type": "markdown",
   "metadata": {},
   "source": [
    "#### Visualizations for CBOW models"
   ]
  },
  {
   "cell_type": "markdown",
   "metadata": {},
   "source": [
    "## 2.5 Using the word-word co-occurrence matrix from question 1. Compare the results of the trained word embeddings with the word-word co-occurrence matrix"
   ]
  },
  {
   "cell_type": "code",
   "execution_count": 54,
   "metadata": {},
   "outputs": [],
   "source": [
    "# train nn model for the co-occurrence matrix\n",
    "nn_coMatrix = nn(n_neighbors=21, algorithm='brute', metric='cosine').fit(coMatrix)\n",
    "\n",
    "# compute analogy precision\n",
    "analogies_results[\"co-occurrence\"] = analogy_precision(analogies, coMatrix,nn_coMatrix)\n"
   ]
  },
  {
   "cell_type": "code",
   "execution_count": 55,
   "metadata": {},
   "outputs": [
    {
     "name": "stdout",
     "output_type": "stream",
     "text": [
      "Precision for co-occurrence vectors: 0.023256\n"
     ]
    }
   ],
   "source": [
    "print(\"Precision for co-occurrence vectors: {:3f}\".format(analogies_results[\"co-occurrence\"]))\n"
   ]
  },
  {
   "cell_type": "markdown",
   "metadata": {},
   "source": [
    "### Results \n",
    "\n",
    "The precision value for the co-ocurrence vectors on the analogies are worse than each word embedding created using the basic skipgram model. Because the modified skipgram models gives overall worse results than the basic skipgram model, we don't use those results to compare the performance of the co-ocurrence vectors.\n",
    "\n",
    "Hence, the co-ocurrence vectors need more memory and seem to perform worse than the skipgram models. It seems like this simple model should be avoided if possible.\n",
    "\n"
   ]
  },
  {
   "cell_type": "markdown",
   "metadata": {},
   "source": [
    "## 2.6 Discussion of the advantages of CBOW and Skipgram, the advantages of negative sampling and drawbacks of CBOW and Skipgram"
   ]
  },
  {
   "cell_type": "markdown",
   "metadata": {},
   "source": [
    "### Advantages of CBOW\n",
    "While using CBOW for this assignment the following advantages appeared:\n",
    "* CBOW is relatively fast, much faster than skipgram for the same dataset with the same amount of neurons.\n",
    "* Based on the context a wordt can be predicted quite accurately\n",
    "* By choosing different window sizes context can be considered less or more important"
   ]
  },
  {
   "cell_type": "markdown",
   "metadata": {},
   "source": [
    "### Advantages of Skipgram\n",
    "Next we present advantages of word embeddings created using Skipgram:\n",
    "* They are able to encode similarity using the words that appear close to them in the corpus. \n",
    "* Their length is a parameter that can be tuned to get good results in relevant tasks.\n",
    "* The space needed to store them is way smaller than the one needed to store co-occurrence vectors.\n",
    "* When properly constructed they are able to capture relational meanings between words. For example, they can be used to compute analogies."
   ]
  },
  {
   "cell_type": "markdown",
   "metadata": {},
   "source": [
    "### Advantages of negative sampling\n",
    "\n",
    "The definition of the cost function for CBOW and Skipgram involves computations over the entire vocabulary in order to update the parameters of the weight matrix corresponding to a word embedding. This computation is very expensive, and it has to be done for all the word embeddings for a given number of epochs in order to obtain the final values for the word embeddings. Negative solves this problem by selecting a small number of non-related words (negative examples) for each word embedding. This words and the context words are used to compute a modified cost function that allow us to update the parameters of each word embedding much faster than using the previous method. Hence, negative sampling is a method to compute word embeddings in a fast way. "
   ]
  },
  {
   "cell_type": "markdown",
   "metadata": {},
   "source": [
    "### Drawbacks of CBOW\n",
    "Despite the advantages of CBOW there are some drawbacks:\n",
    "* Because CBOW is training on the context of a word a lot of data is needed to accurately predict a word contained by the context.\n",
    "* Rare words are never predicted: because CBOW chooses the most probable word given a training set rare words are never outputted by cbow, which can be quite dangerous if the training set is not good sampled.\n"
   ]
  },
  {
   "cell_type": "markdown",
   "metadata": {},
   "source": [
    "### Drawbacks of Skipgram\n",
    "Next we present some drawbacks of the skipgram model:\n",
    "* As mentioned before, the computation of the basic Skipgram model takes too much time, but this issue is solved by using negative sampling. \n",
    "* Because the Skipgram is based on neural network architectures there is a large number of parameters that have to be tunned in order to get good word embeddings. \n",
    "* The quality of the word embeddings is related to the amount of data used to train the neural networks.\n",
    "* We can only use the word embeddings for the words that exist in the vocabulary used to construct them."
   ]
  },
  {
   "cell_type": "markdown",
   "metadata": {},
   "source": [
    "## 2.7 Evaluation using pre-trained embedding on large corpora of GloVe and Word2vec"
   ]
  },
  {
   "cell_type": "markdown",
   "metadata": {},
   "source": [
    "Due to problems loading the datasets for both embeddings, this section was not done."
   ]
  },
  {
   "cell_type": "code",
   "execution_count": 56,
   "metadata": {},
   "outputs": [],
   "source": [
    "#load pretrained word embeddings of word2vec\n",
    "\n",
    "path_word2vec = \"your path /GoogleNews-vectors-negative300.bin\"\n",
    "\n",
    "#word2vec = KeyedVectors.load_word2vec_format(path, binary=True)"
   ]
  },
  {
   "cell_type": "code",
   "execution_count": 57,
   "metadata": {},
   "outputs": [],
   "source": [
    "#load pretraind word embeddings of Glove\n",
    "\n",
    "path = \"your path /glove.6B/glove.6B.300d_converted.txt\"\n",
    "\n",
    "#convert GloVe into word2vec format\n",
    "#gensim.scripts.glove2word2vec.get_glove_info(path)\n",
    "#gensim.scripts.glove2word2vec.glove2word2vec(path, \"glove_converted.txt\")\n",
    "\n",
    "#glove = KeyedVectors.load_word2vec_format(path, binary=False)"
   ]
  },
  {
   "cell_type": "code",
   "execution_count": 58,
   "metadata": {},
   "outputs": [],
   "source": [
    "#Visualize the pre-trained word embeddings"
   ]
  },
  {
   "cell_type": "markdown",
   "metadata": {},
   "source": [
    "Comparison performance with your own trained word embeddings"
   ]
  },
  {
   "cell_type": "code",
   "execution_count": null,
   "metadata": {},
   "outputs": [],
   "source": []
  }
 ],
 "metadata": {
  "kernelspec": {
   "display_name": "Python 3",
   "language": "python",
   "name": "python3"
  },
  "language_info": {
   "codemirror_mode": {
    "name": "ipython",
    "version": 3
   },
   "file_extension": ".py",
   "mimetype": "text/x-python",
   "name": "python",
   "nbconvert_exporter": "python",
   "pygments_lexer": "ipython3",
   "version": "3.5.2"
  }
 },
 "nbformat": 4,
 "nbformat_minor": 2
}
