{
 "cells": [
  {
   "cell_type": "markdown",
   "metadata": {},
   "source": [
    "# Assignment 1\n"
   ]
  },
  {
   "cell_type": "code",
   "execution_count": 1,
   "metadata": {
    "scrolled": true
   },
   "outputs": [
    {
     "name": "stderr",
     "output_type": "stream",
     "text": [
      "/home/mathyn/anaconda3/lib/python3.6/site-packages/h5py/__init__.py:36: FutureWarning: Conversion of the second argument of issubdtype from `float` to `np.floating` is deprecated. In future, it will be treated as `np.float64 == np.dtype(float).type`.\n",
      "  from ._conv import register_converters as _register_converters\n",
      "Using TensorFlow backend.\n"
     ]
    }
   ],
   "source": [
    "import numpy as np\n",
    "np.random.seed(13) #TODO Check if this is used for sgd\n",
    "import keras.backend as K\n",
    "from keras.models import Sequential\n",
    "from keras.layers import Dense, Embedding, Reshape, Lambda\n",
    "from keras.utils import np_utils\n",
    "from keras.utils.data_utils import get_file\n",
    "from keras.preprocessing.text import Tokenizer\n",
    "from keras.utils.vis_utils import model_to_dot\n",
    "from keras.preprocessing import sequence\n",
    "from gensim.models import KeyedVectors\n",
    "from sklearn.manifold import TSNE\n",
    "from sklearn.metrics.pairwise import cosine_similarity\n",
    "from sklearn.neighbors import NearestNeighbors as nn\n",
    "from matplotlib import pylab\n",
    "from __future__ import division\n",
    "import matplotlib.pyplot as plt"
   ]
  },
  {
   "cell_type": "code",
   "execution_count": 2,
   "metadata": {},
   "outputs": [],
   "source": [
    "# DO NOT Modify the lines in this cell\n",
    "path = 'alice.txt'\n",
    "corpus = open(path).readlines()[0:700]\n",
    "\n",
    "corpus = [sentence for sentence in corpus if sentence.count(\" \") >= 2]\n",
    "\n",
    "tokenizer = Tokenizer(filters='!\"#$%&()*+,-./:;<=>?@[\\\\]^_`{|}~\\t\\n'+\"'\")\n",
    "tokenizer.fit_on_texts(corpus)\n",
    "corpus = tokenizer.texts_to_sequences(corpus)\n",
    "nb_samples = sum(len(s) for s in corpus)\n",
    "V = len(tokenizer.word_index) + 1\n",
    "\n",
    "# Is this something they need to change?\n",
    "dim = 100\n",
    "dim_50 = 50\n",
    "dim_150 = 150\n",
    "dim_300 = 300\n",
    "window_size = 2 #use this window size for Skipgram, CBOW, and the model with the additional hidden layer\n",
    "window_size_corpus = 4 #use this window size for the co-occurrence matrix"
   ]
  },
  {
   "cell_type": "markdown",
   "metadata": {},
   "source": [
    "## Question 1\n",
    "\n",
    "### Co-occurrence Matrix\n",
    "Use the provided code to load the \"Alice in Wonderland\" text document. \n",
    "1. Implement the word-word co-occurrence matrix for “Alice in Wonderland”\n",
    "2. Normalize the words such that every value lies within a range of 0 and 1\n",
    "3. Compute the cosine distance between the given words:\n",
    "    - Alice \n",
    "    - Dinah\n",
    "    - Rabbit\n",
    "4. List the 5 closest words to 'Alice'. Discuss the results.\n",
    "5. Discuss what the main drawbacks are of a term-term co-occurence matrix solutions?\n"
   ]
  },
  {
   "cell_type": "code",
   "execution_count": 3,
   "metadata": {},
   "outputs": [],
   "source": [
    "# create inverted index to help recover the words from indexes\n",
    "inverted_index = {}\n",
    "for word, i in tokenizer.word_index.items():\n",
    "    inverted_index[i] = word\n",
    "    \n",
    "#print(inverted_index)"
   ]
  },
  {
   "cell_type": "markdown",
   "metadata": {},
   "source": [
    "### Word-word co-ocurrence matrix and normalization"
   ]
  },
  {
   "cell_type": "code",
   "execution_count": 4,
   "metadata": {},
   "outputs": [],
   "source": [
    "#create co-occurrence matrix\n",
    "#print(corpus[0])\n",
    "coMatrix = np.zeros((V, V))\n",
    "total = 0\n",
    "for sequence in corpus:\n",
    "    for idx, termId in enumerate(sequence):\n",
    "        sl = len(sequence)\n",
    "        ## select left window\n",
    "        leftw = sequence[max(idx - window_size_corpus, 0): idx]\n",
    "        ## select right window\n",
    "        rightw = sequence[idx + 1: min(idx + window_size_corpus + 1, sl)]\n",
    "        # update co-occurrence matrix\n",
    "        neighboors = leftw + rightw\n",
    "        for neighbor in neighboors: \n",
    "            coMatrix[termId, neighbor] += 1\n",
    "            total += 1\n",
    "        \n",
    "\n",
    "# matrix normalization over the total number of the frequencies in the matrix\n",
    "# as recommended in class\n",
    "(rows, columns) = coMatrix.shape\n",
    "for rowIdx in range(rows):\n",
    "    # ignore first row with 0 entries everywhere\n",
    "    if (rowIdx > 0):\n",
    "        row = coMatrix[rowIdx]\n",
    "        #total = row.sum()\n",
    "        # avoid division by zero in words that have no neighboors\n",
    "        if total > 0:\n",
    "            coMatrix[rowIdx] = np.divide(row, total)\n"
   ]
  },
  {
   "cell_type": "code",
   "execution_count": 5,
   "metadata": {},
   "outputs": [
    {
     "name": "stdout",
     "output_type": "stream",
     "text": [
      "[[0.00000000e+00 0.00000000e+00 0.00000000e+00 ... 0.00000000e+00\n",
      "  0.00000000e+00 0.00000000e+00]\n",
      " [0.00000000e+00 1.10132159e-03 1.69986593e-03 ... 2.39417736e-05\n",
      "  0.00000000e+00 0.00000000e+00]\n",
      " [0.00000000e+00 1.69986593e-03 4.30951925e-04 ... 2.39417736e-05\n",
      "  2.39417736e-05 2.39417736e-05]\n",
      " ...\n",
      " [0.00000000e+00 2.39417736e-05 2.39417736e-05 ... 0.00000000e+00\n",
      "  0.00000000e+00 0.00000000e+00]\n",
      " [0.00000000e+00 0.00000000e+00 2.39417736e-05 ... 0.00000000e+00\n",
      "  0.00000000e+00 0.00000000e+00]\n",
      " [0.00000000e+00 0.00000000e+00 2.39417736e-05 ... 0.00000000e+00\n",
      "  0.00000000e+00 0.00000000e+00]]\n"
     ]
    }
   ],
   "source": [
    "print(coMatrix)"
   ]
  },
  {
   "cell_type": "code",
   "execution_count": 6,
   "metadata": {},
   "outputs": [
    {
     "name": "stdout",
     "output_type": "stream",
     "text": [
      "[[0.         0.00033518 0.00043095 ... 0.         0.         0.        ]]\n",
      "[[0.00000000e+00 7.18253208e-05 7.18253208e-05 ... 0.00000000e+00\n",
      "  0.00000000e+00 0.00000000e+00]]\n",
      "[[0.00000000e+00 3.83068378e-04 2.39417736e-05 ... 0.00000000e+00\n",
      "  0.00000000e+00 0.00000000e+00]]\n",
      "Cosine similarity between Alice and Dinah: [[0.39360011]]\n",
      "Cosine similarity between Alice and Rabbit: [[0.47890931]]\n",
      "Cosine similarity between Dinah and Rabbit: [[0.29862324]]\n"
     ]
    }
   ],
   "source": [
    "#find cosine similarity to Alice, Dinah and Rabbit\n",
    "aliceIdx = tokenizer.word_index['Alice'.lower()]\n",
    "dinahIdx = tokenizer.word_index['Dinah'.lower()]\n",
    "rabbitIdx = tokenizer.word_index['Rabbit'.lower()]\n",
    "\n",
    "aliceVector = coMatrix[aliceIdx].reshape(1, -1)\n",
    "dinahVector = coMatrix[dinahIdx].reshape(1, -1)\n",
    "rabbitVector = coMatrix[rabbitIdx].reshape(1, -1)\n",
    "print(aliceVector)\n",
    "print(dinahVector)\n",
    "print(rabbitVector)\n",
    "\n",
    "cosAD = cosine_similarity(aliceVector, dinahVector)\n",
    "print(\"Cosine similarity between Alice and Dinah: {}\".format(cosAD))\n",
    "cosAR = cosine_similarity(aliceVector, rabbitVector)\n",
    "print(\"Cosine similarity between Alice and Rabbit: {}\".format(cosAR))\n",
    "cosDR = cosine_similarity(dinahVector, rabbitVector)\n",
    "print(\"Cosine similarity between Dinah and Rabbit: {}\".format(cosDR))\n"
   ]
  },
  {
   "cell_type": "markdown",
   "metadata": {},
   "source": [
    "### Five closest words to Alice"
   ]
  },
  {
   "cell_type": "code",
   "execution_count": 7,
   "metadata": {},
   "outputs": [
    {
     "name": "stdout",
     "output_type": "stream",
     "text": [
      "Closest words to Alice\n",
      "0: alice\n",
      "1: she\n",
      "2: it\n",
      "3: the\n",
      "4: a\n",
      "5: herself\n"
     ]
    }
   ],
   "source": [
    "#find the closest words to Alice\n",
    "nbrs = nn(n_neighbors=6, algorithm='brute', metric='cosine').fit(coMatrix)\n",
    "distances, indices = nbrs.kneighbors(aliceVector)\n",
    "\n",
    "print(\"Closest words to Alice\")\n",
    "for pos, index in enumerate(indices[0]):\n",
    "    print(\"{}: {}\".format(pos, inverted_index[index]))"
   ]
  },
  {
   "cell_type": "markdown",
   "metadata": {},
   "source": [
    "From the results above we observe the six closest words to 'Alice'.\n",
    "\n",
    "* The first word corresponds to 'Alice' itself. This word is returned by the NearestNeighbors classifier from sklearn by default. \n",
    "\n",
    "* The next five words are the closest words to 'Alice'."
   ]
  },
  {
   "cell_type": "code",
   "execution_count": 8,
   "metadata": {},
   "outputs": [],
   "source": [
    "#Save your all the vector representations of your word embeddings in this way\n",
    "#Change when necessary the sizes of the vocabulary/embedding dimension\n",
    "\n",
    "f = open('vectors_co_occurrence.txt',\"w\")\n",
    "f.write(\" \".join([str(V-1),str(V-1)]))\n",
    "f.write(\"\\n\")\n",
    "\n",
    "#vectors = your word co-occurrence matrix\n",
    "vectors = []\n",
    "for word, i in tokenizer.word_index.items():    \n",
    "    f.write(word)\n",
    "    f.write(\" \")\n",
    "    f.write(\" \".join(map(str, list(coMatrix[i,:]))))\n",
    "    f.write(\"\\n\")\n",
    "f.close()"
   ]
  },
  {
   "cell_type": "code",
   "execution_count": 27,
   "metadata": {},
   "outputs": [],
   "source": [
    "#reopen your file as follows\n",
    "\n",
    "#co_occurrence = KeyedVectors.load_word2vec_format('./vectors_co_occurrence.txt', binary=False)"
   ]
  },
  {
   "cell_type": "markdown",
   "metadata": {},
   "source": [
    "### Discussion of the drawbacks: "
   ]
  },
  {
   "cell_type": "markdown",
   "metadata": {},
   "source": [
    "One drawback of the co-occurrence matrix it's its size. It has a size of |V| x |V|, where |V| corresponds to the number of different words in the computed vocabulary (after preprocessing operations like stopwords removal, stemming, etc. are applied to the input dataset). For the Alice dataset used on this assigment, the size of |V| is 1182, and the obtained co-ocurrence matrix needs 6mb to be stored. The size of our vocabulary is very small in comparison with other vocabularies used in real world applications. Those vocabularies have more than ten thousand words, hundred thousand words, or one million words. For such vocabularies, a huge amount of memory is needed to store the corresponding co-occurrence matrix.\n",
    "\n",
    "Also, this matrix is very sparse, most of its entries contain zeros because most of the words in the vocabulary are not associated to the rest of the words. Hence, another representation could be used to avoid wasting memory.\n",
    "\n",
    "By construction, this matrix allows frequent words to be represented by more populated vectors. Therefore, when computing the 'n' most similar words for each vector, these words are more likely to appear in the results than the non frequent words. This becomes a problem when these type of words don't present meaningful information for the final user, like when these words can be considered as stopwords. Weighting techniques like PPMI and tf-idf can be applied to the co-occurrence matrix to solve this issue. "
   ]
  },
  {
   "cell_type": "markdown",
   "metadata": {},
   "source": [
    "## Question 2\n",
    "\n",
    "### Word embeddings\n",
    "Build embeddings with a keras implementation where the embedding vector is of length 50, 150 and 300. Use the Alice in Wonderland text book for training.\n",
    "1. Using the CBOW model\n",
    "2. Using Skipgram model\n",
    "3. Add extra hidden dense layer to CBow and Skipgram implementations. Choose an activation function for that layer and justify your answer.\n",
    "4. Analyze the four different word embeddings\n",
    "    - Implement your own function to perform the analogy task with. Do not use existing libraries for this task such as Gensim. Your function should be able to answer whether an anaology as in the example given in the pdf-file is true.\n",
    "    - Compare the performance on the analogy task between the word embeddings that you have trained in 2.1, 2.2 and 2.3.  \n",
    "    - Visualize your results and interpret your results\n",
    "5. Use the word co-occurence matrix from Question 1. Compare the performance on the analogy task with the performance of your trained word embeddings.  \n",
    "6. Discuss:\n",
    "    - What are the main advantages of CBOW and Skipgram?\n",
    "    - What is the advantage of negative sampling?\n",
    "    - What are the main drawbacks of CBOW and Skipgram?\n",
    "7. Load pre-trained embeddings on large corpuses (see the pdf file). You only have to consider the word embeddings with an embedding size of 300\n",
    "    - Compare performance on the analogy task with your own trained embeddings from \"Alice in Wonderland\". You can limit yourself to the vocabulary of Alice in Wonderland. Visualize the pre-trained word embeddings and compare these with the results of your own trained word embeddings. \n"
   ]
  },
  {
   "cell_type": "code",
   "execution_count": 3,
   "metadata": {},
   "outputs": [],
   "source": [
    "# prepare data for cbow\n",
    "\n",
    "from typing import Tuple\n",
    "\n",
    "\n",
    "def generate_data_cbow(corupus: list, window_size: int=2) -> Tuple[np.ndarray, np.ndarray]:\n",
    "    \"\"\"\n",
    "    Create CBOW based on a corpus.\n",
    "    Loop through the sentences and create bag of words based on the windows size.\n",
    "    Args:\n",
    "        corpus: list with words, split up by sentences in a nested list\n",
    "        window_size: size of the bag (1 = one word after and one word before)\n",
    "    \"\"\"\n",
    "    \n",
    "    for sentence in corpus:\n",
    "        for x in range(0, len(sentence) - window_size*2):\n",
    "            y = []\n",
    "            append_data = sentence[x: x+(2*window_size)+1]\n",
    "            append_data.pop(window_size)\n",
    "            y.append(sentence[x+window_size])\n",
    "            x = np.array([append_data])\n",
    "            y = np_utils.to_categorical(y, V)\n",
    "            yield(x, y)\n"
   ]
  },
  {
   "cell_type": "code",
   "execution_count": 4,
   "metadata": {},
   "outputs": [],
   "source": [
    "#create CBOW models\n",
    "cbow_50neurons_model = Sequential()\n",
    "cbow_50neurons_model.add(Embedding(input_dim=V, output_dim=dim_50, input_length=window_size*2))\n",
    "cbow_50neurons_model.add(Lambda(lambda x: K.mean(x, axis=1), output_shape=(dim_50,)))\n",
    "cbow_50neurons_model.add(Dense(input_dim=dim_50, units=V, activation='softmax'))\n",
    "\n",
    "cbow_150neurons_model = Sequential()\n",
    "cbow_150neurons_model.add(Embedding(input_dim=V, output_dim=dim_150, input_length=window_size*2))\n",
    "cbow_150neurons_model.add(Lambda(lambda x: K.mean(x, axis=1), output_shape=(dim_150,)))\n",
    "cbow_150neurons_model.add(Dense(input_dim=dim_150, units=V, activation='softmax'))\n",
    "\n",
    "cbow_300neurons_model = Sequential()\n",
    "cbow_300neurons_model.add(Embedding(input_dim=V, output_dim=dim_300, input_length=window_size*2))\n",
    "cbow_300neurons_model.add(Lambda(lambda x: K.mean(x, axis=1), output_shape=(dim_300,)))\n",
    "cbow_300neurons_model.add(Dense(input_dim=dim_300, units=V, activation='softmax'))"
   ]
  },
  {
   "cell_type": "code",
   "execution_count": 5,
   "metadata": {},
   "outputs": [],
   "source": [
    "#define loss function\n",
    "cbow_50neurons_model.compile(loss='categorical_crossentropy', optimizer='adadelta')\n",
    "cbow_150neurons_model.compile(loss='categorical_crossentropy', optimizer='adadelta')\n",
    "cbow_300neurons_model.compile(loss='categorical_crossentropy', optimizer='adadelta')"
   ]
  },
  {
   "cell_type": "code",
   "execution_count": 1,
   "metadata": {},
   "outputs": [],
   "source": [
    "#train model\n",
    "EPOCHS = 10\n",
    "\n",
    "for idx in range(EPOCHS):\n",
    "    loss = 0.\n",
    "    for x, y in generate_data_cbow(corpus, window_size):\n",
    "        loss += cbow_50neurons_model.train_on_batch(x, y)\n",
    "    print(\"cbow 50 neurons window_size(2) losses: {} -> {}\".format(idx, loss))\n",
    "\n",
    "for idx in range(EPOCHS):\n",
    "    loss = 0.\n",
    "    for x, y in generate_data_cbow(corpus, window_size):\n",
    "        loss += cbow_150neurons_model.train_on_batch(x, y)\n",
    "    print(\"cbow 150 neurons window_size(2) losses: {} -> {}\".format(idx, loss))\n",
    "\n",
    "for idx in range(EPOCHS):\n",
    "    loss = 0.\n",
    "    for x, y in generate_data_cbow(corpus, window_size):\n",
    "        loss += cbow_300neurons_model.train_on_batch(x, y)\n",
    "    print(\"cbow 300 neurons window_size(2) losses: {} -> {}\".format(idx, loss))"
   ]
  },
  {
   "cell_type": "code",
   "execution_count": null,
   "metadata": {},
   "outputs": [],
   "source": []
  },
  {
   "cell_type": "code",
   "execution_count": 9,
   "metadata": {},
   "outputs": [],
   "source": [
    "#prepare data for Skipgram\n",
    "def generate_data_skipgram(corpus, window_size, V):\n",
    "    maxlen = window_size*2\n",
    "    all_in = []\n",
    "    all_out = []\n",
    "    for words in corpus:\n",
    "        L = len(words)\n",
    "        for index, word in enumerate(words):\n",
    "            p = index - window_size\n",
    "            n = index + window_size + 1\n",
    "            \n",
    "            in_words = []\n",
    "            labels = []\n",
    "            for i in range(p, n):\n",
    "                if i != index and 0 <= i < L:\n",
    "                    # repeat the same word several times\n",
    "                    in_words.append([word])\n",
    "                    # add the context words\n",
    "                    labels.append(words[i])\n",
    "            if in_words != []:\n",
    "                #print(in_words)\n",
    "                all_in.append(np.array(in_words,dtype=np.int32))\n",
    "                all_out.append(np_utils.to_categorical(labels, V))\n",
    "                #print(all_in)\n",
    "                #print(all_in[0].shape)\n",
    "                #print(all_out)\n",
    "                #print(all_out[0].shape)\n",
    "                #break\n",
    "    return (all_in,all_out)"
   ]
  },
  {
   "cell_type": "code",
   "execution_count": 10,
   "metadata": {},
   "outputs": [],
   "source": [
    "#save the preprocessed data of Skipgram\n",
    "def save_skipgram_data(filename, x, y):\n",
    "    f = open(filename ,'w')\n",
    "    for input,outcome  in zip(x,y):\n",
    "        input = np.concatenate(input)\n",
    "        f.write(\" \".join(map(str, list(input))))\n",
    "        f.write(\",\")\n",
    "        outcome = np.concatenate(outcome)\n",
    "        f.write(\" \".join(map(str,list(outcome))))\n",
    "        f.write(\"\\n\")\n",
    "    f.close()"
   ]
  },
  {
   "cell_type": "code",
   "execution_count": 11,
   "metadata": {},
   "outputs": [],
   "source": [
    "#load the preprocessed Skipgram data\n",
    "def generate_data_skipgram_from_file(filename):\n",
    "    f = open(filename ,'r')\n",
    "    for row in f:\n",
    "        inputs,outputs = row.split(\",\")\n",
    "        inputs = np.fromstring(inputs, dtype=int, sep=' ')\n",
    "        inputs = np.asarray(np.split(inputs, len(inputs)))\n",
    "        outputs = np.fromstring(outputs, dtype=float, sep=' ')\n",
    "        outputs = np.asarray(np.split(outputs, len(inputs)))\n",
    "        yield (inputs,outputs)"
   ]
  },
  {
   "cell_type": "code",
   "execution_count": 12,
   "metadata": {},
   "outputs": [],
   "source": [
    "# Generate and save data for skipgram model\n",
    "DATA_SKIPGRAM_FILENAME = \"data_skipgram.txt\"\n",
    "x,y = generate_data_skipgram(corpus,window_size,V)\n",
    "save_skipgram_data(DATA_SKIPGRAM_FILENAME, x, y)\n"
   ]
  },
  {
   "cell_type": "code",
   "execution_count": 31,
   "metadata": {},
   "outputs": [],
   "source": [
    "#create Skipgram models\n",
    "skipgram_50neurons_model = Sequential()\n",
    "skipgram_50neurons_model.add(Embedding(input_dim=V, output_dim=dim_50, embeddings_initializer='glorot_uniform', input_length=1))\n",
    "skipgram_50neurons_model.add(Reshape((dim_50, )))\n",
    "skipgram_50neurons_model.add(Dense(input_dim=dim_50, units=V, kernel_initializer='uniform', activation='softmax'))\n",
    "\n",
    "skipgram_150neurons_model = Sequential()\n",
    "skipgram_150neurons_model.add(Embedding(input_dim=V, output_dim=dim_150, embeddings_initializer='glorot_uniform', input_length=1))\n",
    "skipgram_150neurons_model.add(Reshape((dim_150, )))\n",
    "skipgram_150neurons_model.add(Dense(input_dim=dim_150, units=V, kernel_initializer='uniform', activation='softmax'))\n",
    "\n",
    "skipgram_300neurons_model = Sequential()\n",
    "skipgram_300neurons_model.add(Embedding(input_dim=V, output_dim=dim_300, embeddings_initializer='glorot_uniform', input_length=1))\n",
    "skipgram_300neurons_model.add(Reshape((dim_300, )))\n",
    "skipgram_300neurons_model.add(Dense(input_dim=dim_300, units=V, kernel_initializer='uniform', activation='softmax'))"
   ]
  },
  {
   "cell_type": "markdown",
   "metadata": {},
   "source": [
    "For the loss functions for skigrams the adam optimization method was used. This optimization method combines the benefits of RMSprop and SGD with momentum.\n",
    "This method is recommended by Andrew NG for neural networks architectures, and we understand (conceptually) the way it works.\n",
    "That's why we decided to use this optmizer for the Skipgram models."
   ]
  },
  {
   "cell_type": "code",
   "execution_count": 32,
   "metadata": {},
   "outputs": [],
   "source": [
    "#define loss function for Skipgrams\n",
    "skipgram_50neurons_model.compile(loss='categorical_crossentropy', optimizer='adam')\n",
    "skipgram_150neurons_model.compile(loss='categorical_crossentropy', optimizer='adam')\n",
    "skipgram_300neurons_model.compile(loss='categorical_crossentropy', optimizer='adam')"
   ]
  },
  {
   "cell_type": "code",
   "execution_count": 33,
   "metadata": {},
   "outputs": [
    {
     "name": "stdout",
     "output_type": "stream",
     "text": [
      "skipgram 50neurons losses: 0 -> 41227.852679252625\n",
      "skipgram 50neurons losses: 1 -> 37225.77084624767\n",
      "skipgram 50neurons losses: 2 -> 36070.634310007095\n",
      "skipgram 50neurons losses: 3 -> 35106.19874715805\n",
      "skipgram 50neurons losses: 4 -> 34224.60791885853\n",
      "skipgram 50neurons losses: 5 -> 33423.751603126526\n",
      "skipgram 50neurons losses: 6 -> 32703.974932074547\n",
      "skipgram 50neurons losses: 7 -> 32061.167878985405\n",
      "skipgram 50neurons losses: 8 -> 31488.461705684662\n",
      "skipgram 50neurons losses: 9 -> 30980.031043112278\n",
      "skipgram 150neurons losses: 0 -> 40981.32128417492\n",
      "skipgram 150neurons losses: 1 -> 36517.10737466812\n",
      "skipgram 150neurons losses: 2 -> 34707.53478753567\n",
      "skipgram 150neurons losses: 3 -> 33126.841853260994\n",
      "skipgram 150neurons losses: 4 -> 31759.00194466114\n",
      "skipgram 150neurons losses: 5 -> 30622.24001687765\n",
      "skipgram 150neurons losses: 6 -> 29710.55106076598\n",
      "skipgram 150neurons losses: 7 -> 29000.246706470847\n",
      "skipgram 150neurons losses: 8 -> 28463.646732121706\n",
      "skipgram 150neurons losses: 9 -> 28064.33010067139\n",
      "skipgram 300neurons losses: 0 -> 40865.54268229008\n",
      "skipgram 300neurons losses: 1 -> 35913.87467801571\n",
      "skipgram 300neurons losses: 2 -> 33550.050864100456\n",
      "skipgram 300neurons losses: 3 -> 31623.744685530663\n",
      "skipgram 300neurons losses: 4 -> 30161.087413072586\n",
      "skipgram 300neurons losses: 5 -> 29143.911912240088\n",
      "skipgram 300neurons losses: 6 -> 28496.417135301977\n",
      "skipgram 300neurons losses: 7 -> 28116.74804914929\n",
      "skipgram 300neurons losses: 8 -> 27916.277399891755\n",
      "skipgram 300neurons losses: 9 -> 27831.394520204427\n"
     ]
    }
   ],
   "source": [
    "#train Skipgram models\n",
    "EPOCHS = 10\n",
    "\n",
    "skipgram_50neurons_losses = []\n",
    "for ite in range(EPOCHS):\n",
    "    loss = 0.\n",
    "    for x, y in generate_data_skipgram_from_file(DATA_SKIPGRAM_FILENAME):\n",
    "        loss += skipgram_50neurons_model.train_on_batch(x, y)\n",
    "    skipgram_50neurons_losses.append((ite, loss))\n",
    "    print(\"skipgram 50neurons losses: {} -> {}\".format(ite, loss))\n",
    "\n",
    "\n",
    "skipgram_150neurons_losses = []\n",
    "for ite in range(EPOCHS):\n",
    "    loss = 0.\n",
    "    for x, y in generate_data_skipgram_from_file(DATA_SKIPGRAM_FILENAME):\n",
    "        loss += skipgram_150neurons_model.train_on_batch(x, y)\n",
    "    skipgram_150neurons_losses.append((ite, loss))\n",
    "    print(\"skipgram 150neurons losses: {} -> {}\".format(ite, loss))\n",
    "\n",
    "skipgram_300neurons_losses = []\n",
    "for ite in range(EPOCHS):\n",
    "    loss = 0.\n",
    "    for x, y in generate_data_skipgram_from_file(DATA_SKIPGRAM_FILENAME):\n",
    "        loss += skipgram_300neurons_model.train_on_batch(x, y)\n",
    "    skipgram_300neurons_losses.append((ite, loss))\n",
    "    print(\"skipgram 300neurons losses: {} -> {}\".format(ite, loss))\n"
   ]
  },
  {
   "cell_type": "code",
   "execution_count": null,
   "metadata": {},
   "outputs": [],
   "source": []
  },
  {
   "cell_type": "code",
   "execution_count": 41,
   "metadata": {},
   "outputs": [],
   "source": [
    "# save computed vectors\n",
    "def save_computed_vectors(filename, vectors, dimension):\n",
    "    f = open(filename ,'w')\n",
    "    f.write(\" \".join([str(V-1),str(dimension)]))\n",
    "    f.write(\"\\n\")\n",
    "\n",
    "    for word, i in tokenizer.word_index.items():\n",
    "        f.write(word)\n",
    "        f.write(\" \")\n",
    "        f.write(\" \".join(map(str, list(vectors[i,:]))))\n",
    "        f.write(\"\\n\")\n",
    "    f.close()"
   ]
  },
  {
   "cell_type": "code",
   "execution_count": 42,
   "metadata": {},
   "outputs": [
    {
     "name": "stdout",
     "output_type": "stream",
     "text": [
      "(1183, 50)\n",
      "(1183, 150)\n",
      "(1183, 300)\n"
     ]
    }
   ],
   "source": [
    "#Save computed vectors\n",
    "VECTORS_SKIPGRAM_50NEURONS_FILENAME = 'vectors_skipgram_50neurons.txt'\n",
    "skipgram_50neurons_model_vectors = skipgram_50neurons_model.get_weights()[0]\n",
    "print(skipgram_50neurons_model_vectors.shape)\n",
    "save_computed_vectors(VECTORS_SKIPGRAM_50NEURONS_FILENAME, skipgram_50neurons_model_vectors, dim_50)\n",
    "\n",
    "VECTORS_SKIPGRAM_150NEURONS_FILENAME = 'vectors_skipgram_150neurons.txt'\n",
    "skipgram_150neurons_model_vectors = skipgram_150neurons_model.get_weights()[0]\n",
    "print(skipgram_150neurons_model_vectors.shape)\n",
    "save_computed_vectors(VECTORS_SKIPGRAM_150NEURONS_FILENAME, skipgram_150neurons_model_vectors, dim_150)\n",
    "\n",
    "VECTORS_SKIPGRAM_300NEURONS_FILENAME = 'vectors_skipgram_300neurons.txt'\n",
    "skipgram_300neurons_model_vectors = skipgram_300neurons_model.get_weights()[0]\n",
    "print(skipgram_300neurons_model_vectors.shape)\n",
    "save_computed_vectors(VECTORS_SKIPGRAM_300NEURONS_FILENAME, skipgram_300neurons_model_vectors, dim_300)"
   ]
  },
  {
   "cell_type": "code",
   "execution_count": 43,
   "metadata": {},
   "outputs": [],
   "source": [
    "# load computed vectors\n",
    "def load_word_vectors(filename):\n",
    "    f = open(filename, 'r')\n",
    "    # read first line to get the dimensions\n",
    "    dim_rows = 0\n",
    "    dim_columns = 0\n",
    "    word_vectors = None\n",
    "    for line in f.readlines():\n",
    "        input_values = line.strip().split(\" \")\n",
    "        if len(input_values) == 2:\n",
    "            dim_rows = int(input_values[0])\n",
    "            dim_columns = int(input_values[1])\n",
    "            word_vectors = np.zeros((dim_rows+1, dim_columns))\n",
    "            #print(\"rows: {}, columns: {}\".format(dim_rows, dim_columns))\n",
    "        else:\n",
    "            word = input_values[0]\n",
    "            vector_values = np.fromstring(\" \".join(input_values[1:]), dtype=float, sep=' ')\n",
    "            word_vectors[tokenizer.word_index[word]] = vector_values\n",
    "            \n",
    "    f.close()\n",
    "    return word_vectors\n"
   ]
  },
  {
   "cell_type": "code",
   "execution_count": 44,
   "metadata": {},
   "outputs": [],
   "source": [
    "loaded_skipgram_50neurons_model_vectors = load_word_vectors(VECTORS_SKIPGRAM_50NEURONS_FILENAME)\n",
    "loaded_skipgram_150neurons_model_vectors = load_word_vectors(VECTORS_SKIPGRAM_150NEURONS_FILENAME)\n",
    "loaded_skipgram_300neurons_model_vectors = load_word_vectors(VECTORS_SKIPGRAM_300NEURONS_FILENAME)"
   ]
  },
  {
   "cell_type": "code",
   "execution_count": 5,
   "metadata": {},
   "outputs": [],
   "source": [
    "#create CBOW model with additional dense layer\n",
    "cbow_50neurons_dense = Sequential()\n",
    "cbow_50neurons_dense.add(Embedding(input_dim=V, output_dim=dim_50, input_length=window_size*2))\n",
    "cbow_50neurons_dense.add(Lambda(lambda x: K.mean(x, axis=1), output_shape=(dim_50,)))\n",
    "cbow_50neurons_dense.add(Dense(input_dim=V, units=dim_50, kernel_initializer='he_uniform', activation='relu'))\n",
    "cbow_50neurons_dense.add(Dense(input_dim=dim_50, units=V, kernel_initializer='uniform', activation='softmax'))\n",
    "\n",
    "cbow_150neurons_dense = Sequential()\n",
    "cbow_150neurons_dense.add(Embedding(input_dim=V, output_dim=dim_150, input_length=window_size*2))\n",
    "cbow_150neurons_dense.add(Lambda(lambda x: K.mean(x, axis=1), output_shape=(dim_150,)))\n",
    "cbow_150neurons_dense.add(Dense(input_dim=V, units=dim_150, kernel_initializer='he_uniform', activation='relu'))\n",
    "cbow_150neurons_dense.add(Dense(input_dim=dim_150, units=V, kernel_initializer='uniform', activation='softmax'))\n",
    "\n",
    "cbow_300neurons_dense = Sequential()\n",
    "cbow_300neurons_dense.add(Embedding(input_dim=V, output_dim=dim_300, input_length=window_size*2))\n",
    "cbow_300neurons_dense.add(Lambda(lambda x: K.mean(x, axis=1), output_shape=(dim_300,)))\n",
    "cbow_300neurons_dense.add(Dense(input_dim=V, units=dim_300, kernel_initializer='he_uniform', activation='relu'))\n",
    "cbow_300neurons_dense.add(Dense(input_dim=dim_300, units=V, kernel_initializer='uniform', activation='softmax'))\n"
   ]
  },
  {
   "cell_type": "code",
   "execution_count": 7,
   "metadata": {},
   "outputs": [],
   "source": [
    "#define loss function for CBOW + dense\n",
    "cbow_50neurons_dense.compile(loss='categorical_crossentropy', optimizer='adadelta')\n",
    "cbow_150neurons_dense.compile(loss='categorical_crossentropy', optimizer='adadelta')\n",
    "cbow_300neurons_dense.compile(loss='categorical_crossentropy', optimizer='adadelta')"
   ]
  },
  {
   "cell_type": "code",
   "execution_count": null,
   "metadata": {
    "collapsed": true
   },
   "outputs": [],
   "source": [
    "#train model for CBOW + dense\n",
    "EPOCHS = 10\n",
    "\n",
    "for idx in range(EPOCHS):\n",
    "    loss = 0.\n",
    "    for x, y in generate_data_cbow(corpus, window_size):\n",
    "        loss += cbow_50neurons_dense.train_on_batch(x, y)\n",
    "    print(\"cbow 50 neurons window_size(2) losses: {} -> {}\".format(idx, loss))\n",
    "\n",
    "for idx in range(EPOCHS):\n",
    "    loss = 0.\n",
    "    for x, y in generate_data_cbow(corpus, window_size):\n",
    "        loss += cbow_150neurons_dense.train_on_batch(x, y)\n",
    "    print(\"cbow 150 neurons window_size(2) losses: {} -> {}\".format(idx, loss))\n",
    "\n",
    "for idx in range(EPOCHS):\n",
    "    loss = 0.\n",
    "    for x, y in generate_data_cbow(corpus, window_size):\n",
    "        loss += cbow_300neurons_model.train_on_batch(x, y)\n",
    "    print(\"cbow 300 neurons window_size(2) losses: {} -> {}\".format(idx, loss))"
   ]
  },
  {
   "cell_type": "markdown",
   "metadata": {},
   "source": [
    "### Explanation of architecture for modified skipgram model"
   ]
  },
  {
   "cell_type": "code",
   "execution_count": 55,
   "metadata": {},
   "outputs": [
    {
     "name": "stdout",
     "output_type": "stream",
     "text": [
      "skipgram 50neurons modified losses: 0 -> 40867.2572889328\n"
     ]
    }
   ],
   "source": [
    "skipgram_50neurons_modified_model = Sequential()\n",
    "skipgram_50neurons_modified_model.add(Embedding(input_dim=V, output_dim=V, embeddings_initializer='glorot_uniform', input_length=1))\n",
    "skipgram_50neurons_modified_model.add(Reshape((V, )))\n",
    "skipgram_50neurons_modified_model.add(Dense(input_dim=V, units=dim_50, kernel_initializer='he_uniform', activation='relu'))\n",
    "skipgram_50neurons_modified_model.add(Dense(input_dim=dim_50, units=V, kernel_initializer='uniform', activation='softmax'))\n",
    "\n",
    "\n",
    "skipgram_50neurons_modified_model.compile(loss='categorical_crossentropy', optimizer='adam')\n",
    "\n",
    "\n",
    "EPOCHS = 1\n",
    "\n",
    "skipgram_50neurons_modified_model_losses = []\n",
    "for ite in range(EPOCHS):\n",
    "    loss = 0.\n",
    "    for x, y in generate_data_skipgram_from_file(DATA_SKIPGRAM_FILENAME):\n",
    "        loss += skipgram_50neurons_modified_model.train_on_batch(x, y)\n",
    "    skipgram_50neurons_modified_model_losses.append((ite, loss))\n",
    "    print(\"skipgram 50neurons modified losses: {} -> {}\".format(ite, loss))\n",
    "\n"
   ]
  },
  {
   "cell_type": "code",
   "execution_count": 56,
   "metadata": {},
   "outputs": [
    {
     "name": "stdout",
     "output_type": "stream",
     "text": [
      "(1183, 1183)\n",
      "(1183, 50)\n",
      "(50,)\n"
     ]
    }
   ],
   "source": [
    "print(skipgram_50neurons_modified_model.get_weights()[0].shape)\n",
    "print(skipgram_50neurons_modified_model.get_weights()[1].shape)\n",
    "print(skipgram_50neurons_modified_model.get_weights()[2].shape)\n"
   ]
  },
  {
   "cell_type": "code",
   "execution_count": 57,
   "metadata": {},
   "outputs": [],
   "source": [
    "#create Skipgram models with additional dense layer\n",
    "skipgram_50neurons_modified_model = Sequential()\n",
    "skipgram_50neurons_modified_model.add(Embedding(input_dim=V, output_dim=V, embeddings_initializer='glorot_uniform', input_length=1))\n",
    "skipgram_50neurons_modified_model.add(Reshape((V, )))\n",
    "skipgram_50neurons_modified_model.add(Dense(input_dim=V, units=dim_50, kernel_initializer='he_uniform', activation='relu'))\n",
    "skipgram_50neurons_modified_model.add(Dense(input_dim=dim_50, units=V, kernel_initializer='uniform', activation='softmax'))\n",
    "\n",
    "skipgram_150neurons_modified_model = Sequential()\n",
    "skipgram_150neurons_modified_model.add(Embedding(input_dim=V, output_dim=V, embeddings_initializer='glorot_uniform', input_length=1))\n",
    "skipgram_150neurons_modified_model.add(Reshape((V, )))\n",
    "skipgram_150neurons_modified_model.add(Dense(input_dim=V, units=dim_150, kernel_initializer='he_uniform', activation='relu'))\n",
    "skipgram_150neurons_modified_model.add(Dense(input_dim=dim_150, units=V, kernel_initializer='uniform', activation='softmax'))\n",
    "\n",
    "\n",
    "skipgram_300neurons_modified_model = Sequential()\n",
    "skipgram_300neurons_modified_model.add(Embedding(input_dim=V, output_dim=V, embeddings_initializer='glorot_uniform', input_length=1))\n",
    "skipgram_300neurons_modified_model.add(Reshape((V, )))\n",
    "skipgram_300neurons_modified_model.add(Dense(input_dim=V, units=dim_300, kernel_initializer='he_uniform', activation='relu'))\n",
    "skipgram_300neurons_modified_model.add(Dense(input_dim=dim_300, units=V, kernel_initializer='uniform', activation='softmax'))\n"
   ]
  },
  {
   "cell_type": "code",
   "execution_count": 58,
   "metadata": {},
   "outputs": [],
   "source": [
    "#define loss function for Skipgram + dense\n",
    "skipgram_50neurons_modified_model.compile(loss='categorical_crossentropy', optimizer='adam')\n",
    "skipgram_150neurons_modified_model.compile(loss='categorical_crossentropy', optimizer='adam')\n",
    "skipgram_300neurons_modified_model.compile(loss='categorical_crossentropy', optimizer='adam')"
   ]
  },
  {
   "cell_type": "code",
   "execution_count": 60,
   "metadata": {},
   "outputs": [
    {
     "name": "stdout",
     "output_type": "stream",
     "text": [
      "skipgram 50neurons modified losses: 0 -> 35940.9471257925\n",
      "skipgram 50neurons modified losses: 1 -> 35306.07530760765\n",
      "skipgram 50neurons modified losses: 2 -> 35022.83497685194\n",
      "skipgram 50neurons modified losses: 3 -> 35206.09918880463\n",
      "skipgram 150neurons modified losses: 0 -> 40807.68313193321\n",
      "skipgram 150neurons modified losses: 1 -> 37117.89393699169\n",
      "skipgram 150neurons modified losses: 2 -> 35901.78784620762\n",
      "skipgram 150neurons modified losses: 3 -> 34961.449438750744\n",
      "skipgram 300neurons modified losses: 0 -> 40668.61833572388\n",
      "skipgram 300neurons modified losses: 1 -> 36941.252140402794\n",
      "skipgram 300neurons modified losses: 2 -> 35050.604078769684\n",
      "skipgram 300neurons modified losses: 3 -> 33856.89829403162\n"
     ]
    }
   ],
   "source": [
    "#train model for Skipgram + dense\n",
    "EPOCHS = 4\n",
    "\n",
    "skipgram_50neurons_modified_model_losses = []\n",
    "for ite in range(EPOCHS):\n",
    "    loss = 0.\n",
    "    for x, y in generate_data_skipgram_from_file(DATA_SKIPGRAM_FILENAME):\n",
    "        loss += skipgram_50neurons_modified_model.train_on_batch(x, y)\n",
    "    skipgram_50neurons_modified_model_losses.append((ite, loss))\n",
    "    print(\"skipgram 50neurons modified losses: {} -> {}\".format(ite, loss))\n",
    "\n",
    "\n",
    "skipgram_150neurons_modified_model_losses = []\n",
    "for ite in range(EPOCHS):\n",
    "    loss = 0.\n",
    "    for x, y in generate_data_skipgram_from_file(DATA_SKIPGRAM_FILENAME):\n",
    "        loss += skipgram_150neurons_modified_model.train_on_batch(x, y)\n",
    "    skipgram_150neurons_modified_model_losses.append((ite, loss))\n",
    "    print(\"skipgram 150neurons modified losses: {} -> {}\".format(ite, loss))\n",
    "\n",
    "skipgram_300neurons_modified_model_losses = []\n",
    "for ite in range(EPOCHS):\n",
    "    loss = 0.\n",
    "    for x, y in generate_data_skipgram_from_file(DATA_SKIPGRAM_FILENAME):\n",
    "        loss += skipgram_300neurons_modified_model.train_on_batch(x, y)\n",
    "    skipgram_300neurons_modified_model_losses.append((ite, loss))\n",
    "    print(\"skipgram 300neurons modified losses: {} -> {}\".format(ite, loss))\n"
   ]
  },
  {
   "cell_type": "code",
   "execution_count": 62,
   "metadata": {},
   "outputs": [
    {
     "name": "stdout",
     "output_type": "stream",
     "text": [
      "(1183, 50)\n",
      "(1183, 150)\n",
      "(1183, 300)\n"
     ]
    }
   ],
   "source": [
    "print(skipgram_50neurons_modified_model.get_weights()[1].shape)\n",
    "print(skipgram_150neurons_modified_model.get_weights()[1].shape)\n",
    "print(skipgram_300neurons_modified_model.get_weights()[1].shape)\n"
   ]
  },
  {
   "cell_type": "code",
   "execution_count": 63,
   "metadata": {},
   "outputs": [
    {
     "name": "stdout",
     "output_type": "stream",
     "text": [
      "(1183, 50)\n",
      "(1183, 150)\n",
      "(1183, 300)\n"
     ]
    }
   ],
   "source": [
    "#Save computed vectors\n",
    "VECTORS_SKIPGRAM_50NEURONS_MODIFIED_FILENAME = 'vectors_skipgram_50neurons_modified.txt'\n",
    "skipgram_50neurons_modified_model_vectors = skipgram_50neurons_modified_model.get_weights()[1]\n",
    "print(skipgram_50neurons_modified_model_vectors.shape)\n",
    "save_computed_vectors(VECTORS_SKIPGRAM_50NEURONS_MODIFIED_FILENAME, skipgram_50neurons_modified_model_vectors, dim_50)\n",
    "\n",
    "VECTORS_SKIPGRAM_150NEURONS_MODIFIED_FILENAME = 'vectors_skipgram_150neurons_modified.txt'\n",
    "skipgram_150neurons_modified_model_vectors = skipgram_150neurons_modified_model.get_weights()[1]\n",
    "print(skipgram_150neurons_modified_model_vectors.shape)\n",
    "save_computed_vectors(VECTORS_SKIPGRAM_150NEURONS_MODIFIED_FILENAME, skipgram_150neurons_modified_model_vectors, dim_150)\n",
    "\n",
    "VECTORS_SKIPGRAM_300NEURONS_MODIFIED_FILENAME = 'vectors_skipgram_300neurons_modified.txt'\n",
    "skipgram_300neurons_modified_model_vectors = skipgram_300neurons_modified_model.get_weights()[1]\n",
    "print(skipgram_300neurons_modified_model_vectors.shape)\n",
    "save_computed_vectors(VECTORS_SKIPGRAM_300NEURONS_MODIFIED_FILENAME, skipgram_300neurons_modified_model_vectors, dim_300)"
   ]
  },
  {
   "cell_type": "code",
   "execution_count": 64,
   "metadata": {},
   "outputs": [],
   "source": [
    "## train nearest neighbors model\n",
    "nn_skipgram_50neurons = nn(n_neighbors=21, algorithm='brute', metric='cosine').fit(skipgram_50neurons_model_vectors)\n",
    "nn_skipgram_50neurons_modified = nn(n_neighbors=21, algorithm='brute', metric='cosine').fit(skipgram_50neurons_modified_model_vectors)\n",
    "\n",
    "nn_skipgram_150neurons = nn(n_neighbors=21, algorithm='brute', metric='cosine').fit(skipgram_150neurons_model_vectors)\n",
    "nn_skipgram_150neurons_modified = nn(n_neighbors=21, algorithm='brute', metric='cosine').fit(skipgram_150neurons_modified_model_vectors)\n",
    "\n",
    "nn_skipgram_300neurons = nn(n_neighbors=21, algorithm='brute', metric='cosine').fit(skipgram_300neurons_model_vectors)\n",
    "nn_skipgram_300neurons_modified = nn(n_neighbors=21, algorithm='brute', metric='cosine').fit(skipgram_300neurons_modified_model_vectors)\n"
   ]
  },
  {
   "cell_type": "code",
   "execution_count": 65,
   "metadata": {},
   "outputs": [],
   "source": [
    "ds, indices_skipgram_50neurons = nn_skipgram_50neurons.kneighbors(skipgram_50neurons_model_vectors)\n",
    "ds, indices_skipgram_50neurons_modified = nn_skipgram_50neurons_modified.kneighbors(skipgram_50neurons_modified_model_vectors)\n",
    "\n",
    "ds, indices_skipgram_150neurons = nn_skipgram_150neurons.kneighbors(skipgram_150neurons_model_vectors)\n",
    "ds, indices_skipgram_150neurons_modified = nn_skipgram_150neurons_modified.kneighbors(skipgram_150neurons_modified_model_vectors)\n",
    "\n",
    "ds, indices_skipgram_300neurons = nn_skipgram_300neurons.kneighbors(skipgram_300neurons_model_vectors)\n",
    "ds, indices_skipgram_300neurons_modified = nn_skipgram_300neurons_modified.kneighbors(skipgram_300neurons_modified_model_vectors)"
   ]
  },
  {
   "cell_type": "code",
   "execution_count": 66,
   "metadata": {},
   "outputs": [],
   "source": [
    "def save_neighbors(filename, neighbors):\n",
    "    f = open(filename, 'w')\n",
    "    \n",
    "    for idrow, matrix_row in enumerate(neighbors):\n",
    "        words = []\n",
    "        if idrow > 0:\n",
    "            for idc, column in enumerate(matrix_row):\n",
    "                if column > 0 :\n",
    "                    words.append(inverted_index[column])\n",
    "            f.write(\", \".join(words))\n",
    "            f.write(\"\\n\")\n",
    "    f.close()\n",
    "            "
   ]
  },
  {
   "cell_type": "code",
   "execution_count": 67,
   "metadata": {},
   "outputs": [],
   "source": [
    "SKIPGRAM_50NEURONS_NN_FILENAME = \"skipgram_50neurons_nn.txt\"\n",
    "SKIPGRAM_50NEURONS_MODIFIED_NN_FILENAME = \"skipgram_50neurons_modified_nn.txt\"\n",
    "SKIPGRAM_150NEURONS_NN_FILENAME = \"skipgram_50neurons_nn.txt\"\n",
    "SKIPGRAM_150NEURONS_MODIFIED_NN_FILENAME = \"skipgram_150neurons_modified_nn.txt\"\n",
    "SKIPGRAM_300NEURONS_NN_FILENAME = \"skipgram_300neurons_nn.txt\"\n",
    "SKIPGRAM_300NEURONS_MODIFIED_NN_FILENAME = \"skipgram_300neurons_modified_nn.txt\"\n",
    "\n",
    "save_neighbors(SKIPGRAM_50NEURONS_NN_FILENAME, indices_skipgram_50neurons)\n",
    "save_neighbors(SKIPGRAM_50NEURONS_MODIFIED_NN_FILENAME, indices_skipgram_50neurons_modified)\n",
    "\n",
    "save_neighbors(SKIPGRAM_150NEURONS_NN_FILENAME, indices_skipgram_150neurons)\n",
    "save_neighbors(SKIPGRAM_150NEURONS_MODIFIED_NN_FILENAME, indices_skipgram_150neurons_modified)\n",
    "\n",
    "save_neighbors(SKIPGRAM_300NEURONS_NN_FILENAME, indices_skipgram_300neurons)\n",
    "save_neighbors(SKIPGRAM_300NEURONS_MODIFIED_NN_FILENAME, indices_skipgram_300neurons_modified)"
   ]
  },
  {
   "cell_type": "markdown",
   "metadata": {},
   "source": [
    "### Analogy function\n",
    "\n",
    "Due to the small dataset (Alice.txt) used for this assignment, we decided to implement a modified version of the analogy function explained in [insert reference here]. First, our function computes an aggregated vector from the first three words in a given analogy. Then, we find the top 20 nearest neighbors for this vector using the corresponding word embeddings (skipgram or CBOW models) and nearest neighbors models. Finally, if the target word (fourth word) is contained in the top 20 nearestest neighbors, we return a True value as an indication of a valid analogy. "
   ]
  },
  {
   "cell_type": "code",
   "execution_count": 68,
   "metadata": {},
   "outputs": [],
   "source": [
    "#Implement your own analogy function\n",
    "# implementation of the function argmax(w.(w3 + w2 - w1)), with w - w3 =' w2 - w1\n",
    "#from sklearn.metrics.pairwise import cosine_similarity\n",
    "#from sklearn.neighbors import NearestNeighbors as nn\n",
    "#nbrs = NearestNeighbors(n_neighbors=2, algorithm='ball_tree').fit(X)\n",
    "\n",
    "# computes: word1 is a word2 as word3 is to target\n",
    "# returns true if target is found in the closest 10 neighbors\n",
    "def is_valid_analogy(word1, word2, word3, target, word_vectors, nnmodel):\n",
    "    if word1 not in tokenizer.word_index:\n",
    "        print(\"Word {} not in tokenizer.word_index\".format(word1))\n",
    "        return False\n",
    "    if word2 not in tokenizer.word_index:\n",
    "        print(\"Word {} not in tokenizer.word_index\".format(word2))\n",
    "        return False\n",
    "    if word3 not in tokenizer.word_index:\n",
    "        print(\"Word {} not in tokenizer.word_index\".format(word3))\n",
    "        return False\n",
    "    if target not in tokenizer.word_index:\n",
    "        print(\"Word {} not in tokenizer.word_index\".format(target))\n",
    "        return False\n",
    "    \n",
    "    vector_w1 = word_vectors[tokenizer.word_index[word1]]\n",
    "    vector_w2 = word_vectors[tokenizer.word_index[word2]]\n",
    "    vector_w3 = word_vectors[tokenizer.word_index[word3]]\n",
    "    composed_vector = vector_w1 - vector_w2 + vector_w3\n",
    "    distances, indices = nnmodel.kneighbors(composed_vector.reshape(1, -1))\n",
    "    return tokenizer.word_index[target] in indices\n",
    "\n",
    "def analogy_precision(analogies, word_vectors, nnmodel):\n",
    "    correct = 0\n",
    "    total = 0\n",
    "    for analogy in analogies:\n",
    "        #print(analogy)\n",
    "        if is_valid_analogy(analogy[0], analogy[1], analogy[2], analogy[3], word_vectors, nnmodel):\n",
    "            correct += 1\n",
    "        total += 1\n",
    "    return correct/(total*1.0)\n",
    "\n",
    "\n"
   ]
  },
  {
   "cell_type": "markdown",
   "metadata": {},
   "source": [
    "## Analyze the four different word embeddings"
   ]
  },
  {
   "cell_type": "markdown",
   "metadata": {},
   "source": [
    "To analyze the performance of the computed word embeddings we measure their ability to compute analogies. \n",
    "The previously defined analogy function is used to computed the precision of word embeddings on the analogy data. \n",
    "The results are shown below.\n"
   ]
  },
  {
   "cell_type": "code",
   "execution_count": 69,
   "metadata": {},
   "outputs": [],
   "source": [
    "analogy_data = [\"sudden suddenly usual usually\",\n",
    "\"bad worse good better\",\n",
    "\"go going look looking\",\n",
    "\"he she his her\",\n",
    "\"brother sister his her\",\n",
    "\"listen listening look looking\",\n",
    "\"saying said thinking thought\",\n",
    "\"bird birds cat cats\",\n",
    "\"good better old older\",\n",
    "\"good better quick quicker\",\n",
    "\"large largest good best\",\n",
    "\"falling fell knowing knew\",\n",
    "\"walk walking think thinking\",\n",
    "\"child children cat cats\",\n",
    "\"dog dogs eye eyes\",\n",
    "\"hand hands rat rats\",\n",
    "\"eat eats find finds\",\n",
    "\"find finds say says\",\n",
    "\"old older good better\",\n",
    "\"large larger quick quicker\",\n",
    "\"go going listen listening\",\n",
    "\"run running walk walking\",\n",
    "\"run running think thinking\",\n",
    "\"say saying sit sitting\",\n",
    "\"alice she rabbit he\",\n",
    "\"alice her rabbit him\",\n",
    "\"alice girl rabbit sir\",\n",
    "\"dinah cat alice girl\",\n",
    "\"his her he she\",\n",
    "\"long longer quick quicker\",\n",
    "\"long longer small smaller\",\n",
    "\"long longer bad worse\",\n",
    "\"go going look looking\",\n",
    "\"listen listening look looking\",\n",
    "\"swim swimming sit sitting\",\n",
    "\"run running listen listening\",\n",
    "\"think thinking read reading\",\n",
    "\"up down close far\",\n",
    "\"rome paris neck legs\",\n",
    "\"tears smiling smaller larger\",\n",
    "\"rome paris apple cherry\",\n",
    "\"child children dog dogs\",\n",
    "\"young energetic old tired\"]"
   ]
  },
  {
   "cell_type": "code",
   "execution_count": 70,
   "metadata": {},
   "outputs": [],
   "source": [
    "#prepare analogies\n",
    "\n",
    "analogies = []\n",
    "for row in analogy_data:\n",
    "        #print(row)\n",
    "        analogy = row.split(\" \")\n",
    "        if len(analogy) == 4:\n",
    "            #print(analogy)\n",
    "            analogies.append(analogy)"
   ]
  },
  {
   "cell_type": "code",
   "execution_count": 71,
   "metadata": {},
   "outputs": [],
   "source": [
    "# Testing skipgram models with analogies\n",
    "analogies_results = {}\n",
    "analogies_results[\"skip_50n\"] = analogy_precision(analogies, skipgram_50neurons_model_vectors,\n",
    "                                                 nn_skipgram_50neurons)\n",
    "\n",
    "analogies_results[\"skip_150n\"] = analogy_precision(analogies, skipgram_150neurons_model_vectors,\n",
    "                                                 nn_skipgram_150neurons)\n",
    "analogies_results[\"skip_300n\"] = analogy_precision(analogies, skipgram_300neurons_model_vectors,\n",
    "                                                 nn_skipgram_300neurons)\n",
    "analogies_results[\"skip_50n_mod\"] = analogy_precision(analogies, skipgram_50neurons_modified_model_vectors,\n",
    "                                                 nn_skipgram_50neurons_modified)\n",
    "analogies_results[\"skip_150n_mod\"] = analogy_precision(analogies, skipgram_150neurons_modified_model_vectors,\n",
    "                                                 nn_skipgram_150neurons_modified)\n",
    "analogies_results[\"skip_300n_mod\"] = analogy_precision(analogies, skipgram_300neurons_modified_model_vectors,\n",
    "                                                 nn_skipgram_300neurons_modified)\n",
    "\n"
   ]
  },
  {
   "cell_type": "markdown",
   "metadata": {},
   "source": [
    "### Results of skipgram models on analogies\n"
   ]
  },
  {
   "cell_type": "code",
   "execution_count": 72,
   "metadata": {},
   "outputs": [
    {
     "name": "stdout",
     "output_type": "stream",
     "text": [
      "Precision for word vectors of 50x1 using skipgram model: 0.046512\n",
      "Precision for word vectors of 150x1 using skipgram model: 0.093023\n",
      "Precision for word vectors of 300x1 using skipgram model: 0.093023\n",
      "Precision for word vectors of 50x1 using modified skipgram model: 0.069767\n",
      "Precision for word vectors of 150x1 using modified skipgram model: 0.000000\n",
      "Precision for word vectors of 300x1 using modified skipgram model: 0.023256\n"
     ]
    }
   ],
   "source": [
    "print(\"Precision for word vectors of 50x1 using skipgram model: {:3f}\".format(analogies_results[\"skip_50n\"]))\n",
    "print(\"Precision for word vectors of 150x1 using skipgram model: {:3f}\".format(analogies_results[\"skip_150n\"]))\n",
    "print(\"Precision for word vectors of 300x1 using skipgram model: {:3f}\".format(analogies_results[\"skip_300n\"]))\n",
    "\n",
    "print(\"Precision for word vectors of 50x1 using modified skipgram model: {:3f}\".format(analogies_results[\"skip_50n_mod\"]))\n",
    "print(\"Precision for word vectors of 150x1 using modified skipgram model: {:3f}\".format(analogies_results[\"skip_150n_mod\"]))\n",
    "print(\"Precision for word vectors of 300x1 using modified skipgram model: {:3f}\".format(analogies_results[\"skip_300n_mod\"]))\n"
   ]
  },
  {
   "cell_type": "markdown",
   "metadata": {},
   "source": [
    "### Comparison performance:\n"
   ]
  },
  {
   "cell_type": "markdown",
   "metadata": {},
   "source": [
    "### Visualization and interpretation of results"
   ]
  },
  {
   "cell_type": "code",
   "execution_count": 6,
   "metadata": {},
   "outputs": [],
   "source": [
    "analogy_words_to_visualize = ['bad', 'worse', 'good', 'better',\n",
    "                            'listen', 'listening', 'look', 'looking',\n",
    "                            'bird', 'birds', 'cat', 'cats',\n",
    "                            'good', 'better', 'old', 'older',\n",
    "                            'dog', 'dogs', 'eye', 'eyes',\n",
    "                            'hand', 'hands', 'rat', 'rats',\n",
    "                            'run', 'running', 'walk', 'walking',\n",
    "                            'young', 'energetic', 'old', 'tired']\n"
   ]
  },
  {
   "cell_type": "code",
   "execution_count": 11,
   "metadata": {},
   "outputs": [
    {
     "data": {
      "image/png": "[encoded data removed]",
      "text/plain": [
       "<matplotlib.figure.Figure at 0x7fa3b8616550>"
      ]
     },
     "metadata": {},
     "output_type": "display_data"
    }
   ],
   "source": [
    "# CBOW model with 150 neurons\n",
    "tsne = TSNE(n_components=2, init='pca', random_state=0)\n",
    "cbow_150neurons_model_vectors_projection = tsne.fit_transform(cbow_150neurons_model.get_weights()[0]).T\n",
    "fig = plt.figure(figsize=(15, 8))\n",
    "plt.scatter(cbow_150neurons_model_vectors_projection[0],\n",
    "            cbow_150neurons_model_vectors_projection[1],\n",
    "            c='b', cmap=plt.cm.Spectral)\n",
    "\n",
    "for word in analogy_words_to_visualize:\n",
    "    idx = tokenizer.word_index[word]\n",
    "    x_pos= cbow_150neurons_model_vectors_projection[0][idx]\n",
    "    y_pos= cbow_150neurons_model_vectors_projection[1][idx]\n",
    "    plt.annotate(word, (x_pos, y_pos), fontsize=11, fontweight='bold')\n",
    "\n",
    "plt.title(\"TSNE for word vectors of cbow model using 150 neurons\")\n",
    "plt.show()"
   ]
  },
  {
   "cell_type": "code",
   "execution_count": 10,
   "metadata": {},
   "outputs": [
    {
     "data": {
      "image/png": "[encoded data removed]",
      "text/plain": [
       "<matplotlib.figure.Figure at 0x7fa3b85cb6d8>"
      ]
     },
     "metadata": {},
     "output_type": "display_data"
    }
   ],
   "source": [
    "# CBOW model with 300 neurons\n",
    "tsne = TSNE(n_components=2, init='pca', random_state=0)\n",
    "cbow_300neurons_model_vectors_projection = tsne.fit_transform(cbow_300neurons_model.get_weights()[0]).T\n",
    "fig = plt.figure(figsize=(15, 8))\n",
    "plt.scatter(cbow_300neurons_model_vectors_projection[0],\n",
    "            cbow_300neurons_model_vectors_projection[1],\n",
    "            c='b', cmap=plt.cm.Spectral)\n",
    "\n",
    "for word in analogy_words_to_visualize:\n",
    "    idx = tokenizer.word_index[word]\n",
    "    x_pos= cbow_300neurons_model_vectors_projection[0][idx]\n",
    "    y_pos= cbow_300neurons_model_vectors_projection[1][idx]\n",
    "    plt.annotate(word, (x_pos, y_pos), fontsize=11, fontweight='bold')\n",
    "\n",
    "plt.title(\"TSNE for word vectors of cbow model using 300 neurons\")\n",
    "plt.show()"
   ]
  },
  {
   "cell_type": "markdown",
   "metadata": {},
   "source": [
    "#### Visualization of Skipgram models\n",
    "\n",
    "The next two figures show the TSNE representation of some of the words used in the analogy task for two skipgram models:\n",
    "    * skipgram model with 300 neurons in the representation layer\n",
    "    * modified skipgram model with 300 neurons in the representation layer\n",
    "    \n",
    " These two models correspond to the best and worst skipgram models according to the analogy task."
   ]
  },
  {
   "cell_type": "code",
   "execution_count": 73,
   "metadata": {},
   "outputs": [],
   "source": [
    "analogy_words_to_visualize = ['bad', 'worse', 'good', 'better',\n",
    "                            'listen', 'listening', 'look', 'looking',\n",
    "                            'bird', 'birds', 'cat', 'cats',\n",
    "                            'good', 'better', 'old', 'older',\n",
    "                            'dog', 'dogs', 'eye', 'eyes',\n",
    "                            'hand', 'hands', 'rat', 'rats',\n",
    "                            'run', 'running', 'walk', 'walking',\n",
    "                            'young', 'energetic', 'old', 'tired']\n"
   ]
  },
  {
   "cell_type": "code",
   "execution_count": 80,
   "metadata": {},
   "outputs": [
    {
     "name": "stdout",
     "output_type": "stream",
     "text": [
      "skipgram 150 neurons vectors projection computed\n",
      "skipgram 150 neurons modified model vectors projection computed\n"
     ]
    }
   ],
   "source": [
    "# skipgram model with 150 neurons\n",
    "tsne = TSNE(n_components=2, init='pca', random_state=0)\n",
    "skipgram_300neurons_model_vectors_projection = tsne.fit_transform(skipgram_300neurons_model_vectors).T\n",
    "print(\"skipgram 150 neurons vectors projection computed\")\n",
    "\n",
    "# skipgram model with 150 neurons\n",
    "tsne = TSNE(n_components=2, init='pca', random_state=0)\n",
    "skipgram_150neurons_modified_model_vectors_projection = tsne.fit_transform(skipgram_150neurons_modified_model_vectors).T\n",
    "print(\"skipgram 150 neurons modified model vectors projection computed\")\n"
   ]
  },
  {
   "cell_type": "code",
   "execution_count": 81,
   "metadata": {},
   "outputs": [
    {
     "data": {
      "image/png": "[encoded data removed]",
      "text/plain": [
       "<matplotlib.figure.Figure at 0x7f876c6ee208>"
      ]
     },
     "metadata": {},
     "output_type": "display_data"
    }
   ],
   "source": [
    "fig = plt.figure(figsize=(15, 8))\n",
    "plt.scatter(skipgram_300neurons_model_vectors_projection[0],\n",
    "            skipgram_300neurons_model_vectors_projection[1],\n",
    "            c='b', cmap=plt.cm.Spectral)\n",
    "\n",
    "for word in analogy_words_to_visualize:\n",
    "    idx = tokenizer.word_index[word]\n",
    "    x_pos= skipgram_300neurons_model_vectors_projection[0][idx]\n",
    "    y_pos= skipgram_300neurons_model_vectors_projection[1][idx]\n",
    "    plt.annotate(word, (x_pos, y_pos), fontsize=11, fontweight='bold')\n",
    "\n",
    "plt.title(\"TSNE for word vectors of skipgram model using 150 neurons\")\n",
    "plt.show()"
   ]
  },
  {
   "cell_type": "code",
   "execution_count": 82,
   "metadata": {},
   "outputs": [
    {
     "data": {
      "image/png": "[encoded data removed]",
      "text/plain": [
       "<matplotlib.figure.Figure at 0x7f876c641fd0>"
      ]
     },
     "metadata": {},
     "output_type": "display_data"
    }
   ],
   "source": [
    "fig = plt.figure(figsize=(15, 8))\n",
    "plt.scatter(skipgram_150neurons_modified_model_vectors_projection[0],\n",
    "            skipgram_150neurons_modified_model_vectors_projection[1],\n",
    "            c='b', cmap=plt.cm.Spectral)\n",
    "\n",
    "for word in analogy_words_to_visualize:\n",
    "    idx = tokenizer.word_index[word]\n",
    "    x_pos= skipgram_150neurons_modified_model_vectors_projection[0][idx]\n",
    "    y_pos= skipgram_150neurons_modified_model_vectors_projection[1][idx]\n",
    "    plt.annotate(word, (x_pos, y_pos), fontsize=11, fontweight='bold')\n",
    "\n",
    "plt.title(\"TSNE for word vectors of skipgram modified model using 150 neurons\")\n",
    "plt.show()"
   ]
  },
  {
   "cell_type": "markdown",
   "metadata": {},
   "source": [
    "### Interpretation results of the visualization"
   ]
  },
  {
   "cell_type": "markdown",
   "metadata": {},
   "source": [
    "#### Visualizations for Skipgram models"
   ]
  },
  {
   "cell_type": "markdown",
   "metadata": {},
   "source": [
    "#### Visualizations for CBOW models"
   ]
  },
  {
   "cell_type": "markdown",
   "metadata": {},
   "source": [
    "## 2.5 Using the word-word co-occurrence matrix from question 1. Compare the results of the trained word embeddings with the word-word co-occurrence matrix"
   ]
  },
  {
   "cell_type": "code",
   "execution_count": null,
   "metadata": {},
   "outputs": [],
   "source": [
    "# train nn model for the co-occurrence matrix\n",
    "nn_coMatrix = nn(n_neighbors=21, algorithm='brute', metric='cosine').fit(coMatrix)\n",
    "\n",
    "# compute analogy precision\n",
    "analogies_results[\"co-occurrence\"] = analogy_precision(analogies, skipgram_50neurons_model_vectors,\n",
    "                                                 nn_skipgram_50neurons)\n",
    "\n"
   ]
  },
  {
   "cell_type": "code",
   "execution_count": null,
   "metadata": {},
   "outputs": [],
   "source": [
    "print(\"Precision for co-occurrence vectors: {:3f}\".format(analogies_results[\"co-occurrence\"]))\n"
   ]
  },
  {
   "cell_type": "markdown",
   "metadata": {},
   "source": [
    "### Results "
   ]
  },
  {
   "cell_type": "markdown",
   "metadata": {},
   "source": [
    "## 2.6 Discussion of the advantages of CBOW and Skipgram, the advantages of negative sampling and drawbacks of CBOW and Skipgram"
   ]
  },
  {
   "cell_type": "markdown",
   "metadata": {},
   "source": [
    "### Advantages of CBOW\n",
    "While using CBOW for this assignment the following advantages appeared:\n",
    "* CBOW is relatively fast, much faster than skipgram for the same dataset with the same amount of neurons.\n",
    "* Based on the context a wordt can be predicted quite accurately\n",
    "* By choosing different window sizes context can be considered less or more important"
   ]
  },
  {
   "cell_type": "markdown",
   "metadata": {},
   "source": [
    "### Advantages of Skipgram\n",
    "Next we present advantages of word embeddings created using Skipgram:\n",
    "* They are able to encode similarity using the words that appear close to them in the corpus. \n",
    "* Their length is a parameter that can be tuned to get good results in relevant tasks.\n",
    "* The space needed to store them is way smaller than the one needed to store co-occurrence vectors.\n",
    "* When properly constructed they are able to capture relational meanings between words. For example, they can be used to compute analogies."
   ]
  },
  {
   "cell_type": "markdown",
   "metadata": {},
   "source": [
    "### Advantages of negative sampling\n",
    "\n",
    "The definition of the cost function for CBOW and Skipgram involves computations over the entire vocabulary in order to update the parameters of the weight matrix corresponding to a word embedding. This computation is very expensive, and it has to be done for all the word embeddings for a given number of epochs in order to obtain the final values for the word embeddings. Negative solves this problem by selecting a small number of non-related words (negative examples) for each word embedding. This words and the context words are used to compute a modified cost function that allow us to update the parameters of each word embedding much faster than using the previous method. Hence, negative sampling is a method to compute word embeddings in a fast way. "
   ]
  },
  {
   "cell_type": "markdown",
   "metadata": {},
   "source": [
    "### Drawbacks of CBOW\n",
    "Despite the advantages of CBOW there are some drawbacks:\n",
    "* Because CBOW is training on the context of a word a lot of data is needed to accurately predict a word contained by the context.\n",
    "* Rare words are never predicted: because CBOW chooses the most probable word given a training set rare words are never outputted by cbow, which can be quite dangerous if the training set is not good sampled.\n"
   ]
  },
  {
   "cell_type": "markdown",
   "metadata": {},
   "source": [
    "### Drawbacks of Skipgram\n",
    "Next we present some drawbacks of the skipgram model:\n",
    "* As mentioned before, the computation of the basic Skipgram model takes too much time, but this issue is solved by using negative sampling. \n",
    "* Because the Skipgram is based on neural network architectures there is a large number of parameters that have to be tunned in order to get good word embeddings. \n",
    "* The quality of the word embeddings is related to the amount of data used to train the neural networks.\n",
    "* We can only use the word embeddings for the words that exist in the vocabulary used to construct them."
   ]
  },
  {
   "cell_type": "markdown",
   "metadata": {},
   "source": [
    "## 2.7 Evaluation using pre-trained embedding on large corpora of GloVe and Word2vec"
   ]
  },
  {
   "cell_type": "code",
   "execution_count": null,
   "metadata": {
    "collapsed": true
   },
   "outputs": [],
   "source": [
    "#load pretrained word embeddings of word2vec\n",
    "\n",
    "path_word2vec = \"your path /GoogleNews-vectors-negative300.bin\"\n",
    "\n",
    "word2vec = KeyedVectors.load_word2vec_format(path, binary=True)"
   ]
  },
  {
   "cell_type": "code",
   "execution_count": null,
   "metadata": {
    "collapsed": true
   },
   "outputs": [],
   "source": [
    "#load pretraind word embeddings of Glove\n",
    "\n",
    "path = \"your path /glove.6B/glove.6B.300d_converted.txt\"\n",
    "\n",
    "#convert GloVe into word2vec format\n",
    "gensim.scripts.glove2word2vec.get_glove_info(path)\n",
    "gensim.scripts.glove2word2vec.glove2word2vec(path, \"glove_converted.txt\")\n",
    "\n",
    "glove = KeyedVectors.load_word2vec_format(path, binary=False)"
   ]
  },
  {
   "cell_type": "code",
   "execution_count": null,
   "metadata": {
    "collapsed": true
   },
   "outputs": [],
   "source": [
    "#Visualize the pre-trained word embeddings"
   ]
  },
  {
   "cell_type": "markdown",
   "metadata": {},
   "source": [
    "Comparison performance with your own trained word embeddings"
   ]
  },
  {
   "cell_type": "code",
   "execution_count": null,
   "metadata": {
    "collapsed": true
   },
   "outputs": [],
   "source": []
  }
 ],
 "metadata": {
  "kernelspec": {
   "display_name": "Python 3",
   "language": "python",
   "name": "python3"
  },
  "language_info": {
   "codemirror_mode": {
    "name": "ipython",
    "version": 3
   },
   "file_extension": ".py",
   "mimetype": "text/x-python",
   "name": "python",
   "nbconvert_exporter": "python",
   "pygments_lexer": "ipython3",
   "version": "3.6.4"
  }
 },
 "nbformat": 4,
 "nbformat_minor": 2
}
