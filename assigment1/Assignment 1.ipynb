{
 "cells": [
  {
   "cell_type": "markdown",
   "metadata": {},
   "source": [
    "# Assignment 1\n"
   ]
  },
  {
   "cell_type": "code",
   "execution_count": 1,
   "metadata": {},
   "outputs": [
    {
     "name": "stderr",
     "output_type": "stream",
     "text": [
      "Using TensorFlow backend.\n"
     ]
    }
   ],
   "source": [
    "import numpy as np\n",
    "np.random.seed(13) #TODO Check if this is used for sgd\n",
    "import keras.backend as K\n",
    "from keras.models import Sequential\n",
    "from keras.layers import Dense, Embedding, Reshape, Lambda\n",
    "from keras.utils import np_utils\n",
    "from keras.utils.data_utils import get_file\n",
    "from keras.preprocessing.text import Tokenizer\n",
    "from keras.utils.vis_utils import model_to_dot\n",
    "from keras.preprocessing import sequence\n",
    "from gensim.models import KeyedVectors\n",
    "from sklearn.manifold import TSNE\n",
    "from sklearn.metrics.pairwise import cosine_similarity\n",
    "from sklearn.neighbors import NearestNeighbors as nn\n",
    "from matplotlib import pylab\n",
    "from __future__ import division"
   ]
  },
  {
   "cell_type": "code",
   "execution_count": 3,
   "metadata": {},
   "outputs": [],
   "source": [
    "# DO NOT Modify the lines in this cell\n",
    "path = 'alice.txt'\n",
    "corpus = open(path).readlines()[0:700]\n",
    "\n",
    "corpus = [sentence for sentence in corpus if sentence.count(\" \") >= 2]\n",
    "\n",
    "tokenizer = Tokenizer(filters='!\"#$%&()*+,-./:;<=>?@[\\\\]^_`{|}~\\t\\n'+\"'\")\n",
    "tokenizer.fit_on_texts(corpus)\n",
    "corpus = tokenizer.texts_to_sequences(corpus)\n",
    "nb_samples = sum(len(s) for s in corpus)\n",
    "V = len(tokenizer.word_index) + 1\n",
    "\n",
    "# Is this something they need to change?\n",
    "dim = 100\n",
    "window_size = 2 #use this window size for Skipgram, CBOW, and the model with the additional hidden layer\n",
    "window_size_corpus = 4 #use this window size for the co-occurrence matrix"
   ]
  },
  {
   "cell_type": "markdown",
   "metadata": {},
   "source": [
    "## Question 1\n",
    "\n",
    "### Co-occurrence Matrix\n",
    "Use the provided code to load the \"Alice in Wonderland\" text document. \n",
    "1. Implement the word-word co-occurrence matrix for “Alice in Wonderland”\n",
    "2. Normalize the words such that every value lies within a range of 0 and 1\n",
    "3. Compute the cosine distance between the given words:\n",
    "    - Alice \n",
    "    - Dinah\n",
    "    - Rabbit\n",
    "4. List the 5 closest words to 'Alice'. Discuss the results.\n",
    "5. Discuss what the main drawbacks are of a term-term co-occurence matrix solutions?\n"
   ]
  },
  {
   "cell_type": "code",
   "execution_count": 24,
   "metadata": {},
   "outputs": [
    {
     "name": "stdout",
     "output_type": "stream",
     "text": [
      "[[1 2]\n",
      " [3 4]]\n",
      "3\n",
      "[[0.33333333 0.66666667]]\n",
      "int64\n",
      "[[1 2]]\n",
      "7\n",
      "[[0.42857143 0.57142857]]\n",
      "int64\n",
      "[[3 4]]\n"
     ]
    }
   ],
   "source": [
    "################################\n",
    "# helper snippet\n",
    "################################\n",
    "\n",
    "m = np.matrix([[1, 2], [3, 4]])\n",
    "print(m)\n",
    "(rows, columns) = m.shape\n",
    "for rowIdx in range(rows):\n",
    "    s = m[rowIdx]\n",
    "    total = s.sum()\n",
    "    print(s.sum())\n",
    "    print(np.divide(s, total))\n",
    "    print(s.dtype)\n",
    "    print(s.flatten())\n",
    "    \n",
    "    #for value in m[rowIdx, :]:\n",
    "    #    print(value)\n",
    "    #print(m[rowIdx, :])\n",
    "    \n",
    "\n"
   ]
  },
  {
   "cell_type": "code",
   "execution_count": 35,
   "metadata": {},
   "outputs": [
    {
     "name": "stdout",
     "output_type": "stream",
     "text": [
      "[797]\n",
      "[1090]\n",
      "[1093]\n",
      "[1094]\n",
      "[1095]\n",
      "[1096]\n",
      "[1097]\n",
      "{'duck': 374, 'begged': 1081, 'nearly': 871, 'advise': 752, 'have': 84, 'fear': 402, 'heap': 660, 'beasts': 709, 'drink': 338, 'met': 1087, 'choked': 1079, 'chorus': 565, 'pairs': 1182, 'simply': 1071, 'w': 1170, 'way': 45, 'longed': 688, 'leap': 921, 'politely': 999, 'then': 79, 'odd': 794, 'neatly': 854, 'key': 148, 'gave': 474, 'red': 715, 'shrill': 926, 'swim': 1156, 'growled': 1109, 'english': 228, 'hour': 1041, 'continued': 1020, 'nicely': 934, 'side': 441, 'these': 881, 'country': 643, 'shrinking': 517, 'claws': 856, 'jar': 401, 'stairs': 627, 'bed': 1139, 'hippopotamus': 906, 'i': 6, 'bathing': 891, 'hanging': 670, 'despair': 1054, 'conversation': 944, 'times': 359, 'remember': 219, 'sharply': 471, 'miles': 407, 'fur': 546, 'find': 150, 'australia': 645, 'playing': 761, 'getting': 138, 'dark': 305, 'harm': 907, 'various': 1140, 'sight': 328, 'nothing': 112, 'trying': 187, 'four': 214, 'boots': 789, 'child': 477, 'speech': 567, 'things': 93, 'hear': 296, 'made': 206, 'ashamed': 802, 'ii': 778, 'crossly': 1006, 'indeed': 190, 'found': 73, 'asked': 1050, 'piece': 1059, 'conversations': 589, 'seem': 316, 'fell': 209, 'book': 205, 'normans': 1019, 'sleepy': 384, 'right': 158, 'authority': 982, 'course': 204, 'else': 266, 'alone': 515, 'hall': 147, 'cherry': 728, 'short': 1065, 'sir': 500, 'ah': 503, 'condemn': 1096, 'ever': 119, 'shining': 847, 'escape': 876, 'fond': 478, 'dull': 774, 'toys': 864, 'tired': 244, 'shakespeare': 1046, 'hide': 1031, 'chapter': 242, 'carrier': 792, 'iv': 1147, 'go': 82, 'tart': 729, 'sits': 932, 'temper': 1120, 'wander': 689, 'voices': 1049, 'puzzling': 509, 'brown': 949, 'timid': 814, 'others': 1111, 'likely': 406, 'quiver': 922, 'shelves': 399, 'pardon': 288, 'led': 447, 'yourself': 494, 'fishes': 858, 'mentioned': 1143, 'wondering': 672, 'patience': 1124, 'means': 1007, 'far': 486, 'somebody': 307, 'legged': 673, 'offer': 1014, 'jaws': 861, 'she': 4, 'crowded': 289, 'eyes': 176, 'cats': 107, 'delight': 683, 'passage': 327, 'winter': 1035, 'fixed': 983, 'toast': 737, 'pattering': 496, 'geography': 836, 'sentence': 920, 'some': 177, 'cool': 692, 'added': 1084, 'burning': 602, 'size': 465, 'splashing': 903, 'capital': 284, 'maps': 614, 'he': 111, 'twenty': 833, 'foot': 490, 'completely': 1158, 'finding': 462, 'really': 272, 'fifth': 1100, 'paper': 700, 'carefully': 1134, 'am': 160, 'sorts': 508, 'seen': 208, 'sit': 540, 'sand': 894, 'canary': 1138, 'commotion': 959, 'cheered': 1066, 'herself': 41, 'conclusion': 887, 'conduct': 1016, 'pine': 731, 'is': 33, 'behind': 329, 'curiosity': 603, 'pet': 1129, 'mice': 325, 'either': 140, 'bring': 757, 'prosecute': 1090, 'downward': 638, 'stupid': 385, 'only': 122, 'falling': 396, 'bank': 381, 'known': 974, 'refused': 981, 'jumped': 663, 'knew': 451, 'was': 9, 'pressed': 1043, 'offended': 238, 'once': 98, 'cut': 718, 'yesterday': 819, 'older': 977, 'signify': 835, 'lost': 434, 'pale': 961, 'denial': 1091, 'sound': 641, 'please': 217, 'housemaid': 1165, 'atheling': 1013, 'answer': 326, 'rest': 1047, 'again': 54, 'kept': 281, 'being': 362, 'across': 395, 'sadly': 443, 'use': 152, 'earnestly': 658, 'eat': 134, 'earth': 410, 'insolence': 1018, 'clear': 914, 'able': 785, 'belongs': 952, 'seldom': 754, 'slowly': 303, 'duchess': 280, 'seaside': 885, 'nile': 850, 'afterwards': 597, 'saying': 183, 'grave': 1068, 'said': 16, 'age': 504, 'consultation': 972, 'dare': 1069, 'did': 99, 'five': 828, 'are': 106, 'high': 168, 'elegant': 1064, 'lazily': 931, 'reading': 588, 'history': 367, 'we': 239, 'saucer': 651, 'brother': 908, 'usual': 820, 'one': 48, 'calling': 1052, 'started': 394, 'curtain': 680, 't': 35, 'got': 118, 'kid': 231, 'addressing': 1126, 'close': 295, 'turkey': 734, 'hair': 505, 'dry': 164, 'strange': 844, 'thinking': 823, 'let': 105, 'hoarse': 843, 'back': 110, 'new': 420, 'golden': 188, 'opportunity': 412, 'ears': 436, 'sea': 523, 'solid': 674, 'speed': 878, 'number': 890, 'comfits': 566, 'animals': 545, 'hurried': 252, 'grow': 480, 'knowing': 979, 'natural': 391, 'knocking': 1172, 'larger': 448, 'ou': 917, 'struck': 800, 'hot': 249, 'adoption': 1026, 'many': 310, 'hope': 650, 'life': 356, 'burn': 717, 'sister': 380, 'daresay': 913, 'custard': 730, 'crocodile': 845, 'eaglet': 375, 'about': 40, 'lory': 201, 'farmer': 953, 'suit': 1136, 'glass': 222, 'curiouser': 484, 'simple': 712, 'shook': 1113, 'game': 759, 'leaves': 662, 'if': 32, 'beg': 195, 'table': 120, 'dinah': 87, 'play': 865, 'lamps': 669, 'upon': 142, 'pink': 595, 'think': 60, 'sensation': 1131, 'rats': 957, 'flavour': 727, 'night': 324, 'purring': 933, 'notion': 915, 'centre': 630, 'latitude': 416, 'largest': 780, 'enough': 275, 'field': 604, 'be': 20, 'creep': 768, 'young': 1122, 'cold': 984, 'immediate': 1025, 'bye': 781, 'considering': 382, 'bill': 1149, 'believe': 1029, 'twelve': 829, 'managed': 403, 'watch': 392, 'middle': 444, 'sorrowful': 958, 'argument': 975, 'holding': 482, 'sitting': 585, 'help': 499, 'pretending': 762, 'crown': 1015, 'possibly': 747, 'tears': 170, 'd': 198, 'hopeless': 801, 'even': 258, 'walking': 430, 'over': 100, 'crossed': 839, 'were': 65, 'put': 178, 'muttering': 498, 'flowers': 691, 'trouble': 389, 'esq': 796, 'throw': 950, 'cause': 364, 'death': 1097, 'anxiously': 276, 'few': 337, 'station': 899, 'except': 675, 'hurt': 433, 'catch': 425, 'his': 151, 'hand': 185, 'more': 123, 'angry': 534, 'loveliest': 687, 'hoping': 453, 'edgar': 1012, 'patted': 1080, 'wet': 547, 'turned': 220, 'of': 8, 'c': 1083, 'chin': 883, 'glad': 419, 'ago': 916, 'those': 271, 'won': 172, 'shape': 1038, 'schoolroom': 633, 'curly': 948, 'fanning': 818, 'directions': 795, 'pictures': 246, 'understand': 530, 'saw': 400, 'very': 27, 'legs': 750, 'heard': 230, 'throat': 1137, 'deep': 302, 'real': 1175, 'lose': 1119, 'such': 74, 'fall': 257, 'dripping': 969, 'us': 373, 'whisper': 1085, 'tidy': 1179, 'wrapping': 1133, 'low': 186, 'moment': 131, 'through': 144, 'dreamy': 654, 'smiling': 860, 'judge': 573, 'ignorant': 648, 'generally': 348, 'ones': 1078, 'every': 330, 'says': 541, 'end': 309, 'altogether': 468, 'important': 986, 'own': 247, 'wish': 145, 'curtseying': 647, 'race': 202, 'fury': 570, 'archbishop': 1004, 'impatiently': 1114, 'inquisitively': 911, 'nearer': 904, 'used': 510, 'driest': 987, 'row': 438, 'stopping': 611, 'whiskers': 437, 'dressed': 810, 'overhead': 664, 'see': 56, 'vulgar': 943, 'while': 192, 'confusion': 1075, 'planning': 791, 'sat': 226, 'home': 308, 'slippery': 751, 'happen': 304, 'common': 775, 'tell': 146, 'lock': 682, 'plenty': 612, 'adjourn': 1024, 'moderate': 1017, 'histories': 705, 'too': 155, 'old': 292, 'advisable': 557, 'repeat': 841, 'executed': 1150, 'better': 548, 'tongue': 1121, 'label': 701, 'whether': 386, 'daughter': 1118, 'mary': 580, 'shore': 543, 'thimble': 294, 'finished': 344, 'presented': 1062, 'grin': 853, 'frightened': 518, 'eaten': 707, 'feel': 383, 'happened': 336, 'down': 26, 'fancying': 1176, 'alice': 11, 'past': 625, 'head': 189, 'picking': 593, 'lovely': 740, 'since': 1155, 'liked': 563, 'nine': 492, 'm': 77, 'mean': 1106, 'hearthrug': 797, 'naturedly': 1153, 'care': 769, 'for': 18, 'thousand': 631, 'half': 149, 'happens': 481, 'paws': 536, 'caucus': 376, 'pour': 848, 'curious': 345, 'time': 66, 'girl': 422, 'much': 91, 'severely': 475, 'earls': 554, 'off': 80, 'roof': 439, 'soft': 938, 'undo': 1104, 'nasty': 942, 'waiting': 452, 'subject': 539, 'skurried': 816, 'burst': 869, 'showing': 634, 'longitude': 417, 'telescopes': 698, 'what': 44, 'bent': 1030, 'cheated': 758, 'solemn': 1073, 'occurred': 598, 'left': 351, 'brightened': 739, 'railway': 525, 'morcar': 553, 'plainly': 748, 'almost': 342, 'followed': 755, 'ten': 738, 'miss': 424, 'nor': 596, 'desperate': 813, 'all': 22, 'them': 61, 'make': 212, 'sounded': 842, 'doesn': 173, 'rome': 512, 'the': 1, 'written': 649, 'read': 704, 'pleaded': 1107, 'where': 1151, 'presently': 637, 'hadn': 526, 'northumbria': 556, 'nice': 215, 'house': 156, 'must': 69, 'usually': 459, 'stay': 361, 'handed': 1057, 'shrink': 741, 'ask': 263, 'words': 159, 'reply': 1110, 'funny': 418, 'machines': 892, 'lest': 1174, 'friends': 713, 'salt': 522, 'noise': 1074, 'brave': 628, 'besides': 827, 'rate': 270, 'washing': 937, 'existence': 877, 'cheerfully': 852, 'pop': 606, 'by': 71, 'meeting': 1023, 'measure': 870, 'dogs': 370, 'tiny': 445, 'pointed': 1163, 'christmas': 790, 'thing': 89, 'true': 629, 'wrong': 838, 'easy': 1040, 'poor': 109, 'roast': 733, 'suddenly': 175, 'somewhere': 409, 'certainly': 456, 'walrus': 905, 'soothing': 928, 'story': 575, 'digging': 893, 'can': 97, 'everybody': 1048, 'which': 85, 'clinging': 968, 'seven': 832, 'shall': 92, 'notice': 1010, 'useful': 542, 'always': 369, 'among': 261, 'currants': 766, 'insult': 1105, 'ann': 581, 'passed': 617, 'three': 331, 'chatte': 919, 'world': 301, 'quiet': 930, 'walk': 317, 'chain': 592, 'ventured': 725, 'hardly': 764, 'took': 139, 'your': 88, 'sure': 136, 'solemnly': 560, 'minutes': 467, 'brass': 1168, 'dozing': 656, 'bad': 520, 'hated': 941, 'further': 742, 'why': 132, 'because': 711, 'pegs': 616, 'might': 161, 'everything': 282, 'but': 19, 're': 322, 'run': 1160, 'pope': 990, 'neck': 699, 'candle': 347, 'you': 12, 'lesson': 533, 'distance': 315, 'forgotten': 460, 'narrow': 875, 'printed': 702, 'into': 72, 'wasting': 1093, 'hard': 501, 'good': 157, 'corner': 435, 'goes': 825, 'empty': 622, 'that': 13, 'begin': 696, 'advice': 753, 'ate': 770, 'rising': 1021, 've': 143, 'an': 133, 'window': 1180, 'work': 777, 'till': 868, 'name': 319, 'drowned': 902, 'spoke': 421, 'fire': 935, 'seems': 360, 'beds': 690, 'punished': 901, 'ferrets': 578, 'wherever': 888, 'returning': 808, 'buttered': 736, 'door': 95, 'breath': 1094, 'next': 210, 'seemed': 113, 'our': 197, 'than': 223, 'splash': 882, 'joined': 1112, 'allow': 978, 'shedding': 803, 's': 36, 'cry': 493, 'guessed': 1152, 'flashed': 601, 'poker': 716, 'turning': 379, 'opening': 779, 'puzzle': 822, 'tail': 285, 'dear': 64, 'waited': 466, 'my': 70, 'began': 75, 'dipped': 610, 'me': 42, 'frowning': 998, 'suppose': 527, 'caused': 568, 'however': 135, 'tea': 653, 'noticed': 306, 'wind': 666, 'engraved': 1171, 'william': 287, 'any': 121, 'deal': 357, 'cat': 267, 'rules': 454, 'placed': 1039, 'running': 562, 'bird': 1130, 'peeped': 587, 'sad': 569, 'multiplication': 834, 'guess': 872, 'truth': 659, 'set': 776, 'hastily': 279, 'filled': 397, 'came': 163, 'waistcoat': 393, 'went': 52, 'rather': 181, 'sudden': 363, 'open': 678, 'fitted': 684, 'paused': 1033, 'patriotic': 1003, 'accustomed': 993, 'feeling': 464, 'late': 298, 'her': 14, 'hurriedly': 1011, 'party': 240, 'when': 46, 'softly': 960, 'marked': 224, 'white': 128, 'exactly': 1058, 'directly': 1177, 'explain': 561, 'children': 274, 'matter': 428, 'curtsey': 646, 'live': 862, 'animal': 924, 'dog': 945, 'speaking': 529, 'crying': 470, 'soon': 76, 'without': 174, 'try': 194, 'vanished': 1157, 'practice': 635, 'second': 679, 'get': 67, 'doing': 1159, 'large': 153, 'mixed': 726, 'trotting': 497, 'panting': 1042, 'do': 49, 'another': 254, 'luckily': 1056, 'swam': 236, 'edwin': 552, 'climb': 749, 'how': 38, 'him': 293, 'begun': 429, 'antipathies': 639, 'here': 68, 'flame': 744, 'daisy': 591, 'canterbury': 1005, 'never': 115, 'hands': 514, 'cunning': 1095, 'sort': 179, 'll': 37, 'usurpation': 994, 'hedge': 607, 'deeply': 719, 'hoped': 1181, 'poison': 340, 'called': 199, 'killing': 624, 'fright': 923, 'rat': 685, 'up': 43, 'gently': 859, 'reaching': 806, 'no': 50, 'pair': 229, 'couldn': 655, 'drop': 623, 'ada': 824, 'hate': 544, 'inclined': 1034, 'a': 5, 'different': 821, 'trial': 571, 'draggled': 966, 'lessons': 313, 'would': 59, 'iii': 964, 'latin': 909, 'yet': 929, 'bend': 1101, 'nurse': 537, 'say': 83, 'it': 7, 'learnt': 632, 'and': 2, 'humbly': 1099, 'eye': 353, 'poky': 863, 'quite': 78, 'walked': 442, 'hung': 615, 'assembled': 965, 'itself': 297, 'thirteen': 831, 'anything': 213, 'knelt': 686, 'word': 642, 'wink': 912, 'oyster': 1125, 'making': 387, 'rabbit': 63, 'looking': 203, 'nervous': 743, 'zealand': 644, 'jury': 572, 'proceed': 1000, 'feet': 101, 'knife': 720, 'ma': 320, 'bowed': 1072, 'position': 1045, 'twice': 586, 'top': 405, 'orange': 619, 'eyed': 946, 'ran': 207, 'to': 3, 'stigand': 1002, 'listening': 640, 'eagerly': 371, 'favoured': 989, 'passionate': 927, 'footsteps': 1146, 'daisies': 594, 'positively': 980, 'doth': 513, 'heads': 318, 'upstairs': 1173, 'pretend': 763, 'both': 1088, 'tale': 377, 'taste': 461, 'near': 259, 'same': 193, 'pointing': 1051, 'until': 805, 'first': 104, 'dried': 807, 'has': 564, 'show': 535, 'looked': 129, 'who': 96, 'mabel': 283, 'leaders': 992, 'fan': 126, 'thought': 53, 'disagree': 722, 'shutting': 455, 'love': 799, 'with': 23, 'uncomfortable': 971, 'tried': 211, 'waters': 849, 'growing': 483, 'beautifully': 457, 'moved': 1142, 'trembling': 368, 'case': 524, 'finds': 1166, 'afraid': 268, 'easily': 1108, 'felt': 184, 'shoulders': 695, 'small': 167, 'forgot': 485, 'whole': 290, 'spades': 896, 'lonely': 1144, 'promised': 1082, 'on': 21, 'move': 1022, 'bats': 269, 'stockings': 783, 'wanted': 551, 'inches': 333, 'frog': 1008, 'sending': 489, 'welcome': 857, 'energetic': 1027, 'several': 312, 'want': 788, 'familiarly': 973, 'particular': 1127, 'could': 58, 'sometimes': 427, 'talking': 182, 'sends': 1148, 'labelled': 618, 'grand': 636, 'wise': 703, 'worth': 388, 'smile': 1032, 'oh': 51, 'manage': 323, 'ought': 299, 'pity': 1116, 'wonder': 103, 'improve': 846, 'wept': 900, 'slipped': 521, 'toffee': 735, 'sticks': 661, 'spirited': 1145, 'six': 830, 'remarking': 1135, 'quick': 1161, 'under': 300, 'tone': 196, 'opened': 446, 'shoes': 782, 'idea': 260, 'call': 1086, 'grammar': 910, 'passion': 962, 'marmalade': 620, 'along': 334, 'alas': 332, 'minute': 473, 'two': 227, 'fancy': 321, 'question': 162, 'scale': 851, 'nobody': 577, 'doorway': 694, 'beginning': 584, 'creatures': 963, 'lying': 354, 'shiver': 997, 'fact': 463, 'rapidly': 873, 'ringlets': 506, 'knot': 1103, 'hurrying': 665, 'gloves': 125, 'unpleasant': 710, 'coming': 255, 'out': 31, 'their': 180, 'spread': 855, 'other': 221, 'nonsense': 491, 'aloud': 408, 'milk': 652, 'doors': 440, 'long': 94, 'learn': 866, 'quicker': 1115, 'little': 24, 'had': 17, 'ready': 232, 'direction': 1162, 'bit': 432, 'feathers': 967, 'magpie': 1132, 'hundred': 954, 'at': 34, 'sides': 613, 'bat': 426, 'look': 154, 'declared': 1001, 'fifteen': 681, 'surprised': 277, 'fetch': 372, 'cupboards': 398, 'having': 245, 'asking': 423, 'absurd': 1067, 'ugh': 996, 'kind': 787, 'ahem': 985, 'laugh': 1070, 'bristling': 939, 'not': 29, 'in': 10, 'or': 57, 'sulky': 976, 'neat': 1167, 'himself': 811, 'know': 62, 'face': 346, 'est': 918, 'shan': 784, 'longer': 667, 'well': 127, 'ordering': 1178, 'savage': 812, 'venture': 1128, 'stop': 495, 'perhaps': 265, 'nowhere': 1154, 'hole': 243, 'later': 724, 'family': 940, 'morning': 502, 'smaller': 767, 'remained': 771, 'knows': 826, 'certain': 343, 'o': 366, 'wild': 708, 'cake': 355, 'garden': 169, 'theirs': 1077, 'houses': 898, 'burnt': 706, 'conqueror': 532, 'they': 39, 'remembered': 349, 'this': 28, 'pocket': 251, 'dodo': 90, 'snappishly': 1123, 'locked': 671, 'as': 15, 'expecting': 773, 'straight': 608, 'hurry': 339, 'terrier': 947, 'presents': 793, 'cried': 124, 'london': 837, 'mine': 507, 'attending': 1098, 'myself': 786, 'meet': 558, 'last': 291, 'catching': 538, 'didn': 262, 'don': 171, 'lodging': 897, 'kills': 956, 'though': 411, 'pool': 137, 'cur': 1092, 'round': 108, 'going': 116, 'meaning': 1028, 'something': 286, 'coast': 889, 'dream': 657, 'should': 218, 'crab': 576, 'ring': 549, 'licking': 936, 'like': 47, 'eats': 772, 'blown': 745, 'fender': 798, 'mind': 248, 'worse': 879, 'air': 264, 'from': 256, 'dinner': 951, 'take': 253, 'putting': 867, 'fortunately': 605, 'law': 1089, 'taught': 714, 'against': 476, 'come': 86, 'violently': 815, 'somehow': 884, 'decided': 746, 'lit': 668, 'leave': 472, 'people': 216, 'will': 191, 'replied': 378, 'acceptance': 1063, 'submitted': 991, 'lap': 840, 'birds': 200, 'before': 130, 'gallons': 804, 'gravely': 1061, 'listen': 414, 'plate': 1169, 'bottle': 273, 'hunting': 579, 'disappointment': 621, 'lately': 697, 'its': 114, 'changed': 235, 'away': 165, 'tumbling': 626, 'water': 365, 'whose': 988, 'circle': 1036, 'worm': 1009, 'prize': 1060, 'feelings': 925, 'locks': 677, 'melancholy': 559, 'pleasure': 590, 'wouldn': 404, 'cross': 970, 'remarkable': 390, 'general': 886, 'finger': 341, 'swimming': 528, 'talk': 237, 'fallen': 311, 'scolded': 756, 'give': 488, 'knowledge': 413, 'dropped': 358, 'conquest': 995, 'respectable': 765, 'telescope': 450, 'hold': 458, 'there': 55, 'makes': 479, 'darkness': 817, 'fountains': 693, 'paris': 511, 'box': 350, 'tunnel': 609, 'dears': 487, 'thump': 431, 'sighed': 1117, 'been': 166, 'now': 81, 'person': 352, 'prizes': 241, 'silence': 550, 'exact': 1037, 'change': 519, 'messages': 582, 'actually': 600, 'great': 117, 'done': 516, 'room': 583, 'confused': 1053, 'shut': 449, 'pounds': 955, 'wondered': 599, 'speak': 278, 'after': 102, 'french': 531, 'just': 141, 'sooner': 723, 'complained': 1076, 'day': 250, 'avoid': 874, 'angrily': 1102, 'pulled': 1055, 'still': 314, 'bleeds': 721, 'splendidly': 809, 'best': 225, 'reach': 469, 'pretexts': 1141, 'finish': 574, 'voice': 233, 'forehead': 1044, 'apple': 732, 'yes': 415, 'wooden': 895, 'mistake': 1164, 'mercia': 555, 'so': 30, 'mouse': 25, 'croquet': 760, 'belong': 676, 'queer': 234, 'declare': 880, 'bright': 335}\n"
     ]
    }
   ],
   "source": [
    "############################\n",
    "# helper snippet \n",
    "############################\n",
    "nan_indexes = [797, 1090, 1093, 1094, 1095, 1096, 1097]\n",
    "for sequence in corpus:\n",
    "    for nan_index in nan_indexes:\n",
    "        if nan_index in sequence:\n",
    "            print(sequence)\n",
    "            break\n",
    "    \n",
    "print(tokenizer.word_index)"
   ]
  },
  {
   "cell_type": "code",
   "execution_count": 40,
   "metadata": {},
   "outputs": [
    {
     "name": "stdout",
     "output_type": "stream",
     "text": [
      "[242, 6, 26, 1, 63, 243]\n"
     ]
    }
   ],
   "source": [
    "#create co-occurrence matrix\n",
    "#print(corpus[0])\n",
    "coMatrix = np.zeros((V, V))\n",
    "for sequence in corpus:\n",
    "    for idx, termId in enumerate(sequence):\n",
    "        sl = len(sequence)\n",
    "        ## select left window\n",
    "        leftw = sequence[max(idx - window_size_corpus, 0): idx]\n",
    "        ## select right window\n",
    "        rightw = sequence[idx + 1: min(idx + window_size_corpus + 1, sl)]\n",
    "        # update co-occurrence matrix\n",
    "        neighboors = leftw + rightw\n",
    "        for neighbor in neighboors:\n",
    "            coMatrix[termId, neighbor] += 1\n",
    "        \n",
    "\n",
    "# matrix normalization\n",
    "(rows, columns) = coMatrix.shape\n",
    "for rowIdx in range(rows):\n",
    "    # ignore first row with 0 entries everywhere\n",
    "    if (rowIdx > 0):\n",
    "        row = coMatrix[rowIdx]\n",
    "        total = row.sum()\n",
    "        # avoid division by zero in words that have no neighboors\n",
    "        if total > 0:\n",
    "            coMatrix[rowIdx] = np.divide(row, total)\n"
   ]
  },
  {
   "cell_type": "code",
   "execution_count": 28,
   "metadata": {},
   "outputs": [
    {
     "name": "stdout",
     "output_type": "stream",
     "text": [
      "[[0.         0.         0.         ... 0.         0.         0.        ]\n",
      " [0.         0.02363823 0.0364851  ... 0.00051387 0.         0.        ]\n",
      " [0.         0.04752343 0.01204819 ... 0.00066934 0.00066934 0.00066934]\n",
      " ...\n",
      " [0.         0.16666667 0.16666667 ... 0.         0.         0.        ]\n",
      " [0.         0.         0.125      ... 0.         0.         0.        ]\n",
      " [0.         0.         0.25       ... 0.         0.         0.        ]]\n"
     ]
    }
   ],
   "source": [
    "print(coMatrix)"
   ]
  },
  {
   "cell_type": "code",
   "execution_count": 48,
   "metadata": {},
   "outputs": [
    {
     "name": "stdout",
     "output_type": "stream",
     "text": [
      "[[0.         0.02646503 0.03402647 ... 0.         0.         0.        ]]\n",
      "[[0.         0.03448276 0.03448276 ... 0.         0.         0.        ]]\n",
      "[[0.         0.13559322 0.00847458 ... 0.         0.         0.        ]]\n",
      "Cosine similarity between Alice and Dinah: [[0.39360011]]\n",
      "Cosine similarity between Alice and Rabbit: [[0.47890931]]\n",
      "Cosine similarity between Dinah and Rabbit: [[0.29862324]]\n"
     ]
    }
   ],
   "source": [
    "#find cosine similarity to Alice, Dinah and Rabbit\n",
    "\n",
    "#find the word vectors for Alice, Dinah, and Rabbit\n",
    "aliceIdx = tokenizer.word_index['Alice'.lower()]\n",
    "dinahIdx = tokenizer.word_index['Dinah'.lower()]\n",
    "rabbitIdx = tokenizer.word_index['Rabbit'.lower()]\n",
    "\n",
    "aliceVector = coMatrix[aliceIdx].reshape(1, -1)\n",
    "dinahVector = coMatrix[dinahIdx].reshape(1, -1)\n",
    "rabbitVector = coMatrix[rabbitIdx].reshape(1, -1)\n",
    "print(aliceVector)\n",
    "print(dinahVector)\n",
    "print(rabbitVector)\n",
    "\n",
    "cosAD = cosine_similarity(aliceVector, dinahVector)\n",
    "print(\"Cosine similarity between Alice and Dinah: {}\".format(cosAD))\n",
    "cosAR = cosine_similarity(aliceVector, rabbitVector)\n",
    "print(\"Cosine similarity between Alice and Rabbit: {}\".format(cosAR))\n",
    "cosDR = cosine_similarity(dinahVector, rabbitVector)\n",
    "print(\"Cosine similarity between Dinah and Rabbit: {}\".format(cosDR))\n"
   ]
  },
  {
   "cell_type": "code",
   "execution_count": 49,
   "metadata": {},
   "outputs": [
    {
     "name": "stdout",
     "output_type": "stream",
     "text": [
      "[[0.         0.18693993 0.22482059 0.25996004 0.26423806 0.2653115 ]]\n",
      "[[11  4  7  1  5 41]]\n"
     ]
    }
   ],
   "source": [
    "#find the closest words to Alice\n",
    "# create an array containing the cosine similarity values for alice and the rest\n",
    "nbrs = nn(n_neighbors=6, algorithm='brute', metric='cosine').fit(coMatrix)\n",
    "distances, indices = nbrs.kneighbors(aliceVector)\n",
    "print(distances)\n",
    "print(indices)\n"
   ]
  },
  {
   "cell_type": "code",
   "execution_count": null,
   "metadata": {},
   "outputs": [],
   "source": [
    "# validate the computed distances and the indices"
   ]
  },
  {
   "cell_type": "markdown",
   "metadata": {},
   "source": [
    "From the results we observe the six closest words to 'Alice'.\n",
    "\n",
    "Word with index 11 corresponds to 'Alice' itself. \n",
    "\n",
    "The words for the remaining indexes are:\n",
    "* 4: she\n",
    "* 7: it\n",
    "* 1: the\n",
    "* 5: a\n",
    "* 41: herself"
   ]
  },
  {
   "cell_type": "markdown",
   "metadata": {},
   "source": [
    "Discussion of the drawbacks:"
   ]
  },
  {
   "cell_type": "code",
   "execution_count": null,
   "metadata": {
    "collapsed": true
   },
   "outputs": [],
   "source": [
    "#Save your all the vector representations of your word embeddings in this way\n",
    "#Change when necessary the sizes of the vocabulary/embedding dimension\n",
    "\n",
    "f = open('vectors_co_occurrence.txt',\"w\")\n",
    "f.write(\" \".join([str(V-1),str(V-1)]))\n",
    "f.write(\"\\n\")\n",
    "\n",
    "#vectors = your word co-occurrence matrix\n",
    "vectors = []\n",
    "for word, i in tokenizer.word_index.items():    \n",
    "    f.write(word)\n",
    "    f.write(\" \")\n",
    "    f.write(\" \".join(map(str, list(vectors[i,:]))))\n",
    "    f.write(\"\\n\")\n",
    "f.close()"
   ]
  },
  {
   "cell_type": "code",
   "execution_count": null,
   "metadata": {
    "collapsed": true
   },
   "outputs": [],
   "source": [
    "#reopen your file as follows\n",
    "\n",
    "co_occurrence = KeyedVectors.load_word2vec_format('./vectors_co_occurrence.txt', binary=False)"
   ]
  },
  {
   "cell_type": "markdown",
   "metadata": {},
   "source": [
    "## Question 2\n",
    "\n",
    "### Word embeddings\n",
    "Build embeddings with a keras implementation where the embedding vector is of length 50, 150 and 300. Use the Alice in Wonderland text book for training.\n",
    "1. Using the CBOW model\n",
    "2. Using Skipgram model\n",
    "3. Add extra hidden dense layer to CBow and Skipgram implementations. Choose an activation function for that layer and justify your answer.\n",
    "4. Analyze the four different word embeddings\n",
    "    - Implement your own function to perform the analogy task with. Do not use existing libraries for this task such as Gensim. Your function should be able to answer whether an anaology as in the example given in the pdf-file is true.\n",
    "    - Compare the performance on the analogy task between the word embeddings that you have trained in 2.1, 2.2 and 2.3.  \n",
    "    - Visualize your results and interpret your results\n",
    "5. Use the word co-occurence matrix from Question 1. Compare the performance on the analogy task with the performance of your trained word embeddings.  \n",
    "6. Discuss:\n",
    "    - What are the main advantages of CBOW and Skipgram?\n",
    "    - What is the advantage of negative sampling?\n",
    "    - What are the main drawbacks of CBOW and Skipgram?\n",
    "7. Load pre-trained embeddings on large corpuses (see the pdf file). You only have to consider the word embeddings with an embedding size of 300\n",
    "    - Compare performance on the analogy task with your own trained embeddings from \"Alice in Wonderland\". You can limit yourself to the vocabulary of Alice in Wonderland. Visualize the pre-trained word embeddings and compare these with the results of your own trained word embeddings. \n"
   ]
  },
  {
   "cell_type": "code",
   "execution_count": 3,
   "metadata": {
    "collapsed": true
   },
   "outputs": [],
   "source": [
    "#prepare data for cbow\n"
   ]
  },
  {
   "cell_type": "code",
   "execution_count": 242,
   "metadata": {
    "collapsed": true
   },
   "outputs": [],
   "source": [
    "#create CBOW model\n"
   ]
  },
  {
   "cell_type": "code",
   "execution_count": 243,
   "metadata": {
    "collapsed": true
   },
   "outputs": [],
   "source": [
    "#define loss function\n"
   ]
  },
  {
   "cell_type": "code",
   "execution_count": 1,
   "metadata": {},
   "outputs": [],
   "source": [
    "#train model\n"
   ]
  },
  {
   "cell_type": "code",
   "execution_count": null,
   "metadata": {
    "collapsed": true
   },
   "outputs": [],
   "source": [
    "#prepare data for Skipgram\n"
   ]
  },
  {
   "cell_type": "code",
   "execution_count": null,
   "metadata": {
    "collapsed": true
   },
   "outputs": [],
   "source": [
    "#create Skipgram model\n"
   ]
  },
  {
   "cell_type": "code",
   "execution_count": null,
   "metadata": {
    "collapsed": true
   },
   "outputs": [],
   "source": [
    "#define loss function for Skipgram\n"
   ]
  },
  {
   "cell_type": "code",
   "execution_count": null,
   "metadata": {
    "collapsed": true
   },
   "outputs": [],
   "source": [
    "#train Skipgram model\n"
   ]
  },
  {
   "cell_type": "code",
   "execution_count": null,
   "metadata": {
    "collapsed": true
   },
   "outputs": [],
   "source": [
    "#create CBOW model with additional dense layer\n"
   ]
  },
  {
   "cell_type": "code",
   "execution_count": null,
   "metadata": {
    "collapsed": true
   },
   "outputs": [],
   "source": [
    "#define loss function for CBOW + dense\n"
   ]
  },
  {
   "cell_type": "code",
   "execution_count": null,
   "metadata": {
    "collapsed": true
   },
   "outputs": [],
   "source": [
    "#train model for CBOW + dense\n"
   ]
  },
  {
   "cell_type": "code",
   "execution_count": null,
   "metadata": {
    "collapsed": true
   },
   "outputs": [],
   "source": [
    "#create Skipgram with additional dense layer\n"
   ]
  },
  {
   "cell_type": "code",
   "execution_count": null,
   "metadata": {
    "collapsed": true
   },
   "outputs": [],
   "source": [
    "#define loss function for Skipgram + dense\n"
   ]
  },
  {
   "cell_type": "code",
   "execution_count": null,
   "metadata": {
    "collapsed": true
   },
   "outputs": [],
   "source": [
    "#train model for Skipgram + dense\n"
   ]
  },
  {
   "cell_type": "code",
   "execution_count": null,
   "metadata": {
    "collapsed": true
   },
   "outputs": [],
   "source": [
    "#Implement your own analogy function\n"
   ]
  },
  {
   "cell_type": "markdown",
   "metadata": {},
   "source": [
    "Comparison performance:"
   ]
  },
  {
   "cell_type": "code",
   "execution_count": null,
   "metadata": {
    "collapsed": true
   },
   "outputs": [],
   "source": [
    "#Visualization results trained word embeddings\n"
   ]
  },
  {
   "cell_type": "markdown",
   "metadata": {},
   "source": [
    "Interpretation results of the visualization"
   ]
  },
  {
   "cell_type": "markdown",
   "metadata": {},
   "source": [
    "Compare the results of the trained word embeddings with the word-word co-occurrence matrix"
   ]
  },
  {
   "cell_type": "markdown",
   "metadata": {},
   "source": [
    "Discussion of the advantages of CBOW and Skipgram, the advantages of negative sampling and drawbacks of CBOW and Skipgram"
   ]
  },
  {
   "cell_type": "code",
   "execution_count": null,
   "metadata": {
    "collapsed": true
   },
   "outputs": [],
   "source": [
    "#load pretrained word embeddings of word2vec\n",
    "\n",
    "path_word2vec = \"your path /GoogleNews-vectors-negative300.bin\"\n",
    "\n",
    "word2vec = KeyedVectors.load_word2vec_format(path, binary=True)"
   ]
  },
  {
   "cell_type": "code",
   "execution_count": null,
   "metadata": {
    "collapsed": true
   },
   "outputs": [],
   "source": [
    "#load pretraind word embeddings of Glove\n",
    "\n",
    "path = \"your path /glove.6B/glove.6B.300d_converted.txt\"\n",
    "\n",
    "#convert GloVe into word2vec format\n",
    "gensim.scripts.glove2word2vec.get_glove_info(path)\n",
    "gensim.scripts.glove2word2vec.glove2word2vec(path, \"glove_converted.txt\")\n",
    "\n",
    "glove = KeyedVectors.load_word2vec_format(path, binary=False)"
   ]
  },
  {
   "cell_type": "code",
   "execution_count": null,
   "metadata": {
    "collapsed": true
   },
   "outputs": [],
   "source": [
    "#Visualize the pre-trained word embeddings"
   ]
  },
  {
   "cell_type": "markdown",
   "metadata": {},
   "source": [
    "Comparison performance with your own trained word embeddings"
   ]
  },
  {
   "cell_type": "code",
   "execution_count": null,
   "metadata": {
    "collapsed": true
   },
   "outputs": [],
   "source": []
  }
 ],
 "metadata": {
  "kernelspec": {
   "display_name": "Python 3",
   "language": "python",
   "name": "python3"
  },
  "language_info": {
   "codemirror_mode": {
    "name": "ipython",
    "version": 3
   },
   "file_extension": ".py",
   "mimetype": "text/x-python",
   "name": "python",
   "nbconvert_exporter": "python",
   "pygments_lexer": "ipython3",
   "version": "3.5.2"
  }
 },
 "nbformat": 4,
 "nbformat_minor": 2
}
