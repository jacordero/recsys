{
 "cells": [
  {
   "cell_type": "markdown",
   "metadata": {},
   "source": [
    "# Assignment 3.2"
   ]
  },
  {
   "cell_type": "markdown",
   "metadata": {},
   "source": [
    "# Sequence classification model"
   ]
  },
  {
   "cell_type": "code",
   "execution_count": 1,
   "metadata": {},
   "outputs": [],
   "source": [
    "from __future__ import print_function"
   ]
  },
  {
   "cell_type": "markdown",
   "metadata": {},
   "source": [
    "## 1. Preprocess data"
   ]
  },
  {
   "cell_type": "markdown",
   "metadata": {},
   "source": [
    "#### Tasks:\n",
    "\n",
    "* Create word vocabulary index (use 10.000 most frequent words)\n",
    "* Preprocess training and validation set for model input. Use vocabulary index as lookup dictionary to transform raw text into integer sequences. You may use code from Practical 5."
   ]
  },
  {
   "cell_type": "code",
   "execution_count": 2,
   "metadata": {},
   "outputs": [],
   "source": [
    "import os\n",
    "import sys\n",
    "import random\n",
    "import numpy as np\n",
    "import pandas as pd\n",
    "import re\n",
    "import nltk\n",
    "import matplotlib.pyplot as plt"
   ]
  },
  {
   "cell_type": "code",
   "execution_count": 3,
   "metadata": {},
   "outputs": [],
   "source": [
    "DATA_PATH = \"data_part2\"\n",
    "EMBEDDINGS_PATH = \"embeddings_part2\"\n",
    "MODEL_PATH = \"models_part2\"\n",
    "VALID_DATA_SIZE = 600\n",
    "MAX_REVIEW_LENGTH = 600"
   ]
  },
  {
   "cell_type": "code",
   "execution_count": 4,
   "metadata": {},
   "outputs": [],
   "source": [
    "# function to clean raw text data\n",
    "\n",
    "def striphtml(html):\n",
    "    p = re.compile(r'<.*?>')\n",
    "    return p.sub('', html)\n",
    "\n",
    "def clean(s):\n",
    "    return re.sub(r'[^\\x00-\\x7f]', r'', s)"
   ]
  },
  {
   "cell_type": "code",
   "execution_count": 5,
   "metadata": {},
   "outputs": [],
   "source": [
    "complete_train_data = pd.read_csv(os.path.join(DATA_PATH,\"trainingData.tsv\"), header=0, delimiter=\"\\t\")"
   ]
  },
  {
   "cell_type": "code",
   "execution_count": 6,
   "metadata": {},
   "outputs": [],
   "source": [
    "complete_valid_data = pd.read_csv(os.path.join(DATA_PATH,\"validationData.tsv\"), header=0, delimiter=\"\\t\")"
   ]
  },
  {
   "cell_type": "code",
   "execution_count": 7,
   "metadata": {},
   "outputs": [
    {
     "name": "stdout",
     "output_type": "stream",
     "text": [
      "<class 'pandas.core.frame.DataFrame'>\n",
      "(25000, 3)\n",
      "(25000, 2)\n"
     ]
    }
   ],
   "source": [
    "print(type(complete_valid_data))\n",
    "print(complete_train_data.shape)\n",
    "print(complete_valid_data.shape)\n"
   ]
  },
  {
   "cell_type": "code",
   "execution_count": 8,
   "metadata": {},
   "outputs": [
    {
     "name": "stdout",
     "output_type": "stream",
     "text": [
      "20000\n",
      "5000\n",
      "5000\n",
      "5000\n"
     ]
    }
   ],
   "source": [
    "## Maybe need to change this values for randomized versions\n",
    "#train_data = complete_train_data[].sample(frac=0.8)\n",
    "#valid_data = complete_valid_data.sample(frac=0.2)\n",
    "train_data = complete_train_data[:20000]\n",
    "valid_data = complete_valid_data[:5000]\n",
    "unseen_valid_data = complete_valid_data[5000:10000]\n",
    "test_data = complete_valid_data[10000:15000]\n",
    "print(len(train_data))\n",
    "print(len(valid_data))\n",
    "print(len(unseen_valid_data))\n",
    "print(len(test_data))"
   ]
  },
  {
   "cell_type": "markdown",
   "metadata": {},
   "source": [
    "## Clean training, validation, unseen validation, and test sets"
   ]
  },
  {
   "cell_type": "code",
   "execution_count": 9,
   "metadata": {},
   "outputs": [],
   "source": [
    "\n",
    "train_docs = []\n",
    "train_labels = []\n",
    "for cont, sentiment in zip(train_data.review, train_data.sentiment):\n",
    "    \n",
    "    doc = clean(striphtml(cont))\n",
    "    doc = doc.lower() \n",
    "    train_docs.append(doc)\n",
    "    train_labels.append(sentiment)\n",
    "    \n",
    "# this  will create a cleaned version of validation set\n",
    "# we also need to extract labels from attribute 'id'\n",
    "\n",
    "valid_docs =[]\n",
    "valid_labels = []\n",
    "i=0\n",
    "for docid,cont in zip(valid_data.id, valid_data.review):\n",
    "    \n",
    "    id_label = docid.split('_')\n",
    "    # if rating >= 7, then assign 1 (positive sentiment) as label\n",
    "    if(int(id_label[1]) >= 7):\n",
    "        valid_labels.append(1)\n",
    "    # else, assign 0 (negative sentiment) as label\n",
    "    else:\n",
    "        valid_labels.append(0)         \n",
    "    doc = clean(striphtml(cont))\n",
    "    doc = doc.lower() \n",
    "    valid_docs.append(doc)\n",
    "    \n",
    "unseen_valid_docs = []\n",
    "unseen_valid_labels = []\n",
    "i = 0\n",
    "for docid,cont in zip(unseen_valid_data.id, unseen_valid_data.review):\n",
    "    \n",
    "    id_label = docid.split('_')\n",
    "    # if rating >= 7, then assign 1 (positive sentiment) as label\n",
    "    if(int(id_label[1]) >= 7):\n",
    "        unseen_valid_labels.append(1)\n",
    "    # else, assign 0 (negative sentiment) as label\n",
    "    else:\n",
    "        unseen_valid_labels.append(0)         \n",
    "    doc = clean(striphtml(cont))\n",
    "    doc = doc.lower() \n",
    "    unseen_valid_docs.append(doc)\n",
    "\n",
    "    \n",
    "test_docs = []\n",
    "test_labels = []\n",
    "i = 0\n",
    "for docid,cont in zip(test_data.id, test_data.review):\n",
    "    \n",
    "    id_label = docid.split('_')\n",
    "    # if rating >= 7, then assign 1 (positive sentiment) as label\n",
    "    if(int(id_label[1]) >= 7):\n",
    "        test_labels.append(1)\n",
    "    # else, assign 0 (negative sentiment) as label\n",
    "    else:\n",
    "        test_labels.append(0)         \n",
    "    doc = clean(striphtml(cont))\n",
    "    doc = doc.lower() \n",
    "    test_docs.append(doc)"
   ]
  },
  {
   "cell_type": "code",
   "execution_count": 10,
   "metadata": {},
   "outputs": [
    {
     "name": "stdout",
     "output_type": "stream",
     "text": [
      "Length of train docs: 20000, length of train labels: 20000\n",
      "Length of validation docs: 5000, length of validation labels: 5000\n",
      "Length of unseen validation docs: 5000, length of unseen validation labels: 5000\n",
      "Length of test docs: 5000, length of test labels: 5000\n"
     ]
    }
   ],
   "source": [
    "print(\"Length of train docs: {}, length of train labels: {}\".format(len(train_docs), len(train_labels)))\n",
    "print(\"Length of validation docs: {}, length of validation labels: {}\".format(len(valid_docs), len(valid_labels)))\n",
    "print(\"Length of unseen validation docs: {}, length of unseen validation labels: {}\".format(len(unseen_valid_docs), \n",
    "                                                                                            len(unseen_valid_labels)))\n",
    "print(\"Length of test docs: {}, length of test labels: {}\".format(len(test_docs), len(test_labels)))\n"
   ]
  },
  {
   "cell_type": "code",
   "execution_count": 11,
   "metadata": {},
   "outputs": [
    {
     "data": {
      "image/png": "[encoded data removed]",
      "text/plain": [
       "<matplotlib.figure.Figure at 0x7f08f74f4198>"
      ]
     },
     "metadata": {},
     "output_type": "display_data"
    }
   ],
   "source": [
    "word_freq_train_docs = np.array([len(word) for word in train_docs])\n",
    "nbins = 100\n",
    "plt.hist(word_freq_train_docs, nbins, density=True, facecolor='g', alpha=0.75)\n",
    "plt.xlabel('Words per sentence')\n",
    "plt.ylabel('Frequency')\n",
    "plt.title('Histogram of Words per sentence in reviews')\n",
    "#plt.text(60, .025, r'$\\mu=100,\\ \\sigma=15$')\n",
    "plt.axis([0, 3000, 0, 0.0013])\n",
    "plt.grid(True)\n",
    "plt.show()\n"
   ]
  },
  {
   "cell_type": "markdown",
   "metadata": {},
   "source": [
    "### Max review length selection\n",
    "\n",
    "From the distribution of number of words per sentence shown in the histogram above, we observe that most of the sentences have 500 or more words. In our experiments we tried 500, 600, and 700 words per sentence as the maximum number of words per review (MAX_REVIEW_LENGTH). For 600 words per sentence we obtained better performance."
   ]
  },
  {
   "cell_type": "markdown",
   "metadata": {},
   "source": [
    "## Create vocabulary index"
   ]
  },
  {
   "cell_type": "code",
   "execution_count": 12,
   "metadata": {},
   "outputs": [],
   "source": [
    "# FUNCTION to tokenize documents into array list of words\n",
    "# you may also use nltk tokenizer, sklearn tokenizer, or keras tokenizer - \n",
    "# but for the tutorial in text modeling, we will use below function: \n",
    "\n",
    "def tokenizeWords(text):\n",
    "    \n",
    "    ## any sequence of non alphanumerical characters is replaced by a space\n",
    "    tokens = re.sub(r\"[^a-z0-9]+\", \" \", text.lower()).split()\n",
    "    return [str(strtokens) for strtokens in tokens]\n",
    "\n",
    "# FUNCTION to create word-level vocabulary index\n",
    "\n",
    "def indexingVocabulary(array_of_words):\n",
    "\n",
    "    wordIndex = list(array_of_words)\n",
    "    \n",
    "    # we will later pad our sequence into fixed length, so\n",
    "    # we will use '0' as the integer index of pad \n",
    "    wordIndex.insert(0,'<pad>')\n",
    "    \n",
    "    # index for word token '<start>' as a starting sign of sequence. We won't use it for this model\n",
    "    # but for the latter model (sequence-to-sequence model)\n",
    "    wordIndex.append('<start>')\n",
    "    \n",
    "    # index for word token '<end>' as an ending sign of sequence. We won't use it for this model\n",
    "    # but for the latter model (sequence-to-sequence model)\n",
    "    wordIndex.append('<end>')\n",
    "    \n",
    "    # index for word token '<unk>' or unknown words (out of vocabulary words) \n",
    "    wordIndex.append('<unk>')\n",
    "    \n",
    "    vocab=dict([(i,wordIndex[i]) for i in range(len(wordIndex))])\n",
    "    \n",
    "    return vocab"
   ]
  },
  {
   "cell_type": "code",
   "execution_count": 13,
   "metadata": {},
   "outputs": [],
   "source": [
    "# tokenize text from training set\n",
    "\n",
    "train_str_tokens = []\n",
    "all_tokens = []\n",
    "for i, text in enumerate(train_docs):\n",
    "    \n",
    "    # this will create our training corpus\n",
    "    train_str_tokens.append(tokenizeWords(text))\n",
    "    \n",
    "    # this will be our merged array to create vocabulary index\n",
    "    all_tokens.extend(tokenizeWords(text))"
   ]
  },
  {
   "cell_type": "code",
   "execution_count": 14,
   "metadata": {},
   "outputs": [
    {
     "name": "stdout",
     "output_type": "stream",
     "text": [
      "[['with', 'all', 'this', 'stuff', 'going', 'down', 'at', 'the', 'moment', 'with', 'mj', 'i', 've', 'started', 'listening', 'to', 'his', 'music', 'watching', 'the', 'odd', 'documentary', 'here', 'and', 'there', 'watched', 'the', 'wiz', 'and', 'watched', 'moonwalker', 'again', 'maybe', 'i', 'just', 'want', 'to', 'get', 'a', 'certain', 'insight', 'into', 'this', 'guy', 'who', 'i', 'thought', 'was', 'really', 'cool', 'in', 'the', 'eighties', 'just', 'to', 'maybe', 'make', 'up', 'my', 'mind', 'whether', 'he', 'is', 'guilty', 'or', 'innocent', 'moonwalker', 'is', 'part', 'biography', 'part', 'feature', 'film', 'which', 'i', 'remember', 'going', 'to', 'see', 'at', 'the', 'cinema', 'when', 'it', 'was', 'originally', 'released', 'some', 'of', 'it', 'has', 'subtle', 'messages', 'about', 'mj', 's', 'feeling', 'towards', 'the', 'press', 'and', 'also', 'the', 'obvious', 'message', 'of', 'drugs', 'are', 'bad', 'm', 'kay', 'visually', 'impressive', 'but', 'of', 'course', 'this', 'is', 'all', 'about', 'michael', 'jackson', 'so', 'unless', 'you', 'remotely', 'like', 'mj', 'in', 'anyway', 'then', 'you', 'are', 'going', 'to', 'hate', 'this', 'and', 'find', 'it', 'boring', 'some', 'may', 'call', 'mj', 'an', 'egotist', 'for', 'consenting', 'to', 'the', 'making', 'of', 'this', 'movie', 'but', 'mj', 'and', 'most', 'of', 'his', 'fans', 'would', 'say', 'that', 'he', 'made', 'it', 'for', 'the', 'fans', 'which', 'if', 'true', 'is', 'really', 'nice', 'of', 'him', 'the', 'actual', 'feature', 'film', 'bit', 'when', 'it', 'finally', 'starts', 'is', 'only', 'on', 'for', '20', 'minutes', 'or', 'so', 'excluding', 'the', 'smooth', 'criminal', 'sequence', 'and', 'joe', 'pesci', 'is', 'convincing', 'as', 'a', 'psychopathic', 'all', 'powerful', 'drug', 'lord', 'why', 'he', 'wants', 'mj', 'dead', 'so', 'bad', 'is', 'beyond', 'me', 'because', 'mj', 'overheard', 'his', 'plans', 'nah', 'joe', 'pesci', 's', 'character', 'ranted', 'that', 'he', 'wanted', 'people', 'to', 'know', 'it', 'is', 'he', 'who', 'is', 'supplying', 'drugs', 'etc', 'so', 'i', 'dunno', 'maybe', 'he', 'just', 'hates', 'mj', 's', 'music', 'lots', 'of', 'cool', 'things', 'in', 'this', 'like', 'mj', 'turning', 'into', 'a', 'car', 'and', 'a', 'robot', 'and', 'the', 'whole', 'speed', 'demon', 'sequence', 'also', 'the', 'director', 'must', 'have', 'had', 'the', 'patience', 'of', 'a', 'saint', 'when', 'it', 'came', 'to', 'filming', 'the', 'kiddy', 'bad', 'sequence', 'as', 'usually', 'directors', 'hate', 'working', 'with', 'one', 'kid', 'let', 'alone', 'a', 'whole', 'bunch', 'of', 'them', 'performing', 'a', 'complex', 'dance', 'scene', 'bottom', 'line', 'this', 'movie', 'is', 'for', 'people', 'who', 'like', 'mj', 'on', 'one', 'level', 'or', 'another', 'which', 'i', 'think', 'is', 'most', 'people', 'if', 'not', 'then', 'stay', 'away', 'it', 'does', 'try', 'and', 'give', 'off', 'a', 'wholesome', 'message', 'and', 'ironically', 'mj', 's', 'bestest', 'buddy', 'in', 'this', 'movie', 'is', 'a', 'girl', 'michael', 'jackson', 'is', 'truly', 'one', 'of', 'the', 'most', 'talented', 'people', 'ever', 'to', 'grace', 'this', 'planet', 'but', 'is', 'he', 'guilty', 'well', 'with', 'all', 'the', 'attention', 'i', 've', 'gave', 'this', 'subject', 'hmmm', 'well', 'i', 'don', 't', 'know', 'because', 'people', 'can', 'be', 'different', 'behind', 'closed', 'doors', 'i', 'know', 'this', 'for', 'a', 'fact', 'he', 'is', 'either', 'an', 'extremely', 'nice', 'but', 'stupid', 'guy', 'or', 'one', 'of', 'the', 'most', 'sickest', 'liars', 'i', 'hope', 'he', 'is', 'not', 'the', 'latter'], ['the', 'classic', 'war', 'of', 'the', 'worlds', 'by', 'timothy', 'hines', 'is', 'a', 'very', 'entertaining', 'film', 'that', 'obviously', 'goes', 'to', 'great', 'effort', 'and', 'lengths', 'to', 'faithfully', 'recreate', 'h', 'g', 'wells', 'classic', 'book', 'mr', 'hines', 'succeeds', 'in', 'doing', 'so', 'i', 'and', 'those', 'who', 'watched', 'his', 'film', 'with', 'me', 'appreciated', 'the', 'fact', 'that', 'it', 'was', 'not', 'the', 'standard', 'predictable', 'hollywood', 'fare', 'that', 'comes', 'out', 'every', 'year', 'e', 'g', 'the', 'spielberg', 'version', 'with', 'tom', 'cruise', 'that', 'had', 'only', 'the', 'slightest', 'resemblance', 'to', 'the', 'book', 'obviously', 'everyone', 'looks', 'for', 'different', 'things', 'in', 'a', 'movie', 'those', 'who', 'envision', 'themselves', 'as', 'amateur', 'critics', 'look', 'only', 'to', 'criticize', 'everything', 'they', 'can', 'others', 'rate', 'a', 'movie', 'on', 'more', 'important', 'bases', 'like', 'being', 'entertained', 'which', 'is', 'why', 'most', 'people', 'never', 'agree', 'with', 'the', 'critics', 'we', 'enjoyed', 'the', 'effort', 'mr', 'hines', 'put', 'into', 'being', 'faithful', 'to', 'h', 'g', 'wells', 'classic', 'novel', 'and', 'we', 'found', 'it', 'to', 'be', 'very', 'entertaining', 'this', 'made', 'it', 'easy', 'to', 'overlook', 'what', 'the', 'critics', 'perceive', 'to', 'be', 'its', 'shortcomings']]\n",
      "['with', 'all', 'this', 'stuff', 'going']\n"
     ]
    }
   ],
   "source": [
    "print(train_str_tokens[:2])\n",
    "print(all_tokens[:5])"
   ]
  },
  {
   "cell_type": "code",
   "execution_count": 15,
   "metadata": {},
   "outputs": [],
   "source": [
    "# likewise, tokenize text from validation, unseen validation, and test sets\n",
    "\n",
    "valid_str_tokens = []\n",
    "for i, text in enumerate(valid_docs):\n",
    "    valid_str_tokens.append(tokenizeWords(text))\n",
    "    \n",
    "unseen_valid_str_tokens = []\n",
    "for i, text in enumerate(unseen_valid_docs):\n",
    "    unseen_valid_str_tokens.append(tokenizeWords(text))\n",
    "    \n",
    "test_str_tokens = []\n",
    "for i, text in enumerate(test_docs):\n",
    "    test_str_tokens.append(tokenizeWords(text))\n",
    "    "
   ]
  },
  {
   "cell_type": "code",
   "execution_count": 16,
   "metadata": {},
   "outputs": [],
   "source": [
    "# use nltk to count word frequency and use 10.000 most frequent words to generate vocabulary index\n",
    "\n",
    "tf = nltk.FreqDist(all_tokens)\n",
    "common_words = tf.most_common(10000)\n",
    "arr_common = np.array(common_words)\n",
    "words = arr_common[:,0]\n",
    "\n",
    "# create vocabulary index\n",
    "\n",
    "# word- index pairs\n",
    "words_indices = indexingVocabulary(words)\n",
    "\n",
    "# index - word pairs\n",
    "indices_words = dict((v,k) for (k,v) in words_indices.items())"
   ]
  },
  {
   "cell_type": "code",
   "execution_count": 17,
   "metadata": {},
   "outputs": [],
   "source": [
    "# save vocabulary index\n",
    "\n",
    "np.save(os.path.join(DATA_PATH,'words_indices.npy'), words_indices)\n",
    "np.save(os.path.join(DATA_PATH,'indices_words.npy'), indices_words)"
   ]
  },
  {
   "cell_type": "markdown",
   "metadata": {},
   "source": [
    "## Prepare model input and output"
   ]
  },
  {
   "cell_type": "code",
   "execution_count": 18,
   "metadata": {},
   "outputs": [],
   "source": [
    "# integer format of training input \n",
    "train_int_input = []\n",
    "for i, text in enumerate(train_str_tokens):\n",
    "    int_tokens = [indices_words[w] if w in indices_words.keys() else indices_words['<unk>'] for w in text ]\n",
    "    train_int_input.append(int_tokens)\n",
    "    \n",
    "# integer format of validation input \n",
    "valid_int_input = []\n",
    "for i, text in enumerate(valid_str_tokens):\n",
    "    int_tokens = [indices_words[w] if w in indices_words.keys() else indices_words['<unk>'] for w in text ]\n",
    "    valid_int_input.append(int_tokens)\n",
    "    \n",
    "# integer format of unseen validation input\n",
    "unseen_valid_int_input = []\n",
    "for i, text in enumerate(unseen_valid_str_tokens):\n",
    "    int_tokens = [indices_words[w] if w in indices_words.keys() else indices_words['<unk>'] for w in text ]\n",
    "    unseen_valid_int_input.append(int_tokens)\n",
    "\n",
    "# integer format of test input\n",
    "test_int_input = []\n",
    "for i, text in enumerate(test_str_tokens):\n",
    "    int_tokens = [indices_words[w] if w in indices_words.keys() else indices_words['<unk>'] for w in text ]\n",
    "    test_int_input.append(int_tokens)\n",
    "    "
   ]
  },
  {
   "cell_type": "code",
   "execution_count": 19,
   "metadata": {},
   "outputs": [],
   "source": [
    "X_train_arr = np.array(train_int_input)\n",
    "y_train = np.array(train_labels)\n",
    "\n",
    "X_validation_arr = np.array(valid_int_input)\n",
    "y_validation = np.array(valid_labels)\n",
    "\n",
    "X_unseen_validation_arr = np.array(unseen_valid_int_input)\n",
    "y_unseen_validation = np.array(unseen_valid_labels)\n",
    "\n",
    "X_test_arr = np.array(test_int_input)\n",
    "y_test = np.array(test_labels)"
   ]
  },
  {
   "cell_type": "code",
   "execution_count": 20,
   "metadata": {},
   "outputs": [
    {
     "name": "stderr",
     "output_type": "stream",
     "text": [
      "/home/jorge/.local/share/virtualenvs/RecommenderSystems-c5N1t04d/lib/python3.5/site-packages/h5py/__init__.py:36: FutureWarning: Conversion of the second argument of issubdtype from `float` to `np.floating` is deprecated. In future, it will be treated as `np.float64 == np.dtype(float).type`.\n",
      "  from ._conv import register_converters as _register_converters\n",
      "Using TensorFlow backend.\n"
     ]
    }
   ],
   "source": [
    "from keras.preprocessing import sequence\n",
    "\n",
    "## think about what will happen if we use 'post' padding instead of 'pre' padding\n",
    "max_review_length = 600\n",
    "X_train = sequence.pad_sequences(X_train_arr, maxlen=max_review_length, value=0)\n",
    "X_validation = sequence.pad_sequences(X_validation_arr, maxlen=max_review_length, value=0)\n",
    "X_unseen_validation = sequence.pad_sequences(X_unseen_validation_arr, maxlen=max_review_length, value=0)\n",
    "X_test = sequence.pad_sequences(X_test_arr, maxlen=max_review_length, value=0)"
   ]
  },
  {
   "cell_type": "code",
   "execution_count": 21,
   "metadata": {},
   "outputs": [],
   "source": [
    "# save files\n",
    "\n",
    "np.save(os.path.join(DATA_PATH,'X_train_word.npy'), X_train)\n",
    "np.save(os.path.join(DATA_PATH,'y_train_word.npy'), y_train)\n",
    "\n",
    "np.save(os.path.join(DATA_PATH,'X_validation_word.npy'), X_validation)\n",
    "np.save(os.path.join(DATA_PATH,'y_validation_word.npy'), y_validation)\n",
    "\n",
    "np.save(os.path.join(DATA_PATH, 'X_unseen_validation_word.npy'), X_unseen_validation)\n",
    "np.save(os.path.join(DATA_PATH, 'y_unseen_validation_word.npy'), y_unseen_validation)\n",
    "\n",
    "np.save(os.path.join(DATA_PATH, 'X_test_word.npy'), X_test)\n",
    "np.save(os.path.join(DATA_PATH, 'y_test_word.npy'), y_test)"
   ]
  },
  {
   "cell_type": "markdown",
   "metadata": {},
   "source": [
    "## 2. Sequence classification model"
   ]
  },
  {
   "cell_type": "markdown",
   "metadata": {},
   "source": [
    "#### Tasks: \n",
    "\n",
    "* Create a RNN model to classify sequence of words on a binary classification task\n",
    "* Compare four (4) different gate memory units\n",
    "* Plot model performance (loss and accuracy) of these 4 models\n",
    "* Present the performance (loss and accuarcy) of these 4 models in a comparison table"
   ]
  },
  {
   "cell_type": "code",
   "execution_count": 22,
   "metadata": {},
   "outputs": [
    {
     "name": "stdout",
     "output_type": "stream",
     "text": [
      "[0. 1.]\n",
      "[0. 1.]\n",
      "10004\n",
      "[1 1 0 0 1]\n",
      "[0 1]\n",
      "(20000, 600)\n"
     ]
    }
   ],
   "source": [
    "from keras.utils.np_utils import to_categorical\n",
    "\n",
    "y_train_labels = to_categorical(y_train)\n",
    "y_validation_labels = to_categorical(y_validation)\n",
    "\n",
    "print(np.unique(y_train_labels))\n",
    "print(np.unique(y_validation_labels))\n",
    "print(len(words_indices))\n",
    "print(y_train[:5])\n",
    "print(np.unique(y_train))\n",
    "print(X_train.shape)\n",
    "\n",
    "#y_train_labels = "
   ]
  },
  {
   "cell_type": "code",
   "execution_count": 55,
   "metadata": {},
   "outputs": [],
   "source": [
    "# YOUR CODE HERE \n",
    "\n",
    "from keras.layers import Embedding, Input, LSTM, Dense, GRU, Bidirectional\n",
    "from keras.models import Model\n",
    "\n",
    "# decide number of epochs and batch_size\n",
    "models_num_epochs = 10\n",
    "models_batch_size = 256\n",
    "embedding_size = 120\n",
    "rnn_output_units = 50"
   ]
  },
  {
   "cell_type": "markdown",
   "metadata": {},
   "source": [
    "### Model 1 : LSTM"
   ]
  },
  {
   "cell_type": "code",
   "execution_count": 24,
   "metadata": {},
   "outputs": [
    {
     "name": "stdout",
     "output_type": "stream",
     "text": [
      "_________________________________________________________________\n",
      "Layer (type)                 Output Shape              Param #   \n",
      "=================================================================\n",
      "input_layer (InputLayer)     (None, 600)               0         \n",
      "_________________________________________________________________\n",
      "word_embedding (Embedding)   (None, 600, 120)          1200480   \n",
      "_________________________________________________________________\n",
      "lstm_layer (LSTM)            (None, 50)                34200     \n",
      "_________________________________________________________________\n",
      "prediction_layer (Dense)     (None, 1)                 51        \n",
      "=================================================================\n",
      "Total params: 1,234,731\n",
      "Trainable params: 1,234,731\n",
      "Non-trainable params: 0\n",
      "_________________________________________________________________\n"
     ]
    }
   ],
   "source": [
    "# YOUR CODE HERE\n",
    "# MODEL-1: LSTM\n",
    "\n",
    "# construct the model\n",
    "sequence_input = Input(shape=(MAX_REVIEW_LENGTH,), name='input_layer', dtype='int32')\n",
    "embedding_layer = Embedding(len(words_indices), embedding_size, input_length=MAX_REVIEW_LENGTH, name='word_embedding')\n",
    "embedded_sequences = embedding_layer(sequence_input)\n",
    "lstm_layer = LSTM(rnn_output_units, name='lstm_layer')(embedded_sequences)\n",
    "output_layer = Dense(1, name='prediction_layer', activation='sigmoid')(lstm_layer)\n",
    "\n",
    "lstm_model = Model(sequence_input, output_layer)\n",
    "lstm_model.summary()"
   ]
  },
  {
   "cell_type": "markdown",
   "metadata": {},
   "source": [
    "### Model 2: GRU"
   ]
  },
  {
   "cell_type": "code",
   "execution_count": 25,
   "metadata": {},
   "outputs": [
    {
     "name": "stdout",
     "output_type": "stream",
     "text": [
      "_________________________________________________________________\n",
      "Layer (type)                 Output Shape              Param #   \n",
      "=================================================================\n",
      "input_layer (InputLayer)     (None, 600)               0         \n",
      "_________________________________________________________________\n",
      "word_embedding (Embedding)   (None, 600, 120)          1200480   \n",
      "_________________________________________________________________\n",
      "gru_layer (GRU)              (None, 50)                25650     \n",
      "_________________________________________________________________\n",
      "prediction_layer (Dense)     (None, 1)                 51        \n",
      "=================================================================\n",
      "Total params: 1,226,181\n",
      "Trainable params: 1,226,181\n",
      "Non-trainable params: 0\n",
      "_________________________________________________________________\n"
     ]
    }
   ],
   "source": [
    "# YOUR CODE HERE\n",
    "# MODEL-2: GRU\n",
    "\n",
    "# construct the model\n",
    "sequence_input = Input(shape=(MAX_REVIEW_LENGTH,), name='input_layer', dtype='int32')\n",
    "embedding_layer = Embedding(len(words_indices), embedding_size, input_length=MAX_REVIEW_LENGTH, name='word_embedding')\n",
    "embedded_sequences = embedding_layer(sequence_input)\n",
    "gru_layer = GRU(rnn_output_units, name='gru_layer')(embedded_sequences)\n",
    "output_layer = Dense(1, name='prediction_layer', activation='sigmoid')(gru_layer)\n",
    "\n",
    "gru_model = Model(sequence_input, output_layer)\n",
    "gru_model.summary()\n"
   ]
  },
  {
   "cell_type": "markdown",
   "metadata": {},
   "source": [
    "### Model 3 : Bidirectional LSTM"
   ]
  },
  {
   "cell_type": "code",
   "execution_count": 26,
   "metadata": {},
   "outputs": [
    {
     "name": "stdout",
     "output_type": "stream",
     "text": [
      "_________________________________________________________________\n",
      "Layer (type)                 Output Shape              Param #   \n",
      "=================================================================\n",
      "input_layer (InputLayer)     (None, 600)               0         \n",
      "_________________________________________________________________\n",
      "word_embedding (Embedding)   (None, 600, 120)          1200480   \n",
      "_________________________________________________________________\n",
      "bidirectional_1 (Bidirection (None, 100)               68400     \n",
      "_________________________________________________________________\n",
      "prediction_layer (Dense)     (None, 1)                 101       \n",
      "=================================================================\n",
      "Total params: 1,268,981\n",
      "Trainable params: 1,268,981\n",
      "Non-trainable params: 0\n",
      "_________________________________________________________________\n"
     ]
    }
   ],
   "source": [
    "# YOUR CODE HERE\n",
    "# MODEL-3: Bidirectional LSTM\n",
    "\n",
    "# construct the model\n",
    "sequence_input = Input(shape=(MAX_REVIEW_LENGTH,), name='input_layer', dtype='int32')\n",
    "embedding_layer = Embedding(len(words_indices), embedding_size, input_length=MAX_REVIEW_LENGTH, name='word_embedding')\n",
    "embedded_sequences = embedding_layer(sequence_input)\n",
    "bilstm_layer = Bidirectional(LSTM(rnn_output_units, name='bilstm_layer'))(embedded_sequences)\n",
    "output_layer = Dense(1, name='prediction_layer', activation='sigmoid')(bilstm_layer)\n",
    "\n",
    "bilstm_model = Model(sequence_input, output_layer)\n",
    "bilstm_model.summary()"
   ]
  },
  {
   "cell_type": "markdown",
   "metadata": {},
   "source": [
    "### Model 4 : Bidirectional GRU"
   ]
  },
  {
   "cell_type": "code",
   "execution_count": 27,
   "metadata": {},
   "outputs": [
    {
     "name": "stdout",
     "output_type": "stream",
     "text": [
      "_________________________________________________________________\n",
      "Layer (type)                 Output Shape              Param #   \n",
      "=================================================================\n",
      "input_layer (InputLayer)     (None, 600)               0         \n",
      "_________________________________________________________________\n",
      "word_embedding (Embedding)   (None, 600, 120)          1200480   \n",
      "_________________________________________________________________\n",
      "bidirectional_2 (Bidirection (None, 100)               51300     \n",
      "_________________________________________________________________\n",
      "prediction_layer (Dense)     (None, 1)                 101       \n",
      "=================================================================\n",
      "Total params: 1,251,881\n",
      "Trainable params: 1,251,881\n",
      "Non-trainable params: 0\n",
      "_________________________________________________________________\n"
     ]
    }
   ],
   "source": [
    "# YOUR CODE HERE\n",
    "# MODEL-4: Bidirectional GRU\n",
    "\n",
    "# construct the model\n",
    "sequence_input = Input(shape=(MAX_REVIEW_LENGTH,), name='input_layer', dtype='int32')\n",
    "embedding_layer = Embedding(len(words_indices), embedding_size, input_length=MAX_REVIEW_LENGTH, name='word_embedding')\n",
    "embedded_sequences = embedding_layer(sequence_input)\n",
    "bigru_layer = Bidirectional(GRU(rnn_output_units, name='bigru_layer'))(embedded_sequences)\n",
    "output_layer = Dense(1, name='prediction_layer', activation='sigmoid')(bigru_layer)\n",
    "\n",
    "bigru_model = Model(sequence_input, output_layer)\n",
    "bigru_model.summary()"
   ]
  },
  {
   "cell_type": "markdown",
   "metadata": {},
   "source": [
    "### RNN's model description\n",
    "\n",
    "For our experiments we constructed four RNN architectures with the following characteristics:\n",
    "* An input layer that takes 600-dimensional vectors as input.\n",
    "* An embedding layer that transforms our input layer into a 120 dimensional embedding vector. Several dimensions for the embedding vector were tested. By trial and error we found 120 to be a number with good performance.\n",
    "* A cell layer that takes the input from the embedding layer and outputs a 50-dimensional vector after the sequence is completely processed.\n",
    "* A dense output layer that used a sigmoid activation function to classify sentences as positive or negative.\n",
    "\n",
    "The layers use for each of the four RNN architectures are: LSTM, GRU, Bidirectional LSTM, and Bidirectional GRU. The bidirectional functionality was added using the Bidirectional wrapper layer provided by keras. The default merge mode (concat) was used because it seems to have good performance compared to the other merge modes according to [Jason Brownlee](https://machinelearningmastery.com/develop-bidirectional-lstm-sequence-classification-python-keras/)."
   ]
  },
  {
   "cell_type": "markdown",
   "metadata": {},
   "source": [
    "### Compile models"
   ]
  },
  {
   "cell_type": "code",
   "execution_count": 28,
   "metadata": {},
   "outputs": [],
   "source": [
    "# YOUR CODE HERE \n",
    "# decide loss function, and optimizer\n",
    "lstm_model.compile(loss='binary_crossentropy', optimizer='adam', metrics=['accuracy'])"
   ]
  },
  {
   "cell_type": "code",
   "execution_count": 29,
   "metadata": {},
   "outputs": [],
   "source": [
    "# YOUR CODE HERE \n",
    "# decide loss function, and optimizer\n",
    "gru_model.compile(loss='binary_crossentropy', optimizer='adam', metrics=['accuracy'])"
   ]
  },
  {
   "cell_type": "code",
   "execution_count": 30,
   "metadata": {},
   "outputs": [],
   "source": [
    "# YOUR CODE HERE \n",
    "# decide loss function, and optimizer\n",
    "bilstm_model.compile(loss='binary_crossentropy', optimizer='adam', metrics=['accuracy'])"
   ]
  },
  {
   "cell_type": "code",
   "execution_count": 31,
   "metadata": {},
   "outputs": [],
   "source": [
    "# YOUR CODE HERE \n",
    "# decide loss function, and optimizer\n",
    "bigru_model.compile(loss='binary_crossentropy', optimizer='adam', metrics=['accuracy'])"
   ]
  },
  {
   "cell_type": "markdown",
   "metadata": {},
   "source": [
    "### Compilation configuration description\n",
    "\n",
    "Binary crossentropy was selected as the loss function because we are working on a binary classification problem. Adam was selected as the optimizer because it behaves better than plain stochastic gradient descent and RMSprop. As usual, the metric used to evaluate the training performance is accuracy."
   ]
  },
  {
   "cell_type": "markdown",
   "metadata": {},
   "source": [
    "### Train models"
   ]
  },
  {
   "cell_type": "code",
   "execution_count": 56,
   "metadata": {},
   "outputs": [
    {
     "name": "stdout",
     "output_type": "stream",
     "text": [
      "Training lstm model\n",
      "Train on 20000 samples, validate on 5000 samples\n",
      "Epoch 1/10\n",
      "20000/20000 [==============================] - 172s 9ms/step - loss: 0.0869 - acc: 0.9724 - val_loss: 0.3955 - val_acc: 0.8348\n",
      "Epoch 2/10\n",
      "20000/20000 [==============================] - 170s 8ms/step - loss: 0.0942 - acc: 0.9683 - val_loss: 0.4325 - val_acc: 0.8566\n",
      "Epoch 3/10\n",
      "20000/20000 [==============================] - 194s 10ms/step - loss: 0.0602 - acc: 0.9823 - val_loss: 0.5331 - val_acc: 0.8524\n",
      "Epoch 4/10\n",
      "20000/20000 [==============================] - 196s 10ms/step - loss: 0.0561 - acc: 0.9846 - val_loss: 0.5710 - val_acc: 0.8566\n",
      "Epoch 5/10\n",
      "20000/20000 [==============================] - 193s 10ms/step - loss: 0.0421 - acc: 0.9892 - val_loss: 0.5784 - val_acc: 0.8518\n",
      "Epoch 6/10\n",
      "20000/20000 [==============================] - 192s 10ms/step - loss: 0.0370 - acc: 0.9907 - val_loss: 0.6322 - val_acc: 0.8488\n",
      "Epoch 7/10\n",
      "20000/20000 [==============================] - 193s 10ms/step - loss: 0.0427 - acc: 0.9871 - val_loss: 0.7252 - val_acc: 0.8490\n",
      "Epoch 8/10\n",
      "20000/20000 [==============================] - 202s 10ms/step - loss: 0.0470 - acc: 0.9856 - val_loss: 0.6454 - val_acc: 0.8496\n",
      "Epoch 9/10\n",
      "20000/20000 [==============================] - 193s 10ms/step - loss: 0.0374 - acc: 0.9893 - val_loss: 0.7302 - val_acc: 0.8508\n",
      "Epoch 10/10\n",
      "20000/20000 [==============================] - 193s 10ms/step - loss: 0.0308 - acc: 0.9906 - val_loss: 0.6270 - val_acc: 0.8512\n",
      "Training gru model\n",
      "Train on 20000 samples, validate on 5000 samples\n",
      "Epoch 1/10\n",
      "20000/20000 [==============================] - 159s 8ms/step - loss: 0.1071 - acc: 0.9659 - val_loss: 0.4618 - val_acc: 0.8576\n",
      "Epoch 2/10\n",
      "20000/20000 [==============================] - 159s 8ms/step - loss: 0.0863 - acc: 0.9725 - val_loss: 0.4720 - val_acc: 0.8424\n",
      "Epoch 3/10\n",
      "20000/20000 [==============================] - 162s 8ms/step - loss: 0.0645 - acc: 0.9811 - val_loss: 0.5649 - val_acc: 0.8458\n",
      "Epoch 4/10\n",
      "20000/20000 [==============================] - 158s 8ms/step - loss: 0.0544 - acc: 0.9844 - val_loss: 0.5861 - val_acc: 0.8464\n",
      "Epoch 5/10\n",
      "20000/20000 [==============================] - 166s 8ms/step - loss: 0.0457 - acc: 0.9873 - val_loss: 0.6193 - val_acc: 0.8450\n",
      "Epoch 6/10\n",
      "20000/20000 [==============================] - 159s 8ms/step - loss: 0.0769 - acc: 0.9723 - val_loss: 0.5934 - val_acc: 0.8322\n",
      "Epoch 7/10\n",
      "20000/20000 [==============================] - 160s 8ms/step - loss: 0.0459 - acc: 0.9847 - val_loss: 0.5823 - val_acc: 0.8484\n",
      "Epoch 8/10\n",
      "20000/20000 [==============================] - 160s 8ms/step - loss: 0.0182 - acc: 0.9963 - val_loss: 0.6639 - val_acc: 0.8514\n",
      "Epoch 9/10\n",
      "20000/20000 [==============================] - 160s 8ms/step - loss: 0.0133 - acc: 0.9973 - val_loss: 0.7288 - val_acc: 0.8414\n",
      "Epoch 10/10\n",
      "20000/20000 [==============================] - 159s 8ms/step - loss: 0.0118 - acc: 0.9976 - val_loss: 0.7504 - val_acc: 0.8444\n",
      "Training bidirectional lstm model\n",
      "Train on 20000 samples, validate on 5000 samples\n",
      "Epoch 1/10\n",
      "20000/20000 [==============================] - 384s 19ms/step - loss: 0.0893 - acc: 0.9722 - val_loss: 0.4369 - val_acc: 0.8620\n",
      "Epoch 2/10\n",
      "20000/20000 [==============================] - 383s 19ms/step - loss: 0.0798 - acc: 0.9749 - val_loss: 0.5308 - val_acc: 0.8396\n",
      "Epoch 3/10\n",
      "20000/20000 [==============================] - 382s 19ms/step - loss: 0.1025 - acc: 0.9660 - val_loss: 0.8120 - val_acc: 0.8158\n",
      "Epoch 4/10\n",
      "20000/20000 [==============================] - 388s 19ms/step - loss: 0.0956 - acc: 0.9686 - val_loss: 0.4828 - val_acc: 0.8544\n",
      "Epoch 5/10\n",
      "20000/20000 [==============================] - 384s 19ms/step - loss: 0.0557 - acc: 0.9838 - val_loss: 0.6104 - val_acc: 0.8404\n",
      "Epoch 6/10\n",
      "20000/20000 [==============================] - 388s 19ms/step - loss: 0.0437 - acc: 0.9887 - val_loss: 0.5993 - val_acc: 0.8488\n",
      "Epoch 7/10\n",
      "20000/20000 [==============================] - 364s 18ms/step - loss: 0.0399 - acc: 0.9891 - val_loss: 0.6931 - val_acc: 0.8474\n",
      "Epoch 8/10\n",
      "20000/20000 [==============================] - 345s 17ms/step - loss: 0.0368 - acc: 0.9904 - val_loss: 0.6367 - val_acc: 0.8514\n",
      "Epoch 9/10\n",
      "20000/20000 [==============================] - 339s 17ms/step - loss: 0.0445 - acc: 0.9870 - val_loss: 1.3677 - val_acc: 0.7816\n",
      "Epoch 10/10\n",
      "20000/20000 [==============================] - 352s 18ms/step - loss: 0.5739 - acc: 0.8198 - val_loss: 0.4838 - val_acc: 0.8220\n",
      "Training bidirectional gru model\n",
      "Train on 20000 samples, validate on 5000 samples\n",
      "Epoch 1/10\n",
      "20000/20000 [==============================] - 297s 15ms/step - loss: 0.1249 - acc: 0.9587 - val_loss: 0.4282 - val_acc: 0.8464\n",
      "Epoch 2/10\n",
      "20000/20000 [==============================] - 287s 14ms/step - loss: 0.0968 - acc: 0.9718 - val_loss: 0.6328 - val_acc: 0.8292\n",
      "Epoch 3/10\n",
      "20000/20000 [==============================] - 288s 14ms/step - loss: 0.0953 - acc: 0.9691 - val_loss: 0.4978 - val_acc: 0.8472\n",
      "Epoch 4/10\n",
      "20000/20000 [==============================] - 284s 14ms/step - loss: 0.0825 - acc: 0.9739 - val_loss: 0.4996 - val_acc: 0.8324\n",
      "Epoch 5/10\n",
      "20000/20000 [==============================] - 285s 14ms/step - loss: 0.0624 - acc: 0.9818 - val_loss: 0.5514 - val_acc: 0.8446\n",
      "Epoch 6/10\n",
      "20000/20000 [==============================] - 279s 14ms/step - loss: 0.0472 - acc: 0.9870 - val_loss: 0.6367 - val_acc: 0.8302\n",
      "Epoch 7/10\n",
      "20000/20000 [==============================] - 283s 14ms/step - loss: 0.0435 - acc: 0.9873 - val_loss: 0.6680 - val_acc: 0.8372\n",
      "Epoch 8/10\n",
      "20000/20000 [==============================] - 285s 14ms/step - loss: 0.0347 - acc: 0.9906 - val_loss: 0.7217 - val_acc: 0.8344\n",
      "Epoch 9/10\n",
      "20000/20000 [==============================] - 281s 14ms/step - loss: 0.0606 - acc: 0.9807 - val_loss: 0.6139 - val_acc: 0.8312\n",
      "Epoch 10/10\n",
      "20000/20000 [==============================] - 288s 14ms/step - loss: 0.0360 - acc: 0.9895 - val_loss: 0.6869 - val_acc: 0.8424\n"
     ]
    }
   ],
   "source": [
    "# YOUR CODE HERE \n",
    "# add callback history during the training stage of the model\n",
    "print(\"Training lstm model\")\n",
    "lstm_history = lstm_model.fit(X_train, y_train, validation_data=(X_validation, y_validation), \\\n",
    "               epochs=models_num_epochs, batch_size=models_batch_size)\n",
    "\n",
    "print(\"Training gru model\")\n",
    "gru_history = gru_model.fit(X_train, y_train, validation_data=(X_validation, y_validation), \\\n",
    "               epochs=models_num_epochs, batch_size=models_batch_size)\n",
    "\n",
    "print(\"Training bidirectional lstm model\")\n",
    "bilstm_history = bilstm_model.fit(X_train, y_train, validation_data=(X_validation, y_validation), \\\n",
    "               epochs=models_num_epochs, batch_size=models_batch_size)\n",
    "\n",
    "print(\"Training bidirectional gru model\")\n",
    "bigru_history = bigru_model.fit(X_train, y_train, validation_data=(X_validation, y_validation), \\\n",
    "               epochs=models_num_epochs, batch_size=models_batch_size)"
   ]
  },
  {
   "cell_type": "markdown",
   "metadata": {},
   "source": [
    "### Save models and weight parameters"
   ]
  },
  {
   "cell_type": "code",
   "execution_count": 33,
   "metadata": {},
   "outputs": [],
   "source": [
    "# Save model\n",
    "lstm_model.save('lstm_model.h5')\n",
    "# Save trained weight parameters\n",
    "lstm_model.save_weights('weights_lstm_model.hdf5')"
   ]
  },
  {
   "cell_type": "code",
   "execution_count": 34,
   "metadata": {},
   "outputs": [],
   "source": [
    "# Save model\n",
    "gru_model.save('gru_model.h5')\n",
    "# Save trained weight parameters\n",
    "gru_model.save_weights('weights_gru_model.hdf5')"
   ]
  },
  {
   "cell_type": "code",
   "execution_count": 35,
   "metadata": {},
   "outputs": [],
   "source": [
    "# Save model\n",
    "bilstm_model.save('bilstm_model.h5')\n",
    "# Save trained weight parameters\n",
    "bilstm_model.save_weights('weights_bilstm_model.hdf5')"
   ]
  },
  {
   "cell_type": "code",
   "execution_count": 36,
   "metadata": {},
   "outputs": [],
   "source": [
    "# Save model\n",
    "bigru_model.save('bigru_model.h5')\n",
    "# Save trained weight parameters\n",
    "bigru_model.save_weights('weights_bigru_model.hdf5')"
   ]
  },
  {
   "cell_type": "markdown",
   "metadata": {},
   "source": [
    "#### Plot model performance (loss, accuracy)"
   ]
  },
  {
   "cell_type": "markdown",
   "metadata": {},
   "source": [
    "Present two (2) plots for each model "
   ]
  },
  {
   "cell_type": "code",
   "execution_count": 37,
   "metadata": {},
   "outputs": [],
   "source": [
    "# YOUR CODE HERE \n",
    "def plot_accuracy(model_history, model_title):\n",
    "    plt.plot(model_history.history['acc'])\n",
    "    plt.plot(model_history.history['val_acc'])\n",
    "    plt.title(model_title)\n",
    "    plt.ylabel('accuracy')\n",
    "    plt.xlabel('epoch')\n",
    "    plt.legend(['train', 'validation'], loc='upper left')\n",
    "    plt.show()\n",
    "\n",
    "def plot_loss(model_history, model_title):\n",
    "    plt.plot(model_history.history['loss'])\n",
    "    plt.plot(model_history.history['val_loss'])\n",
    "    plt.title(model_title)\n",
    "    plt.ylabel('loss')\n",
    "    plt.xlabel('epoch')\n",
    "    plt.legend(['train', 'validation'], loc='upper left')\n",
    "    plt.show()"
   ]
  },
  {
   "cell_type": "markdown",
   "metadata": {},
   "source": [
    "### Plots description\n",
    "\n",
    "For each trained model, its accuracy and loss values were stored in a variable. Using these values we create visualizations of accuracy and loss for the training and validation data for each of the four trained models. From the pictures we can observe that our traning accuracy tends to increase over time but the validation accuracy values don't change that much after the third or fourth epoch. Further analysis should be applied to determine the difference in this performance gap. A bias/variance test could help to determine which techniques can be used to improve the performance of our RNNs on the validation data. However, due to time restrictions (we spent a lot of time time finding good values for the networks' parameters) we weren't able to implement this test.\n"
   ]
  },
  {
   "cell_type": "code",
   "execution_count": 38,
   "metadata": {},
   "outputs": [
    {
     "data": {
      "image/png": "[encoded data removed]",
      "text/plain": [
       "<matplotlib.figure.Figure at 0x7f0816641ba8>"
      ]
     },
     "metadata": {},
     "output_type": "display_data"
    },
    {
     "data": {
      "image/png": "[encoded data removed]",
      "text/plain": [
       "<matplotlib.figure.Figure at 0x7f07d931e048>"
      ]
     },
     "metadata": {},
     "output_type": "display_data"
    }
   ],
   "source": [
    "plot_accuracy(lstm_history, 'LSTM accuracy')\n",
    "plot_loss(lstm_history, 'LSTM loss')"
   ]
  },
  {
   "cell_type": "code",
   "execution_count": 39,
   "metadata": {},
   "outputs": [
    {
     "data": {
      "image/png": "[encoded data removed]",
      "text/plain": [
       "<matplotlib.figure.Figure at 0x7f07d93498d0>"
      ]
     },
     "metadata": {},
     "output_type": "display_data"
    },
    {
     "data": {
      "image/png": "[encoded data removed]",
      "text/plain": [
       "<matplotlib.figure.Figure at 0x7f07d9349a20>"
      ]
     },
     "metadata": {},
     "output_type": "display_data"
    }
   ],
   "source": [
    "plot_accuracy(gru_history, 'GRU accuracy')\n",
    "plot_loss(gru_history, 'GRU loss')\n"
   ]
  },
  {
   "cell_type": "code",
   "execution_count": 40,
   "metadata": {},
   "outputs": [
    {
     "data": {
      "image/png": "[encoded data removed]",
      "text/plain": [
       "<matplotlib.figure.Figure at 0x7f07d9244080>"
      ]
     },
     "metadata": {},
     "output_type": "display_data"
    },
    {
     "data": {
      "image/png": "[encoded data removed]",
      "text/plain": [
       "<matplotlib.figure.Figure at 0x7f07d9244198>"
      ]
     },
     "metadata": {},
     "output_type": "display_data"
    }
   ],
   "source": [
    "plot_accuracy(bilstm_history, 'Bidirectional LSTM accuracy')\n",
    "plot_loss(bilstm_history, 'Bidirectional LSTM loss')\n"
   ]
  },
  {
   "cell_type": "code",
   "execution_count": 41,
   "metadata": {},
   "outputs": [
    {
     "data": {
      "image/png": "[encoded data removed]",
      "text/plain": [
       "<matplotlib.figure.Figure at 0x7f07d8bff5f8>"
      ]
     },
     "metadata": {},
     "output_type": "display_data"
    },
    {
     "data": {
      "image/png": "[encoded data removed]",
      "text/plain": [
       "<matplotlib.figure.Figure at 0x7f081669e940>"
      ]
     },
     "metadata": {},
     "output_type": "display_data"
    }
   ],
   "source": [
    "plot_accuracy(bigru_history, 'Bidirectional GRU accuracy')\n",
    "plot_loss(bigru_history, 'Bidirectional GRU loss')"
   ]
  },
  {
   "cell_type": "code",
   "execution_count": 42,
   "metadata": {},
   "outputs": [
    {
     "name": "stdout",
     "output_type": "stream",
     "text": [
      "5000/5000 [==============================] - 15s 3ms/step\n",
      "5000/5000 [==============================] - 13s 3ms/step\n",
      "5000/5000 [==============================] - 26s 5ms/step\n",
      "5000/5000 [==============================] - 22s 4ms/step\n"
     ]
    }
   ],
   "source": [
    "## create pandas table\n",
    "[lstm_uvalid_loss, lstm_uvalid_acc] = lstm_model.evaluate(X_unseen_validation, y_unseen_validation)\n",
    "[gru_uvalid_loss, gru_uvalid_acc] = gru_model.evaluate(X_unseen_validation, y_unseen_validation)\n",
    "[bilstm_uvalid_loss, bilstm_uvalid_acc] = bilstm_model.evaluate(X_unseen_validation, y_unseen_validation)\n",
    "[bigru_uvalid_loss, bigru_uvalid_acc] = bigru_model.evaluate(X_unseen_validation, y_unseen_validation)\n"
   ]
  },
  {
   "cell_type": "code",
   "execution_count": 43,
   "metadata": {},
   "outputs": [],
   "source": [
    "tdata = {'loss': pd.Series([lstm_uvalid_loss, gru_uvalid_loss, bilstm_uvalid_loss, bigru_uvalid_loss],\n",
    "                           index=['lstm', 'gru', 'bi-lstm', 'bi-gru']),\n",
    "        'accuracy': pd.Series([lstm_uvalid_acc, gru_uvalid_acc, bilstm_uvalid_acc, bigru_uvalid_acc],\n",
    "                              index=['lstm', 'gru', 'bi-lstm', 'bi-gru'])}\n",
    "uvalid_df = pd.DataFrame(tdata)\n"
   ]
  },
  {
   "cell_type": "markdown",
   "metadata": {},
   "source": [
    "#### Present table comparison of model performance"
   ]
  },
  {
   "cell_type": "code",
   "execution_count": 44,
   "metadata": {},
   "outputs": [
    {
     "name": "stdout",
     "output_type": "stream",
     "text": [
      "Accuracy and loss for models using unseen validation data: \n",
      "\n",
      "         accuracy      loss\n",
      "lstm       0.8656  0.418393\n",
      "gru        0.8446  0.402031\n",
      "bi-lstm    0.8534  0.372993\n",
      "bi-gru     0.8524  0.391824\n"
     ]
    }
   ],
   "source": [
    "print(\"Accuracy and loss for models using unseen validation data: \\n\")\n",
    "print(uvalid_df)"
   ]
  },
  {
   "cell_type": "markdown",
   "metadata": {},
   "source": [
    "Because the validation sets were used to optmize the parameters for each one of the four trained models, we cannot use those values to determine which model has the best performance. Hence, we use an set of unseen validation data to compare the accuracy obtained by each of the four trained models. From these results we select our best RNN architecture. According to the values shown above, the LSTM model has the best performance. We use this model for the rest of the assignment. \n",
    "\n",
    "Due to the models having similar accuracy values, the best model could change if we run the procedure several times."
   ]
  },
  {
   "cell_type": "markdown",
   "metadata": {},
   "source": [
    "### 3. Feature extraction"
   ]
  },
  {
   "cell_type": "markdown",
   "metadata": {},
   "source": [
    "#### Tasks: \n",
    "\n",
    "* Choose one model with the best performance and use the model to produce ”neural codes” (document embedding) of raw text (5000 instances of unseen validation set) from RNN layer.\n",
    "*  Use tSNE to reduce the dimension of extracted text features (encoded version of 5000 documents) into two (2) dimensions and visualize it towards their sentiment labels.\n"
   ]
  },
  {
   "cell_type": "code",
   "execution_count": 45,
   "metadata": {},
   "outputs": [],
   "source": [
    "# load the trained model\n",
    "from keras.models import load_model\n",
    "\n",
    "# YOUR CODE HERE\n",
    "# choose the best model\n",
    "\n",
    "model = load_model('lstm_model.h5')\n",
    "model.load_weights('weights_lstm_model.hdf5')\n",
    "model_encoder = Model(inputs=model.input, outputs=model.get_layer(\"word_embedding\").output)\n"
   ]
  },
  {
   "cell_type": "markdown",
   "metadata": {},
   "source": [
    "#### Produce Neural codes of text reviews"
   ]
  },
  {
   "cell_type": "code",
   "execution_count": 46,
   "metadata": {},
   "outputs": [],
   "source": [
    "# YOUR CODE HERE\n",
    "# generate \"neural codes\" (document embedding) from the model\n",
    "doc_embedding = model_encoder.predict(X_test)"
   ]
  },
  {
   "cell_type": "code",
   "execution_count": 47,
   "metadata": {},
   "outputs": [
    {
     "data": {
      "text/plain": [
       "(5000, 72000)"
      ]
     },
     "execution_count": 47,
     "metadata": {},
     "output_type": "execute_result"
    }
   ],
   "source": [
    "from sklearn.decomposition import PCA\n",
    "\n",
    "dimData = np.prod(doc_embedding.shape[1:])\n",
    "doc_embedding_flat = doc_embedding.reshape((doc_embedding.shape[0], -1))\n",
    "doc_embedding_flat.shape"
   ]
  },
  {
   "cell_type": "code",
   "execution_count": 48,
   "metadata": {},
   "outputs": [
    {
     "name": "stdout",
     "output_type": "stream",
     "text": [
      "(5000, 600, 120)\n",
      "72000\n",
      "(5000, 72000)\n",
      "(5000, 500)\n"
     ]
    }
   ],
   "source": [
    "pca = PCA(n_components=500)\n",
    "pca.fit(doc_embedding_flat)\n",
    "reduced_doc_embedding = pca.transform(doc_embedding_flat)\n",
    "\n",
    "print(doc_embedding.shape)\n",
    "print(dimData)\n",
    "#print(doc_embedding[0])\n",
    "print(doc_embedding_flat.shape)\n",
    "print(reduced_doc_embedding.shape)"
   ]
  },
  {
   "cell_type": "markdown",
   "metadata": {},
   "source": [
    "### PCA transform explanation\n",
    "\n",
    "For each sequence we extract its neural codes using the embedding layer obtained from the training procedure. The neural codes obtained have a large dimensionality because they are a sequence of 600 words represented as embeddings. If we apply the tSNE transformation on these neural codes the tSNE algorithm performs bad. As recommended by [Laurens van der Maaten](https://lvdmaaten.github.io/tsne/#faq) we apply PCA first to reduce the dimensionality of the neural codes and then apply tSNE.\n"
   ]
  },
  {
   "cell_type": "markdown",
   "metadata": {},
   "source": [
    "#### tSNE visualization"
   ]
  },
  {
   "cell_type": "code",
   "execution_count": 49,
   "metadata": {},
   "outputs": [
    {
     "data": {
      "image/png": "[encoded data removed]",
      "text/plain": [
       "<matplotlib.figure.Figure at 0x7f07d8098080>"
      ]
     },
     "metadata": {},
     "output_type": "display_data"
    }
   ],
   "source": [
    "# YOUR CODE HERE\n",
    "from sklearn.manifold import TSNE\n",
    "import matplotlib.pyplot as plt\n",
    "\n",
    "color_names = [\"red\", \"blue\"]\n",
    "colors = []\n",
    "for label in y_test:\n",
    "    # negative label\n",
    "    if label == 0:\n",
    "        colors.append(\"red\")\n",
    "    # positive label\n",
    "    else:\n",
    "        colors.append(\"blue\")\n",
    "\n",
    "# use tSNE to plot document embedding on its sentiment label\n",
    "tsne = TSNE(n_components=2, init='pca', random_state=0)\n",
    "X_test_projection = tsne.fit_transform(reduced_doc_embedding).T\n",
    "fig = plt.figure(figsize=(15, 8))\n",
    "plt.scatter(X_test_projection[0],\n",
    "            X_test_projection[1],\n",
    "            c=colors)\n",
    "plt.show()"
   ]
  },
  {
   "cell_type": "markdown",
   "metadata": {},
   "source": [
    "### tSNE visualization description\n",
    "\n",
    "The reduced neural codes are plotted in the image shown above using a tNSE transformation. Negative sentences are shown as red dots and positive sentences as blue dots. From the figure we observe that there is not a clear distinction between positive and negative sentences. This could be caused by a lot of distortion introduced in the 2d vector after applying two dimensionality reduction techniques to convert a sequence of 600 vectors with 120 dimensions to a 2d vector.\n",
    "\n",
    "We also tried applying the tSNE directly, without using a PCA reduction first, and the results were similar, but the time to compute the tSNE transformantion increased from several minutes to several hours."
   ]
  },
  {
   "cell_type": "markdown",
   "metadata": {},
   "source": [
    "### 4. One shot learning on multi-class classification"
   ]
  },
  {
   "cell_type": "markdown",
   "metadata": {},
   "source": [
    "#### Tasks: \n",
    "\n",
    "* Use the RNN model that has been trained on binary classification task to extract features from different data set (Amazon product reviews)\n",
    "* Define and implement an approach to assign labels on unlabelled set of reviews, by using the concept of \"one shot learning\"\n",
    "* Compute accuracy, given ground truth labels\n",
    "* Discuss the results "
   ]
  },
  {
   "cell_type": "markdown",
   "metadata": {},
   "source": [
    "Explain how the approach works.\n",
    "\n",
    "\n",
    "#### Answer:\n",
    "\n",
    "Our one shot learning procedure works as follows:\n",
    "* We use the embedding layer to obtain vector representations of our labeled and unlabeled amazon product reviews. We expect that the embedding layer is able to produce good representations because it was trained on another review dataset.\n",
    "* Using the euclidean distance we compare each unlabeled review against each labeled review. Each unlabel review is assigned a label corresponding to the most similar labeled review.\n",
    "* The euclidean distance is used instead of the cosine similarity because for the latter we can obtain negative similarity values, which don't make much sense considering that the embeddings represent text information.\n",
    "\n",
    "If we add more unlabeled examples or labeled ones, this procedure still works without the need of retraining anything."
   ]
  },
  {
   "cell_type": "code",
   "execution_count": 50,
   "metadata": {},
   "outputs": [
    {
     "name": "stdout",
     "output_type": "stream",
     "text": [
      "         label                                             review\n",
      "0       camera  My husband bought this camera about 3 months a...\n",
      "1       laptop  I got this notebook several months ago and I'v...\n",
      "2  mobilephone  I have this phone for about 10 months.  The ca...\n",
      "                                              review\n",
      "0  I purchased the 20d in Feb 2011, around 7 year...\n",
      "1  It's been 3 weeks now and I've only had minor ...\n",
      "2  I purchased this Z Series laptop about 5 month...\n",
      "3  When I first got this laptop (at a garage sale...\n",
      "4  I love this phone. I've had my own for over a ...\n",
      "5  I purchased this camera to replace my Casio EX...\n",
      "6  My perfect camera has to do two things very we...\n"
     ]
    }
   ],
   "source": [
    "# load datasets\n",
    "amazon_labelled_data = pd.read_csv(os.path.join(DATA_PATH,\"example1_labelled.tsv\"), header=0, delimiter=\"\\t\")\n",
    "amazon_unlabelled_data = pd.read_csv(os.path.join(DATA_PATH,\"example2_unlabelled.tsv\"), header=0, delimiter=\"\\t\")\n",
    "print(amazon_labelled_data)\n",
    "print(amazon_unlabelled_data)"
   ]
  },
  {
   "cell_type": "code",
   "execution_count": 51,
   "metadata": {},
   "outputs": [
    {
     "name": "stdout",
     "output_type": "stream",
     "text": [
      "{0: 'camera', 1: 'laptop', 2: 'mobilephone'}\n"
     ]
    }
   ],
   "source": [
    "# process datasets\n",
    "amazon_train_docs = []\n",
    "amazon_labels_dict = {}\n",
    "amazon_train_labels = []\n",
    "i = 0\n",
    "for cont, label in zip(amazon_labelled_data.review, amazon_labelled_data.label):\n",
    "    doc = clean(striphtml(cont))\n",
    "    doc = doc.lower() \n",
    "    amazon_train_docs.append(doc)\n",
    "    amazon_labels_dict[i] = label\n",
    "    amazon_train_labels.append(i)\n",
    "    i+=1\n",
    "    \n",
    "print(amazon_labels_dict)\n",
    "    \n",
    "amazon_test_docs =[]\n",
    "amazon_test_labels = []\n",
    "for cont in amazon_unlabelled_data.review:\n",
    "    doc = clean(striphtml(cont))\n",
    "    doc = doc.lower() \n",
    "    amazon_test_docs.append(doc)\n",
    "    \n",
    "# create tokens\n",
    "amazon_train_str_tokens = []\n",
    "for text in amazon_train_docs:\n",
    "    amazon_train_str_tokens.append(tokenizeWords(text))\n",
    "    \n",
    "amazon_test_str_tokens = []\n",
    "for text in amazon_test_docs:\n",
    "    amazon_test_str_tokens.append(tokenizeWords(text))\n",
    "\n",
    "    \n",
    "# create list of list of numeric tokens\n",
    "amazon_train_int_input = []\n",
    "for i, text in enumerate(amazon_train_str_tokens):\n",
    "    int_tokens = [indices_words[w] if w in indices_words.keys() else indices_words['<unk>'] for w in text ]\n",
    "    amazon_train_int_input.append(int_tokens)\n",
    "\n",
    "amazon_test_int_input = []\n",
    "for i, text in enumerate(amazon_test_str_tokens):\n",
    "    int_tokens = [indices_words[w] if w in indices_words.keys() else indices_words['<unk>'] for w in text ]\n",
    "    amazon_test_int_input.append(int_tokens)\n",
    "    \n",
    "\n",
    "## represent training and test sets as arrays\n",
    "from keras.utils.np_utils import to_categorical\n",
    "X_amazon_train_arr = np.array(amazon_train_int_input)\n",
    "y_amazon_train = to_categorical(np.array(amazon_train_labels))\n",
    "#print(y_amazon_train)\n",
    "X_amazon_test_arr = np.array(amazon_test_int_input)\n",
    "#y_amazon_test = np.array()\n",
    "\n",
    "## Apply padding to the sequences\n",
    "from keras.preprocessing import sequence\n",
    "\n",
    "X_amazon_train = sequence.pad_sequences(X_amazon_train_arr, maxlen=MAX_REVIEW_LENGTH, value=0)\n",
    "X_amazon_test = sequence.pad_sequences(X_amazon_test_arr, maxlen=MAX_REVIEW_LENGTH, value=0)\n"
   ]
  },
  {
   "cell_type": "code",
   "execution_count": 52,
   "metadata": {},
   "outputs": [],
   "source": [
    "from keras.models import load_model\n",
    "from keras.layers import Embedding, Input, LSTM, Dense, GRU, Bidirectional\n",
    "from keras.models import Model\n",
    "\n",
    "#num_epochs = 15\n",
    "\n",
    "## load best model\n",
    "model = load_model('lstm_model.h5')\n",
    "model.load_weights('weights_lstm_model.hdf5')\n",
    "## Select part of the model\n",
    "model_encoder = Model(inputs=model.input, outputs=model.get_layer(\"lstm_layer\").output)\n",
    "## Add dense layer to the model\n",
    "\n",
    "amazon_train_encoding = model_encoder.predict(X_amazon_train)\n",
    "amazon_test_encoding = model_encoder.predict(X_amazon_test)\n"
   ]
  },
  {
   "cell_type": "code",
   "execution_count": 61,
   "metadata": {},
   "outputs": [
    {
     "name": "stdout",
     "output_type": "stream",
     "text": [
      "['laptop', 'camera', 'mobilephone', 'camera', 'mobilephone', 'camera', 'mobilephone']\n"
     ]
    }
   ],
   "source": [
    "# from sklearn.metrics.pairwise import cosine_similarity\n",
    "# \n",
    "from sklearn.metrics.pairwise import euclidean_distances\n",
    "\n",
    "train_info = []\n",
    "for i, element in enumerate(amazon_train_encoding):\n",
    "    label = amazon_labels_dict[i]\n",
    "    train_info.append((element, label))\n",
    "#print(train_info)\n",
    "\n",
    "test_reviews_labels = []\n",
    "for encoded_test_review in amazon_test_encoding:\n",
    "    label = None\n",
    "    distance = 0.0\n",
    "    for element in train_info:\n",
    "        encoded_train_review = element[0]\n",
    "        element_label = element[1]\n",
    "        #print(encoded_test_review)\n",
    "        #print(encoded_test_review.reshape(1, -1))\n",
    "        #print(encoded_train_review)\n",
    "        current_distance = euclidean_distances(encoded_test_review.reshape(1, -1), encoded_train_review.reshape(1, -1))\n",
    "        #print(current_distance)\n",
    "        if label == None:\n",
    "            distance = current_distance\n",
    "            label = element_label\n",
    "        if current_distance < distance:\n",
    "            label = element_label\n",
    "            distance = current_distance\n",
    "            \n",
    "    test_reviews_labels.append(label)\n",
    "\n",
    "print(test_reviews_labels)\n"
   ]
  },
  {
   "cell_type": "code",
   "execution_count": 62,
   "metadata": {},
   "outputs": [
    {
     "name": "stdout",
     "output_type": "stream",
     "text": [
      "I purchased the 20d in Feb 2011, around 7 years after it was first introduced. The camera was so good built that it looked like new and seemed like it will last another 5 years. I bought it for less t\n",
      "It's been 3 weeks now and I've only had minor voice mail setup issues.  The phone itself is the best I've had in years.  Clear calls and it gets signals where my previous AT&T service would not.  My g\n",
      "I purchased this Z Series laptop about 5 months ago, its my first Sony laptop, Im a Mac fan, but not any more I guess... I gave my sister my macbook pro, and the change has been great. I was looking f\n",
      "When I first got this laptop (at a garage sale, broken) It was really slow and leggy so I installed Linux Mint.  Right away I noticed a huge difference but it was still not fast enough to be my daily \n",
      "I love this phone. I've had my own for over a year now and have since bought one for my son and for my daughter. Battery life is excellent, more features that I could dream of using. The phone camera \n",
      "I purchased this camera to replace my Casio EX-Z4 which broke.  This camera takes great photos.  The controls are much easier to access than my EX-Z4.  i.e. there is a dedicated delete button, dedicat\n",
      "My perfect camera has to do two things very well.  First, it has to deliver superior results.  Second, it has to be portable.  I think this Olympus C-7000 comes the closest to perfect and this is the \n"
     ]
    }
   ],
   "source": [
    "print(amazon_unlabelled_data.review[0][:200])\n",
    "print(amazon_unlabelled_data.review[1][:200])\n",
    "print(amazon_unlabelled_data.review[2][:200])\n",
    "print(amazon_unlabelled_data.review[3][:200])\n",
    "print(amazon_unlabelled_data.review[4][:200])\n",
    "print(amazon_unlabelled_data.review[5][:200])\n",
    "print(amazon_unlabelled_data.review[6][:200])\n",
    "#print(amazon)"
   ]
  },
  {
   "cell_type": "markdown",
   "metadata": {},
   "source": [
    "From the one-shot learning procedure and the the text in the reviews we obtain the following information:\n",
    "* The first sentence is assigned label __laptop__, and it's label should be __camera__.\n",
    "* The second sentence is assigned label __camera__, and it's label should be __mobilephone__.\n",
    "* The third sentence is assigned label __mobilephone__, and it's label should be __laptop__.\n",
    "* The fourth sentence is assigned label __camera__, and it's label should be __laptop__.\n",
    "* The fifth sentence is assigned label __mobilephone__, and it's label should be __mobilephone__.\n",
    "* The sixth sentence is assigned label __camera__, and it's label should be __camera__.\n",
    "* The seventh sentence is assigned label __mobilephone__, and it's label should be __camera__.\n",
    "\n",
    "Therefore, the overall accuracy for our one shot learning approach is 2/7"
   ]
  },
  {
   "cell_type": "markdown",
   "metadata": {},
   "source": [
    "Discuss the result. Why it works -- or why it does not work.\n",
    "\n",
    "#### Answer:\n",
    "\n",
    "Our one-shot learning procedure doesn't seem to work. We think this happens because instead of learning a distance metric  for the one-shot learning procedure, we used a generic distance metric and the embeddings obtained from our LSTM model. Also, the movies reviews are different than the amazon reviews. When trying to apply transfern learning, we are limited to the amount of reviews used to train our model, which is a very small dataset compared to other used to obtain embeddings like the Glove datasets."
   ]
  }
 ],
 "metadata": {
  "kernelspec": {
   "display_name": "Python 3",
   "language": "python",
   "name": "python3"
  },
  "language_info": {
   "codemirror_mode": {
    "name": "ipython",
    "version": 3
   },
   "file_extension": ".py",
   "mimetype": "text/x-python",
   "name": "python",
   "nbconvert_exporter": "python",
   "pygments_lexer": "ipython3",
   "version": "3.5.2"
  }
 },
 "nbformat": 4,
 "nbformat_minor": 2
}
