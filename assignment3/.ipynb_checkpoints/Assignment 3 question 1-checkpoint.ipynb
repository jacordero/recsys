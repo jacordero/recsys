{
 "cells": [
  {
   "cell_type": "markdown",
   "metadata": {
    "colab_type": "text",
    "id": "uj4T8PEHGbMF"
   },
   "source": [
    "# Assignment 3\n",
    "## Question 1: Siamese networks & one-shot learning (8pt)\n",
    "The Cifar-100 dataset is similar to the Cifar-10 dataset. It also consists of 60,000 32x32 RGB images, but they are distributed over 100 classes instead of 10. Thus, each class has much less examples, only 500 training images and 100 testing images per class. For more info about the dataset, see https://www.cs.toronto.edu/~kriz/cifar.html.\n",
    "\n",
    "*HINT: Import the Cifar-100 dataset directly from Keras, no need to download it from the website. Use* `label_mode=\"fine\"`\n",
    "\n",
    "### Task 1.1: Siamese network\n",
    "**a)**\n",
    "* Train a Siamese Network on the first 80 classes of (the training set of) Cifar-100, i.e. let the network predict the probability that two input images are from the same class. Use 1 as a target for pairs of images from the same class (positive pairs), and 0 for pairs of images from different classes (negative pairs). Randomly select image pairs from Cifar-100, but make sure you train on as many positive pairs as negative pairs.\n",
    "\n",
    "* Evaluate the performance of the network on 20-way one-shot learning tasks. Do this by generating 250 random tasks and obtain the average accuracy for each evaluation round. Use the remaining 20 classes that were not used for training. The model should perform better than random guessing.\n",
    "\n",
    "For this question you may ignore the test set of Cifar-100; it suffices to use only the training set and split this, using the first 80 classes for training and the remaining 20 classes for one-shot testing.\n",
    "\n",
    "*HINT: First sort the data by their labels (see e.g.* `numpy.argsort()`*), then reshape the data to a shape of* `(n_classes, n_examples, width, height, depth)`*, similar to the Omniglot data in Practical 4. It is then easier to split the data by class, and to sample positive and negative images pairs for training the Siamese network.*\n",
    "\n",
    "*NOTE: do not expect the one-shot accuracy for Cifar-100 to be similar to that accuracy for Omniglot; a lower accuracy can be expected. However, accuracy higher than random guess is certainly achievable.*"
   ]
  },
  {
   "cell_type": "code",
   "execution_count": 2,
   "metadata": {},
   "outputs": [],
   "source": [
    "from keras.layers import Input, Conv2D, Lambda, Dense, Flatten, MaxPooling2D, Dropout, BatchNormalization\n",
    "from keras.models import Model, Sequential\n",
    "from keras.regularizers import l2\n",
    "from keras import backend as K\n",
    "from keras.losses import binary_crossentropy\n",
    "import numpy as np\n",
    "import os\n",
    "import pickle\n",
    "import matplotlib.pyplot as plt\n",
    "from sklearn.utils import shuffle"
   ]
  },
  {
   "cell_type": "code",
   "execution_count": 53,
   "metadata": {},
   "outputs": [
    {
     "name": "stdout",
     "output_type": "stream",
     "text": [
      "_________________________________________________________________\n",
      "Layer (type)                 Output Shape              Param #   \n",
      "=================================================================\n",
      "conv2d_70 (Conv2D)           (None, 30, 30, 32)        896       \n",
      "_________________________________________________________________\n",
      "max_pooling2d_61 (MaxPooling (None, 15, 15, 32)        0         \n",
      "_________________________________________________________________\n",
      "batch_normalization_75 (Batc (None, 15, 15, 32)        128       \n",
      "_________________________________________________________________\n",
      "dropout_60 (Dropout)         (None, 15, 15, 32)        0         \n",
      "_________________________________________________________________\n",
      "conv2d_71 (Conv2D)           (None, 14, 14, 64)        8256      \n",
      "_________________________________________________________________\n",
      "max_pooling2d_62 (MaxPooling (None, 7, 7, 64)          0         \n",
      "_________________________________________________________________\n",
      "batch_normalization_76 (Batc (None, 7, 7, 64)          256       \n",
      "_________________________________________________________________\n",
      "dropout_61 (Dropout)         (None, 7, 7, 64)          0         \n",
      "_________________________________________________________________\n",
      "conv2d_72 (Conv2D)           (None, 6, 6, 64)          16448     \n",
      "_________________________________________________________________\n",
      "max_pooling2d_63 (MaxPooling (None, 3, 3, 64)          0         \n",
      "_________________________________________________________________\n",
      "batch_normalization_77 (Batc (None, 3, 3, 64)          256       \n",
      "_________________________________________________________________\n",
      "dropout_62 (Dropout)         (None, 3, 3, 64)          0         \n",
      "_________________________________________________________________\n",
      "conv2d_73 (Conv2D)           (None, 3, 3, 128)         8320      \n",
      "_________________________________________________________________\n",
      "flatten_29 (Flatten)         (None, 1152)              0         \n",
      "_________________________________________________________________\n",
      "batch_normalization_78 (Batc (None, 1152)              4608      \n",
      "_________________________________________________________________\n",
      "dropout_63 (Dropout)         (None, 1152)              0         \n",
      "_________________________________________________________________\n",
      "dense_70 (Dense)             (None, 1024)              1180672   \n",
      "=================================================================\n",
      "Total params: 1,219,840\n",
      "Trainable params: 1,217,216\n",
      "Non-trainable params: 2,624\n",
      "_________________________________________________________________\n",
      "__________________________________________________________________________________________________\n",
      "Layer (type)                    Output Shape         Param #     Connected to                     \n",
      "==================================================================================================\n",
      "input_11 (InputLayer)           (None, 32, 32, 3)    0                                            \n",
      "__________________________________________________________________________________________________\n",
      "input_12 (InputLayer)           (None, 32, 32, 3)    0                                            \n",
      "__________________________________________________________________________________________________\n",
      "sequential_29 (Sequential)      (None, 1024)         1219840     input_11[0][0]                   \n",
      "                                                                 input_12[0][0]                   \n",
      "__________________________________________________________________________________________________\n",
      "lambda_6 (Lambda)               (None, 1024)         0           sequential_29[1][0]              \n",
      "                                                                 sequential_29[2][0]              \n",
      "__________________________________________________________________________________________________\n",
      "dense_71 (Dense)                (None, 1)            1025        lambda_6[0][0]                   \n",
      "==================================================================================================\n",
      "Total params: 1,220,865\n",
      "Trainable params: 1,218,241\n",
      "Non-trainable params: 2,624\n",
      "__________________________________________________________________________________________________\n"
     ]
    }
   ],
   "source": [
    "input_shape = (32, 32, 3)\n",
    "left_input = Input(input_shape)\n",
    "right_input = Input(input_shape)\n",
    "\n",
    "# build convnet to use in each siamese 'leg'\n",
    "convnet = Sequential()\n",
    "convnet.add(Conv2D(32, (3,3), activation='relu', input_shape=input_shape, kernel_regularizer=l2(2e-4)))\n",
    "convnet.add(MaxPooling2D())\n",
    "convnet.add(BatchNormalization())\n",
    "convnet.add(Dropout(0.25))\n",
    "convnet.add(Conv2D(64, (2,2), activation='relu', kernel_regularizer=l2(2e-4)))\n",
    "convnet.add(MaxPooling2D())\n",
    "convnet.add(BatchNormalization())\n",
    "convnet.add(Dropout(0.25))\n",
    "convnet.add(Conv2D(64, (2,2), activation='relu', kernel_regularizer=l2(2e-4)))\n",
    "convnet.add(MaxPooling2D())\n",
    "convnet.add(BatchNormalization())\n",
    "convnet.add(Dropout(0.25))\n",
    "convnet.add(Conv2D(128, (1,1), activation='relu', kernel_regularizer=l2(2e-4)))\n",
    "convnet.add(Flatten())\n",
    "convnet.add(BatchNormalization())\n",
    "convnet.add(Dropout(0.25))\n",
    "convnet.add(Dense(1024, activation=\"sigmoid\", kernel_regularizer=l2(1e-3)))\n",
    "convnet.summary()\n",
    "\n",
    "# encode each of the two inputs into a vector with the convnet\n",
    "encoded_l = convnet(left_input)\n",
    "encoded_r = convnet(right_input)\n",
    "\n",
    "# merge two encoded inputs with the L1 distance between them, and connect to prediction output layer\n",
    "L1_distance = lambda x: K.abs(x[0]-x[1])\n",
    "both = Lambda(L1_distance)([encoded_l, encoded_r])\n",
    "prediction = Dense(1, activation='sigmoid')(both)\n",
    "siamese_net = Model(inputs=[left_input,right_input], outputs=prediction)\n",
    "\n",
    "\n",
    "siamese_net.compile(loss=\"binary_crossentropy\", optimizer=\"adam\")\n",
    "\n",
    "siamese_net.summary()"
   ]
  },
  {
   "cell_type": "code",
   "execution_count": 58,
   "metadata": {},
   "outputs": [
    {
     "name": "stdout",
     "output_type": "stream",
     "text": [
      "(80, 500, 32, 32, 3)\n",
      "Epoch 1/10\n",
      "100/100 [==============================] - 16s 156ms/step - loss: 1.0829\n",
      "Epoch 2/10\n",
      "100/100 [==============================] - 16s 164ms/step - loss: 0.9469\n",
      "Epoch 3/10\n",
      "100/100 [==============================] - 17s 169ms/step - loss: 0.8680\n",
      "Epoch 4/10\n",
      "100/100 [==============================] - 17s 172ms/step - loss: 0.8380\n",
      "Epoch 5/10\n",
      "100/100 [==============================] - 17s 165ms/step - loss: 0.8179\n",
      "Epoch 6/10\n",
      "100/100 [==============================] - 16s 164ms/step - loss: 0.7904\n",
      "Epoch 7/10\n",
      "100/100 [==============================] - 17s 169ms/step - loss: 0.7943\n",
      "Epoch 8/10\n",
      "100/100 [==============================] - 17s 165ms/step - loss: 0.7854\n",
      "Epoch 9/10\n",
      "100/100 [==============================] - 16s 162ms/step - loss: 0.7700\n",
      "Epoch 10/10\n",
      "100/100 [==============================] - 17s 168ms/step - loss: 0.7727\n"
     ]
    }
   ],
   "source": [
    "from keras.datasets import cifar100\n",
    "import numpy as np\n",
    "\n",
    "(x_train, y_train), (x_test, y_test) = cifar100.load_data(label_mode='fine')\n",
    "\n",
    "x_train_sorted = x_train[np.argsort(y_train, axis=0)]\n",
    "y_train_sorted = np.sort(y_train, axis=0)\n",
    "\n",
    "x_train_sorted = np.reshape(x_train_sorted, (100, 500, 32, 32, 3))\n",
    "\n",
    "x_train_80, x_train_20 = x_train_sorted[:80], x_train_sorted[80:]\n",
    "y_train_80, y_train_20 = y_train_sorted[:80], y_train_sorted[80:]\n",
    "\n",
    "print(x_train_80.shape)\n",
    "# batch_size = 80\n",
    "# n_examples, width, height, depth = x_train.shape\n",
    "\n",
    "def get_batch(batch_size, X):\n",
    "    \"\"\"Create batch of n pairs, half same class, half different class\"\"\"\n",
    "    n_classes, n_examples, w, h, z = X.shape\n",
    "    # randomly sample several classes to use in the batch\n",
    "    categories = np.random.choice(n_classes, size=(batch_size,), replace=False)\n",
    "    # initialize 2 empty arrays for the input image batch\n",
    "    pairs = [np.zeros((batch_size, h, w, z)) for i in range(2)]\n",
    "    # initialize vector for the targets, and make one half of it '1's, so 2nd half of batch has same class\n",
    "    targets = np.zeros((batch_size,))\n",
    "    targets[batch_size//2:] = 1\n",
    "    for i in range(batch_size):\n",
    "        category = categories[i]\n",
    "        idx_1 = np.random.randint(0, n_examples)\n",
    "        pairs[0][i, :, :, :] = X[category, idx_1].reshape(w, h, z)\n",
    "        idx_2 = np.random.randint(0, n_examples)\n",
    "        # pick images of same class for 1st half, different for 2nd\n",
    "        if i >= batch_size // 2:\n",
    "            category_2 = category\n",
    "        else:\n",
    "            #add a random number to the category modulo n_classes to ensure 2nd image has different category\n",
    "            category_2 = (category + np.random.randint(1,n_classes)) % n_classes\n",
    "        pairs[1][i, :, :, :] = X[category_2,idx_2].reshape(w, h, z)\n",
    "    return pairs, targets\n",
    "\n",
    "def batch_generator(batch_size, X):\n",
    "    \"\"\"a generator for batches, so model.fit_generator can be used. \"\"\"\n",
    "    while True:\n",
    "        pairs, targets = get_batch(batch_size, X)\n",
    "        yield (pairs, targets)\n",
    "\n",
    "def train(model, X_train, batch_size=64, steps_per_epoch=100, epochs=10):\n",
    "    model.fit_generator(batch_generator(batch_size, X_train), steps_per_epoch=steps_per_epoch, epochs=epochs)\n",
    "\n",
    "train(siamese_net, x_train_80)"
   ]
  },
  {
   "cell_type": "code",
   "execution_count": 60,
   "metadata": {},
   "outputs": [
    {
     "name": "stdout",
     "output_type": "stream",
     "text": [
      "Evaluating model on 250 random 20-way one-shot learning tasks ...\n",
      "Got an average of 11.6% accuracy for 20-way one-shot learning\n"
     ]
    },
    {
     "data": {
      "text/plain": [
       "11.6"
      ]
     },
     "execution_count": 60,
     "metadata": {},
     "output_type": "execute_result"
    }
   ],
   "source": [
    "def make_oneshot_task(N, X, c, language=None):\n",
    "    \"\"\"Create pairs of (test image, support set image) with ground truth, for testing N-way one-shot learning.\"\"\"\n",
    "    n_classes, n_examples, w, h, z = X.shape\n",
    "    indices = np.random.randint(0, n_examples, size=(N,))\n",
    "    if language is not None:\n",
    "        low, high = c[language]\n",
    "        if N > high - low:\n",
    "            raise ValueError(\"This language ({}) has less than {} letters\".format(language, N))\n",
    "        categories = np.random.choice(range(low,high), size=(N,), replace=False)\n",
    "    else:  # if no language specified just pick a bunch of random letters\n",
    "        categories = np.random.choice(range(n_classes), size=(N,), replace=False)            \n",
    "    true_category = categories[0]\n",
    "    ex1, ex2 = np.random.choice(n_examples, replace=False, size=(2,))\n",
    "    test_image = np.asarray([X[true_category, ex1, :, :]]*N).reshape(N, w, h, z)\n",
    "    support_set = X[categories, indices, :, :]\n",
    "    support_set[0, :, :] = X[true_category, ex2]\n",
    "    support_set = support_set.reshape(N, w, h, z)\n",
    "    targets = np.zeros((N,))\n",
    "    targets[0] = 1\n",
    "    targets, test_image, support_set = shuffle(targets, test_image, support_set)\n",
    "    pairs = [test_image, support_set]\n",
    "    return pairs, targets\n",
    "\n",
    "def test_oneshot(model, X, c, N=20, k=250, language=None, verbose=True):\n",
    "    \"\"\"Test average N-way oneshot learning accuracy of a siamese neural net over k one-shot tasks.\"\"\"\n",
    "    n_correct = 0\n",
    "    if verbose:\n",
    "        print(\"Evaluating model on {} random {}-way one-shot learning tasks ...\".format(k, N))\n",
    "    for i in range(k):\n",
    "        inputs, targets = make_oneshot_task(N, X, c, language=language)\n",
    "        probs = model.predict(inputs)\n",
    "        if np.argmax(probs) == np.argmax(targets):\n",
    "            n_correct += 1\n",
    "    percent_correct = (100.0*n_correct / k)\n",
    "    if verbose:\n",
    "        print(\"Got an average of {}% accuracy for {}-way one-shot learning\".format(percent_correct, N))\n",
    "    return percent_correct\n",
    "\n",
    "test_oneshot(siamese_net, x_train_80, y_train_80)"
   ]
  },
  {
   "cell_type": "markdown",
   "metadata": {
    "colab_type": "text",
    "id": "MaivGyk_AVTY"
   },
   "source": [
    "***\n",
    "\n",
    "**b)** Briefly motivate your model's architecture, as well as its performance. What accuracy would random guessing achieve (on average)?\n",
    "\n",
    "**Answer:**\n"
   ]
  },
  {
   "cell_type": "markdown",
   "metadata": {
    "colab_type": "text",
    "id": "lQVd8vHrAYEX"
   },
   "source": [
    "The model that is used for the one-shot learning task consists of 4 convolutional layers with respectively 32, 64, 64 and 128 filters. These amounts of filters were necessary to catch all the features of the images and obtain an accuracy higher than random guessing. Between each convolutional layers there are Maxpool layers with size 2x2 to reduce the dimensionality of the image, followed by batch normalization to increase the training speed and dropout to avoid overfitting on the train data. The last convolutional layer is followed by a Flatten layer en subsequently a dense hidden layer with 1024 neurons and sigmoid activation in order to limit the output vector of an image to zeros and ones. This model is taken as both the left and right input leg of the next model which only has a dense layer with one neuron and sigmoid activation, because it is binary classification: either the two images are from the same class or not. The loss function belonging to this final model is binary cross entropy, because as said before: it is about binary classification.\n",
    "\n",
    "In each of the 250 random tasks there are 20 possible classes where only 1 is correct, so guessing would result in an accuracy of 5% while the model has an accuracy aboce 10% which is twice as high."
   ]
  },
  {
   "cell_type": "markdown",
   "metadata": {
    "colab_type": "text",
    "id": "COiAqXWDAgCe"
   },
   "source": [
    "***\n",
    "\n",
    "**c)** Compare the performance of your Siamese network for Cifar-100 to the Siamese network from Practical 4 for Omniglot. Name three fundamental differences between the Cifar-100 and Omniglot datasets. How do these differences influence the difference in one-shot accuracy?\n",
    "\n",
    "**Answer:**"
   ]
  },
  {
   "cell_type": "markdown",
   "metadata": {
    "colab_type": "text",
    "id": "IIHkoQ0PBWuB"
   },
   "source": [
    "First major difference is that the Omniglot dataset contains images of a resolution (105x105), while the images in the Cifar-100 dataset are (28x28). Cecause these images are much smaller they contain less features, making it harder to extract global patterns to recognize a character.\n",
    "\n",
    "Second difference is that every pixel in the Omniglot dataset has a greyscale from 0 to 1, while every pixel in the image of the Cifar-100 dataset has a RGB code. This might cause that images look less similar to each other and it is more difficult to make the right classification.\n",
    "\n",
    "Third and last difference is that the Omniglot dataset only consists of 20 classes while the Cifar-100 dataset has 100 classes, from which 80 are used for training and 20 for evaluating the model. Having a larger amount of classes makes it harder to create a model with high accuracy."
   ]
  },
  {
   "cell_type": "markdown",
   "metadata": {
    "colab_type": "text",
    "id": "VWpFF_5-Bf4B"
   },
   "source": [
    "***\n",
    "\n",
    "### Task 1.2: One-shot learning with neural codes\n",
    "**a)**\n",
    "* Train a CNN classifier on the first 80 classes of Cifar-100. Make sure it achieves at least 40% classification accuracy on those 80 classes (use the test set to validate this accuracy).\n",
    "* Then use neural codes from one of the later hidden layers of the CNN with L2-distance to evaluate one-shot learning accuracy for the remaining 20 classes of Cifar-100. I.e. for a given one-shot task, obtain neural codes for the test image as well as the support set. Then pick the image from the support set that is closest (in L2-distance) to the test image as your one-shot prediction."
   ]
  },
  {
   "cell_type": "code",
   "execution_count": 92,
   "metadata": {
    "scrolled": true
   },
   "outputs": [
    {
     "name": "stdout",
     "output_type": "stream",
     "text": [
      "_________________________________________________________________\n",
      "Layer (type)                 Output Shape              Param #   \n",
      "=================================================================\n",
      "conv2d_80 (Conv2D)           (None, 30, 30, 32)        896       \n",
      "_________________________________________________________________\n",
      "max_pooling2d_70 (MaxPooling (None, 15, 15, 32)        0         \n",
      "_________________________________________________________________\n",
      "batch_normalization_88 (Batc (None, 15, 15, 32)        128       \n",
      "_________________________________________________________________\n",
      "dropout_73 (Dropout)         (None, 15, 15, 32)        0         \n",
      "_________________________________________________________________\n",
      "conv2d_81 (Conv2D)           (None, 13, 13, 64)        18496     \n",
      "_________________________________________________________________\n",
      "max_pooling2d_71 (MaxPooling (None, 6, 6, 64)          0         \n",
      "_________________________________________________________________\n",
      "batch_normalization_89 (Batc (None, 6, 6, 64)          256       \n",
      "_________________________________________________________________\n",
      "dropout_74 (Dropout)         (None, 6, 6, 64)          0         \n",
      "_________________________________________________________________\n",
      "flatten_33 (Flatten)         (None, 2304)              0         \n",
      "_________________________________________________________________\n",
      "dense_78 (Dense)             (None, 1024)              2360320   \n",
      "_________________________________________________________________\n",
      "neural_codes (Dense)         (None, 512)               524800    \n",
      "_________________________________________________________________\n",
      "batch_normalization_90 (Batc (None, 512)               2048      \n",
      "_________________________________________________________________\n",
      "dropout_75 (Dropout)         (None, 512)               0         \n",
      "_________________________________________________________________\n",
      "dense_79 (Dense)             (None, 80)                41040     \n",
      "=================================================================\n",
      "Total params: 2,947,984\n",
      "Trainable params: 2,946,768\n",
      "Non-trainable params: 1,216\n",
      "_________________________________________________________________\n",
      "Epoch 1/5\n",
      "40000/40000 [==============================] - 67s 2ms/step - loss: 4.0827 - acc: 0.1042\n",
      "Epoch 2/5\n",
      "40000/40000 [==============================] - 60s 1ms/step - loss: 3.3672 - acc: 0.1962\n",
      "Epoch 3/5\n",
      "40000/40000 [==============================] - 61s 2ms/step - loss: 3.0545 - acc: 0.2529\n",
      "Epoch 4/5\n",
      "40000/40000 [==============================] - 64s 2ms/step - loss: 2.8502 - acc: 0.2907\n",
      "Epoch 5/5\n",
      "40000/40000 [==============================] - 68s 2ms/step - loss: 2.7008 - acc: 0.3225\n",
      "8000/8000 [==============================] - 6s 800us/step\n"
     ]
    },
    {
     "data": {
      "text/plain": [
       "[2.735379447221756, 0.318875]"
      ]
     },
     "execution_count": 92,
     "metadata": {},
     "output_type": "execute_result"
    }
   ],
   "source": [
    "from keras.datasets import cifar100\n",
    "from keras.utils import to_categorical\n",
    "import numpy as np\n",
    "\n",
    "(x_train, y_train), (x_test, y_test) = cifar100.load_data(label_mode='fine')\n",
    "\n",
    "x_train_sorted = x_train[np.argsort(y_train, axis=0)]\n",
    "y_train_sorted = np.sort(y_train, axis=0)\n",
    "\n",
    "x_test_sorted = x_test[np.argsort(y_test, axis=0)]\n",
    "y_test_sorted = np.sort(y_test, axis=0)\n",
    "\n",
    "x_train_sorted = np.reshape(x_train_sorted, (50000, 32, 32, 3))\n",
    "x_test_sorted = np.reshape(x_test_sorted, (10000, 32, 32, 3))\n",
    "\n",
    "x_train_80, x_train_20 = x_train_sorted[:40000], x_train_sorted[40000:]\n",
    "y_train_80, y_train_20 = y_train_sorted[:40000], y_train_sorted[40000:]\n",
    "x_test_80, x_test_20 = x_test_sorted[:8000], x_test_sorted[8000:]\n",
    "y_test_80, y_test_20 = y_test_sorted[:8000], y_test_sorted[8000:]\n",
    "\n",
    "cnn = Sequential()\n",
    "\n",
    "cnn.add(Conv2D(32, kernel_size=(3, 3), activation='relu', input_shape=(32, 32, 3)))\n",
    "cnn.add(MaxPooling2D(pool_size=(2, 2)))\n",
    "cnn.add(BatchNormalization())\n",
    "cnn.add(Dropout(0.5))\n",
    "\n",
    "cnn.add(Conv2D(64, kernel_size=(3, 3), activation='relu'))\n",
    "cnn.add(MaxPooling2D(pool_size=(2, 2)))\n",
    "cnn.add(BatchNormalization())\n",
    "cnn.add(Dropout(0.5))\n",
    "\n",
    "cnn.add(Flatten())\n",
    "\n",
    "cnn.add(Dense(1024, activation='relu'))\n",
    "cnn.add(Dense(512, activation='relu', name=\"neural_codes\"))\n",
    "cnn.add(BatchNormalization())\n",
    "cnn.add(Dropout(0.5))\n",
    "cnn.add(Dense(80, activation='softmax'))\n",
    "\n",
    "cnn.summary()\n",
    "\n",
    "cnn.compile(optimizer=\"adam\", loss=\"categorical_crossentropy\", metrics=[\"accuracy\"])\n",
    "cnn.fit(x_train_80, to_categorical(y_train_80), epochs=15, batch_size=256)\n",
    "cnn.evaluate(x_test_80, to_categorical(y_test_80))\n"
   ]
  },
  {
   "cell_type": "code",
   "execution_count": null,
   "metadata": {},
   "outputs": [],
   "source": [
    "from sklearn.neighbors import NearestNeighbors\n",
    "\n",
    "neural_codes_model = Model(inputs=cnn.input, outputs=cnn.get_layer(\"neural_codes\").output)\n",
    "support_set = neural_codes_model.predict(x_train_20)\n",
    "neigh = NearestNeighbors(n_neighbors=1, p=2)\n",
    "neigh.fit(support_set)\n",
    "\n",
    "correct = 0\n",
    "one_shots = neural_codes_model.predict(x_test_20)\n",
    "for idx, one_shot in enumerate(one_shots):\n",
    "    distances, indexes = neigh.kneighbors([one_shots[idx]])\n",
    "    if y_test_20[idx] == y_train_20[indexes[0]]:\n",
    "        correct += 1\n",
    "        \n",
    "print(\"Accuracy is {}\".format(correct/len(one_shots)))\n",
    "\n"
   ]
  },
  {
   "cell_type": "markdown",
   "metadata": {
    "colab_type": "text",
    "id": "M1BDzdPAz26B"
   },
   "source": [
    "***\n",
    "\n",
    "**b)** Briefly motivate your CNN architecture, and discuss the difference in one-shot accuracy between the Siamese network approach and the CNN neural codes approach.\n",
    "\n",
    "**Answer:**"
   ]
  },
  {
   "cell_type": "markdown",
   "metadata": {
    "colab_type": "text",
    "id": "oRpVm956FR8P"
   },
   "source": [
    "The CNN architecture consistso of 2 convolutional layers with respectively 32 and 64 filters, this in order to extract enough features from the dataset. After the convolutional layers there is a Maxpool layer to reduce dimensionality, a batch normalization layer to speed up the training process and a dropout layer with a dropout of 0.5, such a high value is necessary to prevent overfitting (which it still does) on the training data. After this there is a Flatten layer which produces a single vector, followed by 2 hidden dense layers with respectively 1024 and 512 neurons with relu activation. Then there is another batch normalization and dropout layer and finally a layer with 80 neurons (1 for each possible class) with softmax activation. This activation is chosen together with the categorical cross entropy loss function because this is a multi-class classification.\n",
    "\n",
    "The difference between the Siamese network approach and this approach is that for the siamese network pairs are made that either contain characters from the same class (1) or from different classes (0), while in the CNN approach from each image a nerual code is generated which is compared with the support set and the class of the image closest to an image in the support set is assigned as classified class."
   ]
  },
  {
   "cell_type": "code",
   "execution_count": null,
   "metadata": {},
   "outputs": [],
   "source": []
  }
 ],
 "metadata": {
  "accelerator": "GPU",
  "colab": {
   "collapsed_sections": [],
   "default_view": {},
   "name": "Assignment 3 question 1.ipynb",
   "provenance": [],
   "version": "0.3.2",
   "views": {}
  },
  "kernelspec": {
   "display_name": "Python 3",
   "language": "python",
   "name": "python3"
  },
  "language_info": {
   "codemirror_mode": {
    "name": "ipython",
    "version": 3
   },
   "file_extension": ".py",
   "mimetype": "text/x-python",
   "name": "python",
   "nbconvert_exporter": "python",
   "pygments_lexer": "ipython3",
   "version": "3.6.4"
  }
 },
 "nbformat": 4,
 "nbformat_minor": 1
}
